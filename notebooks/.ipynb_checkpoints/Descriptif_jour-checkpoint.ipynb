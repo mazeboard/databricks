{
 "cells": [
  {
   "cell_type": "markdown",
   "id": "75a5d28a",
   "metadata": {},
   "source": [
    "# Evolution des thèmes par jour"
   ]
  },
  {
   "cell_type": "markdown",
   "id": "bc1081e2",
   "metadata": {},
   "source": [
    "Import packages"
   ]
  },
  {
   "cell_type": "code",
   "execution_count": 75,
   "id": "917a3915",
   "metadata": {},
   "outputs": [],
   "source": [
    "import pandas as pd"
   ]
  },
  {
   "cell_type": "markdown",
   "id": "ba0c17a8",
   "metadata": {},
   "source": [
    "On choisit ici la variable à afficher"
   ]
  },
  {
   "cell_type": "markdown",
   "id": "012187c9",
   "metadata": {},
   "source": [
    "Import Data"
   ]
  },
  {
   "cell_type": "code",
   "execution_count": 79,
   "id": "6f1c4fc8",
   "metadata": {},
   "outputs": [
    {
     "data": {
      "text/html": [
       "<div>\n",
       "<style scoped>\n",
       "    .dataframe tbody tr th:only-of-type {\n",
       "        vertical-align: middle;\n",
       "    }\n",
       "\n",
       "    .dataframe tbody tr th {\n",
       "        vertical-align: top;\n",
       "    }\n",
       "\n",
       "    .dataframe thead th {\n",
       "        text-align: right;\n",
       "    }\n",
       "</style>\n",
       "<table border=\"1\" class=\"dataframe\">\n",
       "  <thead>\n",
       "    <tr style=\"text-align: right;\">\n",
       "      <th></th>\n",
       "      <th>content_id</th>\n",
       "      <th>content</th>\n",
       "      <th>username</th>\n",
       "      <th>date</th>\n",
       "      <th>k20</th>\n",
       "    </tr>\n",
       "  </thead>\n",
       "  <tbody>\n",
       "    <tr>\n",
       "      <th>0</th>\n",
       "      <td>339be11c-64f1-4aec-8e34-c32faddfc5ef</td>\n",
       "      <td>مع بقائه https://t.co/vUFN8w3CuL</td>\n",
       "      <td>ASM_brg</td>\n",
       "      <td>2024-07-10 15</td>\n",
       "      <td>0</td>\n",
       "    </tr>\n",
       "    <tr>\n",
       "      <th>1</th>\n",
       "      <td>1f939393-9aed-4c97-999c-5f11e3491587</td>\n",
       "      <td>صراحه مافيه افضل منه لتدريب فرنسا https://t.co...</td>\n",
       "      <td>n_cyr3</td>\n",
       "      <td>2024-07-10 15</td>\n",
       "      <td>0</td>\n",
       "    </tr>\n",
       "    <tr>\n",
       "      <th>2</th>\n",
       "      <td>1039a51b-fbce-4c7c-ab03-55fa145ce3e9</td>\n",
       "      <td>كل الي جاي يصير علمود زيدان ما يدرب😂😂 https://...</td>\n",
       "      <td>ITACH887</td>\n",
       "      <td>2024-07-10 14</td>\n",
       "      <td>1</td>\n",
       "    </tr>\n",
       "    <tr>\n",
       "      <th>3</th>\n",
       "      <td>736c2c6d-7863-4484-87db-dab21a8ed475</td>\n",
       "      <td>عساكم على هالحال واردى 😍 https://t.co/vAhXfMY41j</td>\n",
       "      <td>M_T_ALH</td>\n",
       "      <td>2024-07-10 14</td>\n",
       "      <td>2</td>\n",
       "    </tr>\n",
       "    <tr>\n",
       "      <th>4</th>\n",
       "      <td>65a53395-4770-4f04-8c76-dc501a05ec46</td>\n",
       "      <td>فتاح يا عليم 😂 https://t.co/L036AmCk4c</td>\n",
       "      <td>ScarletConanner</td>\n",
       "      <td>2024-07-10 14</td>\n",
       "      <td>0</td>\n",
       "    </tr>\n",
       "  </tbody>\n",
       "</table>\n",
       "</div>"
      ],
      "text/plain": [
       "                             content_id  \\\n",
       "0  339be11c-64f1-4aec-8e34-c32faddfc5ef   \n",
       "1  1f939393-9aed-4c97-999c-5f11e3491587   \n",
       "2  1039a51b-fbce-4c7c-ab03-55fa145ce3e9   \n",
       "3  736c2c6d-7863-4484-87db-dab21a8ed475   \n",
       "4  65a53395-4770-4f04-8c76-dc501a05ec46   \n",
       "\n",
       "                                             content         username  \\\n",
       "0                   مع بقائه https://t.co/vUFN8w3CuL          ASM_brg   \n",
       "1  صراحه مافيه افضل منه لتدريب فرنسا https://t.co...           n_cyr3   \n",
       "2  كل الي جاي يصير علمود زيدان ما يدرب😂😂 https://...         ITACH887   \n",
       "3   عساكم على هالحال واردى 😍 https://t.co/vAhXfMY41j          M_T_ALH   \n",
       "4             فتاح يا عليم 😂 https://t.co/L036AmCk4c  ScarletConanner   \n",
       "\n",
       "            date  k20  \n",
       "0  2024-07-10 15    0  \n",
       "1  2024-07-10 15    0  \n",
       "2  2024-07-10 14    1  \n",
       "3  2024-07-10 14    2  \n",
       "4  2024-07-10 14    0  "
      ]
     },
     "execution_count": 79,
     "metadata": {},
     "output_type": "execute_result"
    }
   ],
   "source": [
    "Data_raw = pd.read_csv(r\"v1_extract_2024_07_24.csv\")\n",
    "Data_raw.head()"
   ]
  },
  {
   "cell_type": "markdown",
   "id": "e6b02572-e7aa-4906-af30-8b133490b6f7",
   "metadata": {},
   "source": [
    "On récupère le nom de la classification à analyser : c'est à dire tout ce qui est après les colonnes content_id, content, username et date. Ca nous sera utile pour automatiser certains traitements par la suite"
   ]
  },
  {
   "cell_type": "code",
   "execution_count": 81,
   "id": "b8ea089b-94ac-4594-a4fd-a324ff7ae50f",
   "metadata": {},
   "outputs": [],
   "source": [
    "col_name = list(Data_raw.columns) # Récupération des noms de colonnes\n",
    "classif = col_name[4]# On extrait 'k20'\n",
    "\n",
    "variable = classif \n",
    "prefix = classif"
   ]
  },
  {
   "cell_type": "markdown",
   "id": "7aedbcbb",
   "metadata": {},
   "source": [
    "Quelques manipulations sur le format de la date à faire"
   ]
  },
  {
   "cell_type": "code",
   "execution_count": 83,
   "id": "785c3a85",
   "metadata": {
    "scrolled": true
   },
   "outputs": [],
   "source": [
    "Data_raw['day'] = Data_raw['date'].str[:10]  # Extract day from day-hour\n",
    "Data_raw['date'] = pd.to_datetime(Data_raw['day'], format=\"%Y-%m-%d\")  # Declare as datetime"
   ]
  },
  {
   "cell_type": "markdown",
   "id": "4b0d734f",
   "metadata": {},
   "source": [
    "On ajoute un +1 pour aligner les classifications entre 1 et N (ici 20). C'était une demande de Jules"
   ]
  },
  {
   "cell_type": "code",
   "execution_count": 85,
   "id": "18d9f64a",
   "metadata": {},
   "outputs": [],
   "source": [
    "Data_raw['k20'] = Data_raw['k20']+1"
   ]
  },
  {
   "cell_type": "markdown",
   "id": "c9f08b01",
   "metadata": {},
   "source": [
    "On ne garde que la date et la classification"
   ]
  },
  {
   "cell_type": "code",
   "execution_count": 87,
   "id": "b78b5d9c",
   "metadata": {
    "scrolled": true
   },
   "outputs": [],
   "source": [
    "Data = Data_raw[[\"date\", variable]]"
   ]
  },
  {
   "cell_type": "markdown",
   "id": "ffffd433",
   "metadata": {},
   "source": [
    "On va \"exploser\" la classification en 20 variables"
   ]
  },
  {
   "cell_type": "code",
   "execution_count": 89,
   "id": "9ce6d083",
   "metadata": {},
   "outputs": [],
   "source": [
    "just_dummies = pd.get_dummies(Data[variable], dtype=float, prefix = prefix)\n",
    "Data_explode = pd.concat([Data, just_dummies], axis=1)\n",
    "Data_explode = Data_explode.drop([variable], axis=1)"
   ]
  },
  {
   "cell_type": "markdown",
   "id": "5a650bb8",
   "metadata": {},
   "source": [
    "Sommer le nombre de classification par date"
   ]
  },
  {
   "cell_type": "code",
   "execution_count": 91,
   "id": "e6c4d54f",
   "metadata": {},
   "outputs": [
    {
     "data": {
      "text/html": [
       "<div>\n",
       "<style scoped>\n",
       "    .dataframe tbody tr th:only-of-type {\n",
       "        vertical-align: middle;\n",
       "    }\n",
       "\n",
       "    .dataframe tbody tr th {\n",
       "        vertical-align: top;\n",
       "    }\n",
       "\n",
       "    .dataframe thead th {\n",
       "        text-align: right;\n",
       "    }\n",
       "</style>\n",
       "<table border=\"1\" class=\"dataframe\">\n",
       "  <thead>\n",
       "    <tr style=\"text-align: right;\">\n",
       "      <th></th>\n",
       "      <th>date</th>\n",
       "      <th>k20_1</th>\n",
       "      <th>k20_2</th>\n",
       "      <th>k20_3</th>\n",
       "      <th>k20_4</th>\n",
       "      <th>k20_5</th>\n",
       "      <th>k20_6</th>\n",
       "      <th>k20_7</th>\n",
       "      <th>k20_8</th>\n",
       "      <th>k20_9</th>\n",
       "      <th>...</th>\n",
       "      <th>k20_11</th>\n",
       "      <th>k20_12</th>\n",
       "      <th>k20_13</th>\n",
       "      <th>k20_14</th>\n",
       "      <th>k20_15</th>\n",
       "      <th>k20_16</th>\n",
       "      <th>k20_17</th>\n",
       "      <th>k20_18</th>\n",
       "      <th>k20_19</th>\n",
       "      <th>k20_20</th>\n",
       "    </tr>\n",
       "  </thead>\n",
       "  <tbody>\n",
       "    <tr>\n",
       "      <th>0</th>\n",
       "      <td>2016-07-10</td>\n",
       "      <td>0.0</td>\n",
       "      <td>0.0</td>\n",
       "      <td>0.0</td>\n",
       "      <td>0.0</td>\n",
       "      <td>0.0</td>\n",
       "      <td>0.0</td>\n",
       "      <td>0.0</td>\n",
       "      <td>0.0</td>\n",
       "      <td>0.0</td>\n",
       "      <td>...</td>\n",
       "      <td>0.0</td>\n",
       "      <td>1.0</td>\n",
       "      <td>0.0</td>\n",
       "      <td>0.0</td>\n",
       "      <td>0.0</td>\n",
       "      <td>0.0</td>\n",
       "      <td>0.0</td>\n",
       "      <td>0.0</td>\n",
       "      <td>0.0</td>\n",
       "      <td>0.0</td>\n",
       "    </tr>\n",
       "    <tr>\n",
       "      <th>1</th>\n",
       "      <td>2017-06-01</td>\n",
       "      <td>0.0</td>\n",
       "      <td>0.0</td>\n",
       "      <td>0.0</td>\n",
       "      <td>0.0</td>\n",
       "      <td>0.0</td>\n",
       "      <td>0.0</td>\n",
       "      <td>0.0</td>\n",
       "      <td>0.0</td>\n",
       "      <td>0.0</td>\n",
       "      <td>...</td>\n",
       "      <td>0.0</td>\n",
       "      <td>0.0</td>\n",
       "      <td>0.0</td>\n",
       "      <td>0.0</td>\n",
       "      <td>0.0</td>\n",
       "      <td>0.0</td>\n",
       "      <td>0.0</td>\n",
       "      <td>0.0</td>\n",
       "      <td>0.0</td>\n",
       "      <td>1.0</td>\n",
       "    </tr>\n",
       "    <tr>\n",
       "      <th>2</th>\n",
       "      <td>2021-06-16</td>\n",
       "      <td>1.0</td>\n",
       "      <td>0.0</td>\n",
       "      <td>0.0</td>\n",
       "      <td>0.0</td>\n",
       "      <td>0.0</td>\n",
       "      <td>0.0</td>\n",
       "      <td>0.0</td>\n",
       "      <td>0.0</td>\n",
       "      <td>0.0</td>\n",
       "      <td>...</td>\n",
       "      <td>0.0</td>\n",
       "      <td>0.0</td>\n",
       "      <td>0.0</td>\n",
       "      <td>0.0</td>\n",
       "      <td>0.0</td>\n",
       "      <td>0.0</td>\n",
       "      <td>0.0</td>\n",
       "      <td>0.0</td>\n",
       "      <td>0.0</td>\n",
       "      <td>0.0</td>\n",
       "    </tr>\n",
       "    <tr>\n",
       "      <th>3</th>\n",
       "      <td>2023-01-07</td>\n",
       "      <td>0.0</td>\n",
       "      <td>1.0</td>\n",
       "      <td>0.0</td>\n",
       "      <td>0.0</td>\n",
       "      <td>0.0</td>\n",
       "      <td>0.0</td>\n",
       "      <td>0.0</td>\n",
       "      <td>0.0</td>\n",
       "      <td>0.0</td>\n",
       "      <td>...</td>\n",
       "      <td>0.0</td>\n",
       "      <td>0.0</td>\n",
       "      <td>0.0</td>\n",
       "      <td>0.0</td>\n",
       "      <td>0.0</td>\n",
       "      <td>0.0</td>\n",
       "      <td>0.0</td>\n",
       "      <td>0.0</td>\n",
       "      <td>0.0</td>\n",
       "      <td>0.0</td>\n",
       "    </tr>\n",
       "    <tr>\n",
       "      <th>4</th>\n",
       "      <td>2023-01-09</td>\n",
       "      <td>0.0</td>\n",
       "      <td>2.0</td>\n",
       "      <td>0.0</td>\n",
       "      <td>0.0</td>\n",
       "      <td>0.0</td>\n",
       "      <td>0.0</td>\n",
       "      <td>0.0</td>\n",
       "      <td>0.0</td>\n",
       "      <td>0.0</td>\n",
       "      <td>...</td>\n",
       "      <td>0.0</td>\n",
       "      <td>0.0</td>\n",
       "      <td>0.0</td>\n",
       "      <td>0.0</td>\n",
       "      <td>0.0</td>\n",
       "      <td>0.0</td>\n",
       "      <td>1.0</td>\n",
       "      <td>0.0</td>\n",
       "      <td>0.0</td>\n",
       "      <td>0.0</td>\n",
       "    </tr>\n",
       "  </tbody>\n",
       "</table>\n",
       "<p>5 rows × 21 columns</p>\n",
       "</div>"
      ],
      "text/plain": [
       "        date  k20_1  k20_2  k20_3  k20_4  k20_5  k20_6  k20_7  k20_8  k20_9  \\\n",
       "0 2016-07-10    0.0    0.0    0.0    0.0    0.0    0.0    0.0    0.0    0.0   \n",
       "1 2017-06-01    0.0    0.0    0.0    0.0    0.0    0.0    0.0    0.0    0.0   \n",
       "2 2021-06-16    1.0    0.0    0.0    0.0    0.0    0.0    0.0    0.0    0.0   \n",
       "3 2023-01-07    0.0    1.0    0.0    0.0    0.0    0.0    0.0    0.0    0.0   \n",
       "4 2023-01-09    0.0    2.0    0.0    0.0    0.0    0.0    0.0    0.0    0.0   \n",
       "\n",
       "   ...  k20_11  k20_12  k20_13  k20_14  k20_15  k20_16  k20_17  k20_18  \\\n",
       "0  ...     0.0     1.0     0.0     0.0     0.0     0.0     0.0     0.0   \n",
       "1  ...     0.0     0.0     0.0     0.0     0.0     0.0     0.0     0.0   \n",
       "2  ...     0.0     0.0     0.0     0.0     0.0     0.0     0.0     0.0   \n",
       "3  ...     0.0     0.0     0.0     0.0     0.0     0.0     0.0     0.0   \n",
       "4  ...     0.0     0.0     0.0     0.0     0.0     0.0     1.0     0.0   \n",
       "\n",
       "   k20_19  k20_20  \n",
       "0     0.0     0.0  \n",
       "1     0.0     1.0  \n",
       "2     0.0     0.0  \n",
       "3     0.0     0.0  \n",
       "4     0.0     0.0  \n",
       "\n",
       "[5 rows x 21 columns]"
      ]
     },
     "execution_count": 91,
     "metadata": {},
     "output_type": "execute_result"
    }
   ],
   "source": [
    "Data_ts = Data_explode.groupby('date').sum().reset_index()\n",
    "Data_ts.head()"
   ]
  },
  {
   "cell_type": "markdown",
   "id": "4412e52d",
   "metadata": {},
   "source": [
    "On remplit les intervalles avec des zéros "
   ]
  },
  {
   "cell_type": "code",
   "execution_count": 93,
   "id": "81c6e880",
   "metadata": {
    "scrolled": true
   },
   "outputs": [],
   "source": [
    "Data_ts = Data_ts.set_index('date') # Date as index\n",
    "Data_ts = Data_ts.resample('D').mean() # On créer les intervalles pour chaque heure absente du dataset\n",
    "Data_ts = Data_ts.fillna(0) # On remplit les dates manquantes avec des zéros"
   ]
  },
  {
   "cell_type": "markdown",
   "id": "6b5d32f6",
   "metadata": {},
   "source": [
    "On créer maintenant un format \"long\" (panel)"
   ]
  },
  {
   "cell_type": "code",
   "execution_count": 111,
   "id": "b534c23c",
   "metadata": {
    "scrolled": true
   },
   "outputs": [],
   "source": [
    "Data_ts[\"time\"] = Data_ts.index\n",
    "Data_ts_long = pd.wide_to_long(Data_ts, stubnames = variable, i=\"time\", j=\"class\", sep='_', suffix = '\\\\d+').reset_index()"
   ]
  },
  {
   "cell_type": "code",
   "execution_count": 113,
   "id": "34dfdb16",
   "metadata": {},
   "outputs": [
    {
     "data": {
      "text/html": [
       "<div>\n",
       "<style scoped>\n",
       "    .dataframe tbody tr th:only-of-type {\n",
       "        vertical-align: middle;\n",
       "    }\n",
       "\n",
       "    .dataframe tbody tr th {\n",
       "        vertical-align: top;\n",
       "    }\n",
       "\n",
       "    .dataframe thead th {\n",
       "        text-align: right;\n",
       "    }\n",
       "</style>\n",
       "<table border=\"1\" class=\"dataframe\">\n",
       "  <thead>\n",
       "    <tr style=\"text-align: right;\">\n",
       "      <th></th>\n",
       "      <th>time</th>\n",
       "      <th>class</th>\n",
       "      <th>k20</th>\n",
       "    </tr>\n",
       "  </thead>\n",
       "  <tbody>\n",
       "    <tr>\n",
       "      <th>0</th>\n",
       "      <td>2016-07-10</td>\n",
       "      <td>1</td>\n",
       "      <td>0.0</td>\n",
       "    </tr>\n",
       "    <tr>\n",
       "      <th>1</th>\n",
       "      <td>2016-07-11</td>\n",
       "      <td>1</td>\n",
       "      <td>0.0</td>\n",
       "    </tr>\n",
       "    <tr>\n",
       "      <th>2</th>\n",
       "      <td>2016-07-12</td>\n",
       "      <td>1</td>\n",
       "      <td>0.0</td>\n",
       "    </tr>\n",
       "    <tr>\n",
       "      <th>3</th>\n",
       "      <td>2016-07-13</td>\n",
       "      <td>1</td>\n",
       "      <td>0.0</td>\n",
       "    </tr>\n",
       "    <tr>\n",
       "      <th>4</th>\n",
       "      <td>2016-07-14</td>\n",
       "      <td>1</td>\n",
       "      <td>0.0</td>\n",
       "    </tr>\n",
       "    <tr>\n",
       "      <th>...</th>\n",
       "      <td>...</td>\n",
       "      <td>...</td>\n",
       "      <td>...</td>\n",
       "    </tr>\n",
       "    <tr>\n",
       "      <th>58555</th>\n",
       "      <td>2024-07-11</td>\n",
       "      <td>20</td>\n",
       "      <td>3.0</td>\n",
       "    </tr>\n",
       "    <tr>\n",
       "      <th>58556</th>\n",
       "      <td>2024-07-12</td>\n",
       "      <td>20</td>\n",
       "      <td>43.0</td>\n",
       "    </tr>\n",
       "    <tr>\n",
       "      <th>58557</th>\n",
       "      <td>2024-07-13</td>\n",
       "      <td>20</td>\n",
       "      <td>4.0</td>\n",
       "    </tr>\n",
       "    <tr>\n",
       "      <th>58558</th>\n",
       "      <td>2024-07-14</td>\n",
       "      <td>20</td>\n",
       "      <td>59.0</td>\n",
       "    </tr>\n",
       "    <tr>\n",
       "      <th>58559</th>\n",
       "      <td>2024-07-15</td>\n",
       "      <td>20</td>\n",
       "      <td>26.0</td>\n",
       "    </tr>\n",
       "  </tbody>\n",
       "</table>\n",
       "<p>58560 rows × 3 columns</p>\n",
       "</div>"
      ],
      "text/plain": [
       "            time  class   k20\n",
       "0     2016-07-10      1   0.0\n",
       "1     2016-07-11      1   0.0\n",
       "2     2016-07-12      1   0.0\n",
       "3     2016-07-13      1   0.0\n",
       "4     2016-07-14      1   0.0\n",
       "...          ...    ...   ...\n",
       "58555 2024-07-11     20   3.0\n",
       "58556 2024-07-12     20  43.0\n",
       "58557 2024-07-13     20   4.0\n",
       "58558 2024-07-14     20  59.0\n",
       "58559 2024-07-15     20  26.0\n",
       "\n",
       "[58560 rows x 3 columns]"
      ]
     },
     "execution_count": 113,
     "metadata": {},
     "output_type": "execute_result"
    }
   ],
   "source": [
    "Data_ts_long # La table finale"
   ]
  },
  {
   "cell_type": "code",
   "execution_count": 115,
   "id": "e8e311a9",
   "metadata": {},
   "outputs": [],
   "source": [
    "Data_ts_long.to_excel(r\"Export_ts_daily.xlsx\", index=False) # Export Excel"
   ]
  }
 ],
 "metadata": {
  "kernelspec": {
   "display_name": "Python 3 (ipykernel)",
   "language": "python",
   "name": "python3"
  },
  "language_info": {
   "codemirror_mode": {
    "name": "ipython",
    "version": 3
   },
   "file_extension": ".py",
   "mimetype": "text/x-python",
   "name": "python",
   "nbconvert_exporter": "python",
   "pygments_lexer": "ipython3",
   "version": "3.12.4"
  }
 },
 "nbformat": 4,
 "nbformat_minor": 5
}
