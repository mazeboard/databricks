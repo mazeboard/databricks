{
 "cells": [
  {
   "cell_type": "code",
   "execution_count": 1,
   "metadata": {
    "application/vnd.databricks.v1+cell": {
     "cellMetadata": {
      "byteLimit": 2048000,
      "rowLimit": 10000
     },
     "inputWidgets": {},
     "nuid": "27852280-683a-4d16-8ae3-39c17f437229",
     "showTitle": false,
     "title": ""
    }
   },
   "outputs": [
    {
     "name": "stdout",
     "output_type": "stream",
     "text": [
      "Defaulting to user installation because normal site-packages is not writeable\n",
      "Collecting llama-cpp-python\n",
      "  Downloading llama_cpp_python-0.2.82.tar.gz (50.7 MB)\n",
      "\u001b[2K     \u001b[38;2;114;156;31m━━━━━━━━━━━━━━━━━━━━━━━━━━━━━━━━━━━━━━━━\u001b[0m \u001b[32m50.7/50.7 MB\u001b[0m \u001b[31m55.6 MB/s\u001b[0m eta \u001b[36m0:00:00\u001b[0mm eta \u001b[36m0:00:01\u001b[0m[36m0:00:01\u001b[0m\n",
      "\u001b[?25h  Installing build dependencies ... \u001b[?25ldone\n",
      "\u001b[?25h  Getting requirements to build wheel ... \u001b[?25ldone\n",
      "\u001b[?25h  Preparing metadata (pyproject.toml) ... \u001b[?25ldone\n",
      "\u001b[?25hCollecting neural-speed\n",
      "  Downloading neural_speed-1.0-cp311-cp311-manylinux_2_28_x86_64.whl.metadata (6.4 kB)\n",
      "Requirement already satisfied: typing-extensions>=4.5.0 in /home/taoufik/.local/lib/python3.11/site-packages (from llama-cpp-python) (4.9.0)\n",
      "Requirement already satisfied: numpy>=1.20.0 in /home/taoufik/.local/lib/python3.11/site-packages (from llama-cpp-python) (1.24.3)\n",
      "Collecting diskcache>=5.6.1 (from llama-cpp-python)\n",
      "  Downloading diskcache-5.6.3-py3-none-any.whl.metadata (20 kB)\n",
      "Requirement already satisfied: jinja2>=2.11.3 in /home/taoufik/.local/lib/python3.11/site-packages (from llama-cpp-python) (3.1.2)\n",
      "Requirement already satisfied: MarkupSafe>=2.0 in /usr/lib/python3/dist-packages (from jinja2>=2.11.3->llama-cpp-python) (2.1.3)\n",
      "Downloading neural_speed-1.0-cp311-cp311-manylinux_2_28_x86_64.whl (23.3 MB)\n",
      "\u001b[2K   \u001b[38;2;114;156;31m━━━━━━━━━━━━━━━━━━━━━━━━━━━━━━━━━━━━━━━━\u001b[0m \u001b[32m23.3/23.3 MB\u001b[0m \u001b[31m7.5 MB/s\u001b[0m eta \u001b[36m0:00:00\u001b[0mm eta \u001b[36m0:00:01\u001b[0m[36m0:00:01\u001b[0mm\n",
      "\u001b[?25hDownloading diskcache-5.6.3-py3-none-any.whl (45 kB)\n",
      "\u001b[2K   \u001b[38;2;114;156;31m━━━━━━━━━━━━━━━━━━━━━━━━━━━━━━━━━━━━━━━━\u001b[0m \u001b[32m45.5/45.5 kB\u001b[0m \u001b[31m17.7 MB/s\u001b[0m eta \u001b[36m0:00:00\u001b[0m\n",
      "\u001b[?25hBuilding wheels for collected packages: llama-cpp-python\n",
      "  Building wheel for llama-cpp-python (pyproject.toml) ... \u001b[?25ldone\n",
      "\u001b[?25h  Created wheel for llama-cpp-python: filename=llama_cpp_python-0.2.82-cp311-cp311-linux_x86_64.whl size=2858740 sha256=3237aaf0eaf7a05b90902f8edc675f69af289f8e1a27e30abc6b26e2e67242cd\n",
      "  Stored in directory: /home/taoufik/.cache/pip/wheels/87/61/28/d6c18fac9436ab801d6b5e763780cae216163f16bcbcbbd197\n",
      "Successfully built llama-cpp-python\n",
      "Installing collected packages: neural-speed, diskcache, llama-cpp-python\n",
      "Successfully installed diskcache-5.6.3 llama-cpp-python-0.2.82 neural-speed-1.0\n",
      "\n",
      "\u001b[1m[\u001b[0m\u001b[34;49mnotice\u001b[0m\u001b[1;39;49m]\u001b[0m\u001b[39;49m A new release of pip is available: \u001b[0m\u001b[31;49m24.0\u001b[0m\u001b[39;49m -> \u001b[0m\u001b[32;49m24.1.2\u001b[0m\n",
      "\u001b[1m[\u001b[0m\u001b[34;49mnotice\u001b[0m\u001b[1;39;49m]\u001b[0m\u001b[39;49m To update, run: \u001b[0m\u001b[32;49mpython3 -m pip install --upgrade pip\u001b[0m\n",
      "Note: you may need to restart the kernel to use updated packages.\n"
     ]
    }
   ],
   "source": [
    "%pip install llama-cpp-python  neural-speed"
   ]
  },
  {
   "cell_type": "code",
   "execution_count": null,
   "metadata": {
    "application/vnd.databricks.v1+cell": {
     "cellMetadata": {
      "byteLimit": 2048000,
      "rowLimit": 10000
     },
     "inputWidgets": {},
     "nuid": "fc27bfb0-4320-4792-ba20-021639089557",
     "showTitle": false,
     "title": ""
    }
   },
   "outputs": [],
   "source": [
    "import sys\n",
    "import os\n",
    "sys.path.append(os.path.abspath('../libs'))"
   ]
  },
  {
   "cell_type": "code",
   "execution_count": 6,
   "metadata": {
    "application/vnd.databricks.v1+cell": {
     "cellMetadata": {
      "byteLimit": 2048000,
      "rowLimit": 10000
     },
     "inputWidgets": {},
     "nuid": "98c702a1-6493-444d-bea7-7d49eaaa66e3",
     "showTitle": false,
     "title": ""
    }
   },
   "outputs": [
    {
     "data": {
      "text/plain": [
       "[10, 20, 40]"
      ]
     },
     "execution_count": 6,
     "metadata": {},
     "output_type": "execute_result"
    }
   ],
   "source": [
    "\n",
    "content_clusters = [10, 20, 40]\n",
    "sample = 7\n",
    "\n",
    "\n",
    "content_clusters\n"
   ]
  },
  {
   "cell_type": "code",
   "execution_count": null,
   "metadata": {
    "application/vnd.databricks.v1+cell": {
     "cellMetadata": {
      "byteLimit": 2048000,
      "rowLimit": 10000
     },
     "inputWidgets": {},
     "nuid": "831b7081-5aa0-42a4-8a66-585e770ab9e5",
     "showTitle": false,
     "title": ""
    }
   },
   "outputs": [
    {
     "data": {
      "text/html": [
       "<style scoped>\n",
       "  .table-result-container {\n",
       "    max-height: 300px;\n",
       "    overflow: auto;\n",
       "  }\n",
       "  table, th, td {\n",
       "    border: 1px solid black;\n",
       "    border-collapse: collapse;\n",
       "  }\n",
       "  th, td {\n",
       "    padding: 5px;\n",
       "  }\n",
       "  th {\n",
       "    text-align: left;\n",
       "  }\n",
       "</style><div class='table-result-container'><table class='table-result'><thead style='background-color: white'><tr><th>content_topic_clusters</th><th>content_topic</th><th>content_topic_ancestor</th><th>content</th></tr></thead><tbody><tr><td>40</td><td>0</td><td>null</td><td>@ShehuSani It's like IMF don't want Nigerians to breathe. They most likely want chaos for the country. Make dem their business na. . Il n’y aura aucune incidence sur les choix stratégiques du groupe en Afrique, croit savoir un spécialiste consulté par Jeune Afrique. . We must unite to protect Africa and its resources from those who only seek profit, at the cost of regular South Africans. . @AfricanHub_ To all African presidents including Paul Kagame US and Europe are not only controlling Africa's economy God has given US and Europe to control Africa's economy because God is in control. If you don't believe me read the Holy Bible it is all prophecied there . Exactement. Notre bord de mer avec des tranches de projets isolés n'est pas beau. Comme à Luanda, Casablanca, Dakar, Malabo, etc, notre Corniche au minimum doit s'étendre de l'immeuble Total Energies jusqu'au Pont de Gué Gué ( au bout la plage du Lycée MB'A)... . South Africa's unemployment crisis &amp; other issues will never be resolved as long as we always vote for people who have failed. ANC would have ZERO chance in USA, Western Europe, Australia etc. Having strong economy matters in America, for example. Trump knew that, Biden knows etc . @MaixSOME Répondez moi qu a gagné Talon dans cette mise en scène ridicule Si le ridicule tuait Pauvre Afrique Vous vous chamaillez pour rien les Nigériens libres et souverains vendront leur uranium, leur pétrole etc à de meilleurs prix au lieu de se faire niquer par la France.</td></tr><tr><td>40</td><td>1</td><td>null</td><td>@Architekt89 @MDS404603 @ramzpaul https://t.co/584Rs5YeZI China used to be like this and now they are 2nd economy of the world. Its not impossible for Africa to do the same in just 50 years. You gotta have the French and US military basses and corporations to keep africa down before they become China. . @YanLian31677392 All while the US gives back small amounts of industrial capacity to countries in Europe and Africa that align with US foreign policy, destroying their need for imports, destroying China's export economy. Its not that the US likes the others, it kills demand for imports from China . @phillochio @Rhymaholic @OleItumbi Uganda, Rwanda, Tanzania, Somalia is at 3%... those are our competitors in the region...Yet, our Economy is the most strongest at 15%... Africa must wake up to it's Tax reality... we all can't average 15.6% and expect to compete. Europe is at 34% on average. https://t.co/bmEqP98CZD . Au lieu de s’attaquer à patron de total énergie et aux pays comme l’Inde et la Chine qui sont les plus grands producteurs de co2 sur terre . Continued 6% GDP growth since 2015 would’ve brought us very close to $1 trillion GDP if not already today. With functional sea ports in the Delta built and dominated by the Chinese. Can’t have China control a $1 trillion economy in Africa. Big threat to France/US in the region. . @vbc1victorious @my1centsworth @goolammv @Our_DA @CyrilRamaphosa @jsteenhuisen Germany is the biggest economy in Europe whilst we are not even the biggest economy in Africa. 😪 Our economy has grown at an average rate of less than 2% over the last 15 years. We are on life support and Extreme left ideology in SA would turn off the machine.🤷🏾‍♂️ . @iamreubenkings @afamefunarollz @Franeb They are looking at Africa and resources as an extension of their economies but China and Russia(which are allies) are trying to take Africa away from the dominance of US and Europe. And the Chinese economy is catching up with US in terms of size and US do not like that.</td></tr><tr><td>40</td><td>2</td><td>null</td><td>📢 L'AFP recrute ! Plusieurs postes à pourvoir à Paris : · Stage - Réseaux sociaux et communication · Alternance - Assistant contrôleur de gestion Europe/Afrique · Alternance - Service Projets médias européens · CDI - Chargé de développement RH 👉 Info : https://t.co/tZcu1GTCs1 https://t.co/aV8r8zrq1U . En effet, l’actionnariat nord-américain, qui détient aujourd’hui près de 50 % du capital de TotalEnergies, continue de monter en puissance. . Burkina Faso signs 3 cooperation memornda wit Rusian Rosatom D event took place as part of d ongoing St.Petersburg Int. Economic Forum #SPIEF2024 The documents were signed by Rosatom CEO Alexey Likhatchev &amp; Burkina Faso's Min of Energy &amp; Mines, Yacouba Zabré Gouba @sputnik_africa https://t.co/Mgha9kwVn7 . Pouyanne, who spoke with panellists of the Africa CEO in Kigali, Rwanda, explained that Angola is a country with a more stable policy framework, which he said every business concerns would first consider before starting investment. . Un an après avoir acheté les actifs de la major tricolore dans le segment aval de l’industrie pétrolière, Tamoil a vu ses stations-service réquisitionnées par les autorités centrafricaines. . Afrique et Inde : TotalEnergies donne accès au clean cooking à 100 millions de personnes https://t.co/9yOkYrWbko https://t.co/zj7VYJhTof . Pouyanne, who spoke with panellists of the Africa CEO in Kigali, Rwanda, said the inconsistency in policymaking decisions led to the diversion of the project from Nigeria to Angola, a country with a more stable policy framework. https://t.co/BY3HLFesff</td></tr><tr><td>40</td><td>3</td><td>null</td><td>@ulfricsombrage7 @norbert_fr La réémigration, en renvoyant dans leur pays des millions de personnes bien formées dans nos écoles et nos entreprises, constituerait la meilleure aide au développement que la France puisse offrir à l'Afrique. . \"@wopper111 @ExileCalipari @Semhar70963799 @realCarola2Hope @RadioGenoa The \"\"\"\"West Africans\"\"\"\" are not only going to Europe, there's immigration crises in every country that's at least has a good economy. Those are economic immigrants. It's just unfortunate that we are labelled xenophobic when we complain in South Africa.\" . @AntonFoooker51 Compared to the lands you killed for. America's, Asia, Africa, Australia, and took everything in them for yourselves. Arabs for their oil, now you're extermination Palestinians. . \"False economy: Why Europeans should stop slashing #development #aid to #Africa. \"\"\"\"Millions of #young people lacking opportunity in Africa will undoubtedly be a potential source of unmanaged #migration into #Europe over the coming years.\"\"\"\" https://t.co/HMJQXJCwrl\" . @Lindsay_Fsh @CerfiaFR La réémigration des étudiants étrangers diplômés en France constituera la meilleure aide au développement de l'Afrique. Idem pour les millions d'Africains qui ont acquis expérience et compétences dans nos entreprises. Les rendre à leurs patries sera notre grande fierté ! . @Peter_Strachan 3 problems arise from the surge in population in central African countries. Illegal immigrant flows to Europe, flows into South Africa and increasingly a collapse in many countries economies. The S. African economy is in a perilous situation with lack of power, high unemployment . @ProvokedGoat @visegrad24 There is no such a state called Israel before 1947. Europe kicked them out because they destroyed their culture, morals and economy. Later they brought fake jews from Africa &amp; Russia. Now your whole state is merely a group of zionist gangs. Palestine is there since old times.</td></tr><tr><td>40</td><td>4</td><td>null</td><td>@akubenjalo1 @zilo7 @CMogoeng Industrialization chief Africa is the way 1.4billion ppl no infrastructure nothing. Chrome leave to China and Europe. Start with transnet get oil from south Sudan and Nigeria down here. . @harryjsisson Not even. Woodrow Wilson and FDR got us into international wars and screwed Europe and the US. LBJ screwed the US and SE Asia. Obama screwed theUS and most of Northern Africa and Eurasia. Biden is keeping up with these destroying the dollar, the economy, and individual liberty . @SprinterFamily Ironically,any price imposed on China will have a much higher reciprocal cost on Europe and honestly,China is past the escape velocity on its economy. . @GlobeEyeNews Without Africa, France is an emerging economy like any other, not one of the G7 countries. . Here is Why France loves #Africa, to Steal Precious Stones and minerial. Its cheaper to steal or buy from a poorer Africa economy 😱😱😢 https://t.co/jRHb4c6Tv1 . @BurushAlex The EU itself is dead 💀 the economy is broken who cares about Europe when there is the strong Chinese. Europe itself is dependent on Africa. But you can't know that as a welfare recipient 😉🤔 . US Treasury Introduces Over 300 New Sanctions, Caribbean Impacted. The New Sanctions Target Those Supporting Russia’s War Economy In The Caribbean, Asia, the Middle East, Europe &amp; Africa. https://t.co/dG2J38bRzp</td></tr><tr><td>40</td><td>5</td><td>null</td><td>@WeleleWololo @CoreyCarterTM @paulmuchemwa2 Then the bigger the africa the bigger our economy will grow atleast you can see that your reporting to a small Europe that steals your minerals to sell them back to you . @MlozanaAnele @Plasmaphile @pandroidhuman @Salwan_Momika1 I'm a white supremacist because I disagree with you? Quit being such a whiney crying baby and grow up. I'm not even from Europe. Without African trade Europe's economy would take a hit but they wouldn't go hungry like Africa would without Europe. That's just reality. . @KingHerculesPeg @CilenMac @JustForfun260 @AJ0005386454279 @Joe__Bassey Because we have a government been supported by the west that destroy our economy mr white man your time is over in Africa cause African now know Europe is our enemy and a threat to our people we don’t want you here leave . The Zimbabwean economy did not thrive in the 80s and 90s. It was the remnants of colonial Rhodesia and the adoption of independent Zimbabwe into its structures and systems. Reconciliation was policy and white and black continued on the Pre 1980 idea of Europe in Africa. . @LintelligentTv Thiam est le principal architecte de l'éléphant d'Afrique pied cassé en tant que ministre du plan et du développement, il n'est pas nouveau sur la scène politique ,pendant le coup d'état il est parti rapidement se reposer en Europe , comment doit-on qualifier cette attitude ? . @Silboyofficiell le jour nous allons changer de mentalité l'Afrique connaîtra le développement escompté. Je m'explique,en Europe,on vote par rapport au projet de société du candidat,ses compétences. En Afrique,le vote est communautaire et plein de passions,de populisme. . @solswirl @kalebjayboss @nibroidospestos @batonianum @Dispropoganda Western interventions in Africa was still common even after decolonization. Botswana has a stable and growing economy because it didnt fall victim to any foreign interventions And Europe received aid from the Americans after the war so</td></tr><tr><td>40</td><td>6</td><td>null</td><td>Okay, once they work, then we can now go to AFCTA. . , like, you know, he's here not because he's here. . Mainly, I'll say for three reasons. . Otherwise, you do one thing, but we still have that problem which we must address. . Nous avons besoin d’engagements durables. . I think we are delaying the president, so real last word. . We just want a guarantee to secure.</td></tr><tr><td>40</td><td>7</td><td>null</td><td>.@TotalEnergies should consider rebranding as TotalArrests after 175 climate protesters were arrested at their AGM in France on Friday, and 8 more were arrested in Uganda on Monday. These actions raise serious concerns about the right to protest. https://t.co/zgsvP0EzI6 . @GreenFaith_Afr @TotalEnergies @aliyusadiq_gky @digitalmamabola @Eacophostcmty @greenfaithgh @greenfaithworld @KassimuZiada @lenga2020 @LSM_Africa @stopEACOP @TotalEnergies As you commemorate your AGM and 100 years of Chaos, Just know that your fossil fuel projects like EACOP have negatively affected up to 13,564 households in Uganda only. . #LJLD: C'est avec consternation que nous avons appris l'attaque du Camp de réfugiés #MUGUNGA/Goma,par le groupe rebelle du M23. Nous condamnons avec la dernière énergie cette barbarie et témoignons notre soutien total à nos compatriotes.@EmmanuellaZandi @UNHCR_DRC @USEmbKinshasa https://t.co/zoFlquUV0p . Activist &amp; Goldman Prize Winner Nonhle Mbuthuma founded a local org in South Africa’s Wild Coast to fight a proposed strip mine 17 years ago. Despite ongoing personal threats, she’s still working to protect her community from harmful oil extraction. https://t.co/ti2pHS7jmw . ” Zinhle Mthiyane, of the South Durban Community Environmental Alliance, said: “We are protesting to protect the environment and prevent ocean pollution. . Uganda needs oil development to flourish to its full potential. What it doesn’t need are wealthy elitist NGOs concerned about protecting the continent from itself and trying to limit economic advancement in Africa in the name of climate change. https://t.co/4tTGi0MwTH . So if we don't invest in new oil fields, I will tell you what will happen.</td></tr><tr><td>40</td><td>8</td><td>null</td><td>Si la France arrêtait de prendre de haut les pays d'Afrique mais au contraire travaillait main dans la main avec eux pour aider à leur développement et ainsi éviter les drames humains en Méditerranée.. . 🏀 La FFBB en aide au basket africain 🏀 https://t.co/hv0QbFeFn6 Dans le cadre de l’accord de partenariat signé entre l’Agence Française de Développement (AFD) et les fédérations françaises de Handball, Volley-ball et Basketball, lors du Nouveau Sommet Afrique-France, le prog… . \"Réunions de printemps #FairTransitions @ParisPeaceForum 💬@RiouxRemy : \"\"\"\"Le développement agricole en Afrique est sous financé. Pour y remédier il est essentiel de mobiliser l'investissement local &amp . @ManokaTony11418 @FamaaKenedugu2 Comme si la Russie avait un meilleur savoir faire que la France la Russie apart vendre des armes ils aucun projet de développement en Afrique 😂😂 . @L_Activiste226 C'est impressionnant les différents changements dans les pays de l'AES alors que la France n'a rien foutue alors qu'elle était présente depuis de nombreuses années pour soit disant aider au développement de l'Afrique. Les gouvernements français : de la grosse 💩 . @LeRoyDeCoeur La france en afrique a aidé au développement. https://t.co/zXtqPkusJ7 . 🌹Elsa Di Méo : Une candidate socialiste #FrontPopulaire au service du développement et de la culture entre l'Europe et l'#Afrique #Circo10FDE @ElsaDiMeo https://t.co/5HUlmzqneT</td></tr><tr><td>40</td><td>9</td><td>null</td><td>@lnstantFoot La dislocation totale de la France si réellement ce parti prend le pouvoir. Ça nous plaît de voir la France déchirée, l'Afrique pourra enfin être libre vers son développement véritable . @BB01Brigitte @Trollstoy88 Et je ne vous raconte pas sa mains prise sur l’agriculture mondiale en développant l’Afrique avec l’apparition de nombreux puits d’eau pour irriguer ses cultures. Parlons de pétrole et d’exploitation de l’uranium etc.. que les pays musulmans ne voulaient pas exploiter avt BRICS . global economy. Raw materials exploration, infrastructure &amp; manufacturing are Africa's biggest challenges &amp; when we fix that, we will have a large enough market to satisfy in Africa. Remember that Africa;s population is exploding &amp; Europe is contracting. . l'Europe surtout Occidentale,après la deuxième guerre mondiale, a pris bcp d'options pour sa stabilité et son développement socioéconomique. Il y a eu partenariat entre pays , démocratie, justice sociale, droit pour tous et défense commune avec les USA . L' Afrique n'a pas ça. . @rastaquouere44 C'est pas l'Europe qui a pratiqué une épuration ethnique en forçant les Africains à immigrer en Europe, en provoquant le sous developpement de l'Afrique et le pillage de ses ressources ? (Pour rester au même niveau de ton argumentaire 😏) . @lastpositivist That’s not fair. Africa, like India, had a bunch of competing civilisations and also, like everywhere else once, had a slave economy, that made wars profitable. The Arabs did the import/export to MENA/europe. Europeans took over, but export volumes huge. 1/2 . @GTSytb Bah go encourager la libération et le développement de l'Afrique. Si les gens vivent moins dans de la merde ça peut aider. Sinon le projet c'est quoi ? Tourelles et on nettoie ? N'oublie pas qu'en France on à la répercussions et non le problème.</td></tr><tr><td>40</td><td>10</td><td>null</td><td>#PAPSS is linking banks across Africa! It enables seamless transfer of funds across African borders, and last week Afreximbank, the AU, and AfCFTA held the first forum of African Bank CEOs to discuss how PAPPS can support intra-African trade! https://t.co/sBZReqCv4a . Tune in to @tvcnewsng Business Nigeria at 2:00 PM to watch Wole Onasanya, CEO of Coronation Group Limited. He will be discussing key takeaways from the recent Africa CEO Forum in Kigali, Rwanda. Conversations will also steer around the latest interest rate hike by the CBN from https://t.co/NhHpno2LiN . Participation de l’API-Mali au Forum Africa CEO L'API-Mali a pris part au Forum Africa CEO, un événement qui réunit des acteurs clés du climat des affaires et des grands entrepreneurs du continent. https://t.co/EUV1DxJiWe #InvestInMali #AfricaCeoForum #AFC2024 https://t.co/oeBqKKb7qs . At the Africa CEO Forum (ACF), our Managing Director Faustin Byishimo, alongside industry experts, spearheaded a strategic roundtable on Agriculture. They discussed various challenges encountered by African Agripreuneurs in their ventures in this critical sector - from access to https://t.co/TClc2zgyoC . @MemesLord07 @MikaelCBernard Type “Africa CEO Forum Annual Summit” on YouTube. . Delighted to welcome Julius Rone, Managing Director &amp; CEO of UTM Offshore/#Nigeria as a speaker of the #RAF2024 #MakeAfricaGreat #MakeAfricaProud #Vision2024 #AfricaRising #NigeriaEconomy . I joined our partners, @gavi and the French government, at the Global Forum for Vaccine Sovereignty and Innovation to launch #AVMA. This will help us produce 60% of our vaccines in Africa by 2040, crucial for health, safety, economy, and peace. #ForOurFuture #VaccineSovereignty https://t.co/n8VclQA34P</td></tr><tr><td>40</td><td>11</td><td>null</td><td>A great conversation with author Stuart Eizenstat - discussing the significance of US leadership on the world stage. #Diplomacy #security #Economy #USA #Europe #Asia #LatinAmerica #Africa #MiddleEast . @iSeeRacist People acting like black people had enough money to fly back to Africa or wherever they came from😒 It's funny because the economy of us and Europe are doing bad right now because of pink decisions Pinks are pinks worst enemy . This election the main issue facing the country is demographic change. The economy ebbs and flows like it always does but demographic change is permanent. How do you feel about millions more from Europe, Africa and Asia coming to the UK? . @lucyqrow @t0nit0ne In Africa the economy and housing is so fucked up that you can barely do this. African is a third world, leaving home at 18 or Prom is something we don't do here and you'll be fucked in poverty. Big ups to those in the USA or Europe . Africa, again is colonizing Europe benignly through culture, religion and arts. However, as usual, it does not have any effect on the home economy. Worse still, we don't even know that the historical cycle has given Africa the nod to do so. Our best tool is religion. . Port strikes across Germany will worsen cargo delays across Europe’s biggest economy https://t.co/0eYzWrze5D . @beyoncegarden I'm from another country but i wanna do this to feel i belong to this platform Asia Europe and Africa Delicious foods Ice cream men Beaches Empire Bad economy</td></tr><tr><td>40</td><td>12</td><td>null</td><td>@VinnieSull1van @TheNorfolkLion Where do you think cobalt comes from that powers all ion batteries? That alone is sustaining the world economy. Again Europe NEEDS AFRICA! . les oligarques de la France-Israel-Afrique. La fin d'Azoulay, sa mocro mafia a Rabat est vecue comme un nouveau Waterloo a Paris. Apres l'eviction d'Afrique, la coupure de la fourniture de gaz, petrole, uranium, minerais rares, l'eviction d'Europe des nazis du talmud responsables . @HigueroLucien @L_ThinkTank L'Inde a arrêté d'acheter leur pétrole/gaz cette année. Pendant que la France renforce ses lien avec l'Inde et l'indo pacifique ou nous avons des territoires par exemple. On les laisse se déchirer en Afrique, ces territoires instables sont bien moins rentables. . @ZemmourEric Allez chercher votre uranium, pétrole, gaz, or ailleurs, après on en parlera La France a été construite avec le pillage de l’Afrique, donc la France appartient aux africains 😛 . @ZemmourEric La réponse de l'Afrique : Fini la France Afrique, fini le franc CFA, fini le pétrole et le gaz gratis, fini l'uranium gratis, On ne veut plus de bases militaires françaises en Afrique, ni de la fausse aide au développement. . @FranceLibre2024 @jdicajdisrien Vous êtes un connaisseur, alors pourquoi,la France, le Canada, et les États-Unis pillent ses richesses, or, pétrole, métaux rares . Les dirigeants racistes de ces pays entretiennent des tueries en fournissant des armes. Bientôt des gens comme vous émigrerons en Afrique . @QuintelaDavid1 @Valeurs Les infrastructures construites en Algérie par la France ont entièrement été financées par le gaz, le pétrole et l'or de l'Algérie. La reconstruction de la France après guerre a été entièrement financée par la colonisation de l'Afrique</td></tr><tr><td>40</td><td>13</td><td>null</td><td>@Matt8Motivation @TotalEnergies Ils ont pas besoin d’énergie en Afrique si on écoute les écolos, c’est le même problème en Inde, on leur fait la morale alors qu’ils augment juste leur niveau de vie. Nous on fait le choix de l’idéologie plutôt que de privilégier la croissance, . @greenpeacefr @TotalEnergies Les gens de Total et M. Pouyané qui les dirige font leur travail pour traiter et acheminer une énergie vitale pour les gens. Vous, vous insultez, vous harcelez, vous cassez alors que vous vivez d'argent volé et détourné. Vous niez l'explosion démographique qui détruit tout! https://t.co/1y6vV3r6Gj . But you know, in 2023, all the investments we have done on a worldwide basis, almost 500, more than 500 gigawatts of renewable, which is huge, only absorb 40% of the additional increase of demand in the year. . @lessoulevements Le groupe soulèvement de la terre ignore idéologiquement l’action du groupe Total pour restreindre les conséquences des énergies fossiles sur le changement climatique. Gageons que ce groupe khmer vert criminel récoltera ce qu'il sème depuis sa création. . Total Energies are losers. They are afraid of competition. They just want to come and steal our resources. Let them go, we don't even need them. 💀😏 . @michel6597 @greenpeacefr @TotalEnergies Bah alors quand ils ne seront plus en guarde à vue, alors. Total ENERGIES, c'est pas en France qu'ils saccagent tout et font expulser les paysans, de c'est dans le monde entier. Mais pour des nazes bien au chaud dans leur véhicule pour aller au boulot. . @AlexBaumann75 @TotalEnergies Waaaa le pauvre millionnaire il est diabolisé 😱😱 la France n’aime pas les riches et encore moins ceux qui le sont grâce à la destruction de la planète et la colonisation</td></tr><tr><td>40</td><td>14</td><td>null</td><td>@AlbertBabare @Weuz__ @Erestrosgoat @pretinhaxo Il a raison, la France c'est pas l'hôtel de l'Afrique. L'afrique a un potentiel infiniment plus grand que la France mettons notre énergie dans son développement plutôt que de forcer a être accepté chez les gens, ou est le problème j'ai pas compris? . @AstrooLabe @dustyteatime The tying of francophone Africa to France's economy to further sustain their colonial endeavors is a stain on the nation, but there are certainly worse imperialist powers out there . Former France Economy Minister on Awakening Africa and Post Trump New Yo... https://t.co/MEuZiJhf6B via @YouTube Sunday June 2, 2024 12 pm CT, 1 pm ET We Charge Colonialism: Former France Economy Minister on Awakening Africa and Post Trump New York Verdict . @SaharaReporters He wants to Japa again with style &amp; b recommending that Nigerians should b suffering tolerant with BAT as he was given a comatose economy by Buhari his homie. He wants to b pontificating at least somewhere in Europe not Africa definitely . @PeterSweden7 in 2023 Le Pen went to Africa to strengthen ties as she knows how important the billions France steals from africa is to the french economy . The current French economy is circling the drain and depends on its colonial plunder. It's been kicked out of Africa. . @RadioGenoa No problem for her. They will be able to take all of the valuable human capital back to Africa and deprive Europe and the European economy of it.</td></tr><tr><td>40</td><td>15</td><td>null</td><td>@tefnakht1er @Nath_Yamb Qu'en pensez-vous des sauvages, putschistes et sous hommes ? Que représentent les occidentaux vis à vis du développement et entrepreneuriat en Afrique ? Et que veut l'africain en Europe où il n'y a aucune richesse en laissant les siennes chez lui? . @Gremy2 @MarouanShain @machin_pourquoi @DhouhaHaddad @JeanMessiha Rien que le franc CFA est une manière de contrôler l’afrique sans parler de TotalEnergies et des autres entreprises qui pillent discrètement l’Afrique donc oui aujourd’hui l’Afrique est une colonie occidentale . @faqdiss @KuqiCouture @blackintheempir But we were in agreement that France and other western powers are exploiting Africans.Niger for example went from one of the poorest nations on this planet under 🇫🇷 &amp; 🇺🇸 imperialism to being the fastest growing economy in Africa AFTER kicking them out 🤷🏻‍♀️ https://t.co/PH0O040I1f . Africa isn’t poor bc of this, it is pure demagoguery by Meloni. Niger threw the French out last year. It won’t make any difference for their economy. If anything, French interference probably helped somewhat. . Elle est payée pour mentir #france #afrique #history #cfa #economy #s... https://t.co/KTB9qqfCxE via @YouTube L’état français colonial ….. . @NoNonsensezone How old are you I can’t watch more than 2 seconds? How old are you at a time of African revolution lead by young African leaders that has knocked out France out from top 10 world economy. No be shame una no get to focus on tribalism at a time Africa needs the giant of mediocrity. https://t.co/QwWWNxd55G . @Babar_le_Rhino @JeanMessiha @Lassureur2013 Le Franc cfa ne concernant qu’une minorité d’états en Afrique, et ceux qui n’ont pas le cfa sont dans le même état de sous développement Il y a des entreprises étrangères dans tout les pays du monde, personne ne parle de colonisation Toyota et Ford colonisent la France ? Non</td></tr><tr><td>40</td><td>16</td><td>null</td><td>@Africa_Archives medicated oil/ minyak angin https://t.co/7SIw3q4vkS . Snake Oil for sale!! Get your snake oil from the best snake oil salesman in South Africa 🇿🇦🙏🏼😂 . Pétrole et gaz : Afrique, le nouvel eldorado ? https://t.co/zUwLBBXL0E https://t.co/Mc9lBp9Jqt . Okay, but with our plant, the price dropped to even as low as $65. . Pétrole et gaz : Afrique, le nouvel eldorado ? https://t.co/WYillLvFMI https://t.co/R3XMEdZ2SN . A écouter pipeline ou pas le Niger est déjà en avance devant Bénin car nous n'avons pas uniquement le pétrole sur notre sol de toute le façon c'est le Bénin qui perd la France et l'Europe, l'occident tous on n'en parle même pas Le sol nigerien🇳🇪 est le sol le plus de la planète https://t.co/6FNNKKHgBk . Nigeria: Rich in Resources, Poor in People's Pockets TMG Team Editorial It is a well-known fact that Nigeria is one of the most resource-rich countries in Africa, with abundant reserves of oil, gas, minerals, and arable land. With a population of ... https://t.co/E1bIclNVn1 https://t.co/2p5jHPfvty</td></tr><tr><td>40</td><td>17</td><td>null</td><td>TotalEnergies CEO “concerned” about #Macomia attack Pouyanné also said the restart of TotalEnergies' project, known as #Mozambique LNG, would be “gradual” and that some work had resumed in #Palma https://t.co/nS5PhgPlUZ https://t.co/HNl9ep1hDG . More than 60 French language teacher trainers have been trained in didactics to improve the quality of teaching at secondary level in Mozambique. #africa #mozambique #news #economy https://t.co/vnHdQeFOc8 . #TotalEnergies, première entreprise française par chiffre d’affaires et profit (23 milliards d’euros en 2023), dépend du #Rwanda pour son méga-projet gazier au #Mozambique. En supplantant l’Afrique du Sud, partenaire historique du Mozambique, #Kagame est devenu un élément clé . Attaque djihadiste au Mozambique en 2021 : TotalEnergies visée par une enquête pour homicide involontaire https://t.co/M1aCIRcmWi . @KKwakedi @jeune_afrique La France et TotalEnergies protègent leurs intérêts au Mozambique face à la menace djihadiste. Des dizaines de milliards d’investissement pour le Mozambique sont en jeu qui permettraient au Mozambique à 10 ans de doubler son PIB Quel est le problème ? . French energy giant TotalEnergies’ Pouyanné meets President Nyusi, sees ‘positive progress’ towards resuming Mozambique LNG project https://t.co/uRtXjxbFzU . Mais le patron de TotalEnergies vise plus grand avec son déplacement à Kigali : reprendre les activités et relancer le projet de gaz naturel liquéfié au Mozambique.</td></tr><tr><td>40</td><td>18</td><td>null</td><td>🌙🐑🐐EID AL ADHA 🐐🐑🌙 #EID #ASIA #EUROPE #USA #Africa #INDIA #AUSTRALIA #SOUTHAMERICA #ECONOMY #WORLD https://t.co/b2248EiMr5 . Electoral terrain shifts: Increased ... https://t.co/XaN8gtsP20 #África #Corruption #Crime #CyrilRamaphosa #Economy #France https://t.co/VWNd604kLh . Rejoignez-nous pour explorer le développement socio-économique de l'Afrique à l'ère numérique. Voici le lien de connexion pour rejoindre la conférence https://t.co/oUGKZ9BNP8 #africa #Mali #algerie #Paris #usa #Afrique #europe #dakar #senegal #abidjan https://t.co/lMOoUwVmOR . @MouvementMaure @SaibariSZN Quel rapport avec la couleur de peau le Maroc n'est pas une îles le Sahara occidental allait jusqu'au frontière avec le mali. l'Europe ns a colonisé et imposé e plan Marshall qui a trainer notre développement si tu vivais au Maroc tu saurais kl'essor du pays passe par l'Afrique . @Margueritestern Parce que la France est présente au moyen orient qu'elle y a des partenaires. La France 5eme puissance pétrolière sans une seul goutte de pétrole . La France qui a pompe les ressources de l'Afrique comme jamais. Les étrangers méritent mieux comme traitement . Sois reconnaissante . Rejoignez-nous pour explorer le développement socio-économique de l'Afrique à l'ère numérique. Voici le lien de connexion pour rejoindre la conférence https://t.co/oUGKZ9BNP8 #CDAConference #AfriqueNumérique #Innovation #Africa #Mali #Algerie #Paris #USA #Afrique #Europe https://t.co/9XbkKIujb6 . Rejoignez-nous pour explorer le développement socio-économique de l'Afrique à l'ère numérique. Voici le lien de connexion pour rejoindre la conférence https://t.co/oUGKZ9BNP8 #CDAConference #AfriqueNumérique #Innovation #Africa #Mali #Algerie #Paris #USA #Afrique #Europe https://t.co/dkYWivbmvI</td></tr><tr><td>40</td><td>19</td><td>null</td><td>@Mohbams9 @CapitaineIb226 @zerbo_harun @JeanB_Zongo @EsmelPregnon @AgAnchawadje @CourPenaleInt Pendant 60 ans ce peuple a été diminué humilié en côte d'ivoire en Afrique de l'ouest et par la France par des coups d'État à répétition et aucun moyen de développement On tue vos présidents et là il ya certains qui essayent QQ chose au lieu de lui laisser et donner du temps .. . @Erwannature @jeanchr70798085 Comme tu veux pas répondre je te repose la question ici Depuis 60 ans d’indépendance tu es toujours incapable de nous dire ce que la France à pu faire pour le développement de l’Afrique le mouton 🤡 . @LeilaLeghmara @ECiotti Chirac? Plus préoccupé par le développement de l'Afrique et du Japon que celui de la France... . @Maruts987 @ericverhagen_ @A2x_be Alors je ne sais pas si c'est la moindre des choses mais je vous suggère de vérifier comment cela ce passe dans des pays par exemple en Afrique ou certains pays ont investi et de comparer car voyez vous la France à toujours œuvrée au développement des territoires et non exploitat . The manner in which the French/British and USA have treated the people of Africa is horrible. They were there to look after corporate interests and to take as much money as possible out of the African economy. The global south is on to them. . 2016 Zaydisme causalité démocratie pourquoi sous développement en Afrique Hypothèse Je m’adresse jeune 18 ans bâtir pour servir pays Afrique Mali derrière écran France pedophile sioniste pedé fossoyeurs Afrique violent les enfants spolie afrqke me piége vol Pc mon père https://t.co/92F96uqZkE . Votre boulot, c’est la France, pas l’Afrique</td></tr><tr><td>40</td><td>20</td><td>null</td><td>Le tirage au sort des éliminatoires de la Coupe d'Afrique des Nations CAF TotalEnergies, Maroc 2025 aura lieu le 4 juillet à Johannesburg. https://t.co/L0FifBU2RV . CAN U17 TotalEnergies 2025 🏆 La Côte d'Ivoire 🇨🇮 a été désignée pays organisateur de la Coupe d’Afrique des Nations U17 TotalEnergies 2025. https://t.co/yGEIM8JZak . les dates de l’édition 2025 de la Coupe d’Afrique des Nations CAF TotalEnergies qui se déroulera au Maroc. La CAN CAF TotalEnergies Maroc 2025 est programmée comme suit : Match d'ouverture : Dimanche 21 décembre 2025 Finale:Dimanche 18/01/2026 Le Comité exécutif de la CAF . #Communiqué : Le Président de la CAF, Dr Patrice Motsepe, annoncera les dates de la Coupe d’Afrique des Nations #CAF TotalEnergies, Maroc 2025 ce soir. https://t.co/VxpyJMuP3o . 🚨 Voici les nouvelles dates annoncées pour la 🏆 CAN TotalEnergies 2025 / Maroc 🇲🇦 📆 Match d'ouverture : 21 décembre 2025 📆 Match final : 18 janvier 2026. https://t.co/pZFdVj2GFL . ⚽️ #Football Initialement prévue en 2024, la Coupe d'Afrique des Nations féminine CAF TotalEnergies qui sera également organisée au Maroc se disputera du samedi 5 juillet au samedi 26 juillet 2025. https://t.co/cJ8Z8gkEL7 . La Côte d'Ivoire a été désignée pays organisateur de la Coupe d’Afrique des Nations U17 TotalEnergies 2025 . Nos stades vont reprendre du service. https://t.co/Cx89JT9jqx</td></tr><tr><td>40</td><td>21</td><td>null</td><td>Aliko Dangote announced at the Africa CEO Forum Annual Summit in Kigali that Nigeria is set to stop importing fuel by June 2024, thanks to the Dangote Refinery's anticipated production of 650,000 barrels per day. This marks a significant milestone in Nigeria energy independence. https://t.co/WljbSnHANN . @the_davidatta @AbdoulS321 He said it in the just concluded African ceo forum annual summit in may. He needs 35 visas to travel within Africa but French investors don’t. . “As an investor, as someone who wants to make Africa great, I have to apply for 35 different visas on my passport,” Dangote told the recent Africa CEO Forum in Kigali. At the recent African CEO summit in Kigali, Rwanda, a critical issue came to light: restrictive visa policies. https://t.co/7FPs1fSbHd . Dangote Calls for More Investments to Drive Africa’s Economic Growth at CEO Forum https://t.co/VfkJdsPl3d #Dangote #economicgrowth #Africa . Africa's richest man, Aliko Dangote at the recent Africa CEO Forum Annual Summit, expresses his ongoing difficulties with travelling within Africa using his Nigerian passport. #ACF #AfricaVisas #AfricaCEOForumAnnualSummit #ClickNaija https://t.co/VsfnKtuHhN https://t.co/4FRWOE4clN . À lire Dangote Cement a-t-il enfin trouvé la bonne formule hors du Nigeria ? C’est en tout cas ce que souhaite Patrick Pouyanné. . Africa's richest man, Aliko Dangote, criticized the excessive visa requirements he faces within Africa, needing 35 visas compared to fewer for Europeans. Speaking at the Africa CEO Forum in Kigali, he highlighted the disparity in visa policies, with European passports enjoying https://t.co/OM4BkaASYI</td></tr><tr><td>40</td><td>22</td><td>null</td><td>\"@JonNuggets On payait le transport scolaire à l'époque depuis Omar Bongo avait quoi ? Un partie de la RSE ( comme une redevance obligatoire), par exemple, de \"\"\"\"Ivindo_Iron\"\"\"\" + @GroupeEramet #Comilog + @TotalEnergies #Gabon + etc. = Transport scolaire gratuit\" . @EmmanuelMacron Participer au développement économique et social de l’Afrique est un investissement rentable pour la France et l’Europe. Car une Afrique prospère, c’est moins d’immigration et plus d’échanges économiques entre les 2 continents.On peut aider la Corrèze et le Zambèze en même temps. . TotalEnergies (présent dans 40 pays africains); Perenco, entreprise pétrolière française présente au Gabon; Rougier, spécialisé dans l'exploitation forestière en Afrique et Orano, producteur d’uranium au Niger, sont le symbole des intérêts économiques français sur le continent. . @Jean_Asia_ @YDouhit @JeromeMouton1er @EmmanuelMacron @elonmusk @TotalEnergies @USAenFrancais @Mairie10Paris La Russie est en train de régler le problème. Avec la Chine ce sera la fin du pré carré français en Afrique. La France n'aura pu les moyens de ses ambitions. La France va devenir une nation insignifiante. Comme la Belgique ou le Luxembourg... . @ZemmourEric Annonce à la France CASSEZ VOUS D AFRIQUE Arrêtez vos ingérence Libérer nos finances Dehors 1.Vincent Bolloré (Groupe Bolloré) 2.Martin Bouygues (Groupe Bouygues) 3.François-Henri Pinault (Groupe Kering) 4.Patrick Pouyanné (TotalEnergies) Et tout les autres . 🔴Les 5 entreprises Françaises🇫🇷 qui ont pillé l'#Afrique avec la complicité des traîtres internes. _FCFA -ELF -TOTAL ÉNERGIES, -ORANGE, -BOLLORE. La lutte continue.... . @France24_fr Pourquoi exposez les faces sombres du développement d'un pays ,la France pour autant à des faces cassées sombres ...la colonisation en AFRIQUE ...les entreprises Françaises ne paient pas leur impôt en AFRIQUE C'est un manque à gagner énorme pour les pays Africains</td></tr><tr><td>40</td><td>23</td><td>null</td><td>@sputnik_afrique La France est capable tout pour freiner notre développement . \"@la__lanterne @JeanBon1789 @achelhiz Exact. Plus \"\"\"\"d'aide au développement\"\"\"\", plus de francs CFA, plus de loi imposée à l'Afrique concernant ses échanges... Aucun pays ne s'est développé avec une devise étrangère ou en se soumettant aux lois imposées par l'Occident. Donc vaut mieux que la France garde son aide.\" . @Layandure @AESinfos T'es Vraiment un cancre toi, la vraie guerre, c entre USA et Chine. Talon exécute un décision américaine pour atteindre les intérêts chinois en Afrique (parce que la Chine à aidé la Russie en Ukraine et l'argent du pétrole Nigérien n'est pas passé par la France)1/2 . @knafo_sarah Aide au développement ??? Sans l'Afrique la france n'est rien. . @RFI C'est la destruction de la Libye par la France qui a freiné le développement d'une grande partie de l'Afrique. . @knafo_sarah Il s’agirait de préciser de quel pays vous parlez car l’aide au développement n’est plus d’actualité depuis fort longtemps au Maghreb. D’ailleurs plusieurs pays d’Afrique ne veulent plus rien avoir avec la France. Souvenez-vous que le Maroc a proposé d’aider la France lors . @jeune_afrique Autant la France aide ces personnes à gagner leur vie, autant celles-ci contribuent au développement de la Métropole avec leurs efforts physiques et intellectuels. En les pénalisant, elle se pénalise elle s'autoflagelle.</td></tr><tr><td>40</td><td>24</td><td>null</td><td>@Ajdok12 @garandiadoum1 @RFI l'Afrique c'est pas l'Europe. C'est une cinquantaine pays tous dans une dynamique de développement ce qui fais peur a l'Europe (a raison) c'est que le système africains puisse fonctionner en circuit fermé indépendamment de l'U.E et ça arrivera un jour que vous vouliez ou non🤷🏿‍♂️ . @femilonge My bro, This is what we enjoy in Europe. Besides, there is an existing research report on the effect of this on the economy and Healthcare but Africa is not interested. Did you see the nonsense bicycle track they built in Abuja? 😂 . @Abdel895863 @SamuelEtoo Le développement des pays noirs d'Afrique peut passer par les fils d'Afrique FOOTBALLEURS. . @narimene261709 @FouratiJerbi Il est vrai que le niveau de développement de l'Afrique était semblable à celui de l'Europe au XIXe siècle... . @fawogyimiiko That’s because we don’t value cars here in Europe like they do in Africa. A minister here rides a bicycle to parliament even though their economy is booming, check Ghana’s current state and what’s happening there my friend. There’s no credible value in comparing this masa . @sumlenny Continue with the history. This where you choose to end your history. To fight European or United States you do not need to attack their country just attack their interests which hold their economy. Their interests in Middle east and Africa! You will see Europe weaken. . @jeune_afrique Allez y demander à Zelensky d'organiser mes élections . Vous nous fatiguer les oreilles avec ces élections. Savez vous qu'il existe 6 monarchie en Europe et c'est nous en Afrique qu'on convaint que sans élections le développement est impossible</td></tr><tr><td>40</td><td>25</td><td>null</td><td>We are against exploration of gas and oil, as it may risk degradation of the environment and marine ecosystems, our livelihood and our health. . Vers du pétrole bas carbone dans le bassin de la Kwanza. . It's more local. . 90% of people never ever believed that we would be able to deliver, but you know, we've been able to deliver for now. . Of course, it does not mean that we should not do it. . If it's not true, I wouldn't say it. . For some of us, we believe that, okay, fine, even if there will be a reduction, I mean, you can see of recent, you've seen Hertz Rental Car, they dropped all their EVs and they've gone back to gasoline.</td></tr><tr><td>40</td><td>26</td><td>null</td><td>It's simple and clear. . And I remind you that Total Energy is the only big major company which has kept all its retail network. . What is the impact so far of that having come on stream? There is quite a lot of impact. . Right. . So that is the issue. . So that's just a natural reality. . Yes, there were 19,000 families which were impacted.</td></tr><tr><td>40</td><td>27</td><td>null</td><td>We often ignore problems of leadership, but you are CEOs, heads of institutions, heads of states, and we all know that's not what leaders do. . D’autres entreprises françaises impliquées. . For our continent, it is equally important to build the capacity to respond swiftly and efficiently to any challenge and bounce back. . « Il y a un énorme fossé par rapport à la communication de l’entreprise », très verte, renchérit Baptiste*, ingénieur lui aussi. . Grâce à un contrat passé en mai 2022, un an avant le début de la procédure de rachat par CMA CGM, Bolloré Logistics est devenu l’un des principaux fournisseurs logistiques d’EACOP. . So, we will need to talk about leadership too during this conference. . Already, billions of dollars are being channeled into this exciting sector.</td></tr><tr><td>40</td><td>28</td><td>null</td><td>Soon enough, the only middle class in the world that will still be growing is Africa’s. . Are we such a terrible company? We don't respect human rights. . The equipment that we have, construction equipment that we have, is much more than the entire construction equipment of West Africa. . We have whatever it takes to make Africa great. . Certes nous ne sommes pas présents en Afrique depuis 100 ans, mais le continent est l’un des points d’ancrage de notre entreprise », souligne Patrick Pouyanné. . We cannot move in a free African agreement if people cannot come and work in neighboring African countries. . Today, our polypropylene and our polyethylene will meet the entire demand of Africa.</td></tr><tr><td>40</td><td>29</td><td>null</td><td>So we know where we go. . Where is the money for SMMEs? Where is the money because we're here, we're ready. . He mentioned something about narrative. . It is time that we have a new conversation so that all of us have an equal voice on what happens. . We use the ocean for cultural practices and as a means to sustain our livelihood. . Opération déminage au Mozambique La mèche est allumée. . We cannot remain a place where people pull rocks out of the ground, which others then turn into high-tech products and sell back to us.</td></tr><tr><td>40</td><td>30</td><td>null</td><td>But I think, you know, just to add, in Nigeria, I think the current government, they've done quite a lot. . (Présent à #Kigali à l’occasion de l’Africa CEO Forum, #PatrickPouyanné, le patron de TotalEnergies revient sur les dossiers prioritaires de la major tricolore et révèle sa volonté de collaborer avec #AlikoDangote.) https://t.co/gBh8XNyaV7 . President Kagame also met with Patrick Pouyanné, the CEO of TotalEnergies, who is in Rwanda for #ACF2024. @Paulkagame @UrugwiroVillage @UKWELITIMES https://t.co/ZIWDndgfQq . In fact, just I want to tell you that there are also very good examples of governance in Africa. . Umuyobozi Mukuru w’ikigo TotalEnergies gitunganya peteroli na gazi, Patrick Pouyanné, yagaragaje ko u Rwanda ari intangarugero mu miyoborere ku mugabane wa Afurika. ✍︎@JadoTuyizere https://t.co/qKUlzaJP2W . Maybe next time it will be in Kenya. . This is the story (or rather three separate but related stories) about two worlds called them and us, where the ‘us’ is the West (particularly Europe and North America) and the ‘them’ is everywhere else, most especially the equatorial zone.</td></tr><tr><td>40</td><td>31</td><td>null</td><td>And I can tell you this pipeline does not go through natural preserved areas, special areas. . EACOP , c’est un chantier titanesque pour construire l’oléoduc chauffé le plus long du monde : plus de 1400 kilomètres à travers l’Ouganda et la Tanzanie. . Le collectif estime que le projet Eacop de Total émettra « plus de 379 millions de tonnes équivalent CO2 » au cours des 25 prochaines années. . A limited fire broke out in a storage area belonging to Kuwait's al-Zour refinery, but production was not affected, state-owned Kuwait Integrated Petroleum Industries Company (KIPIC) said on Saturday. . VAN UGANDA TOT DEN HAAG: SAMEN VERZETTEN WE ONS TEGEN TOTAL ENERGIES - Vandaag staan we weer bij Total Energies in Den Haag, samen met activist Patience Nabukalu uit Uganda. Onze eis: stop de aanleg van de verwoestende East African Crude Oil Pipeline en herstel de schade. https://t.co/55VqZ0JUSh . « Il y a tellement d’acteurs européens qui se sont retirés du financement du projet EACOP que TotalEnergies se tourne désormais vers les acteurs chinois et compte de plus en plus sur eux », explique Romane Audéoud, coordinatrice de la campagne #StopEACOP à Londres. . Message aux grands pollueurs comme @TotalEnergies : -Nous ne pouvons pas boire d'huile -L'Afrique n'est pas votre station-service -Faites vos valises maintenant ! https://t.co/UkNZgguZE5</td></tr><tr><td>40</td><td>32</td><td>null</td><td>And my only next job is to invite my countrymate. . My simple but very important task, therefore, this morning was to welcome you and thank you. . First, I wish to welcome you to Kigali. . Mr.Puan, Mr.Dangote, thank you for honoring us with your time. . What has been the highlight of this year's forum for you? Thank you. . Yeah, let me jump in. . You have been both so candid.</td></tr><tr><td>40</td><td>33</td><td>null</td><td>So all our inputs are imported. . So it's time now, sometimes, to. . We have to then re-import it. . One of the areas is logistics, particularly improving our ports but also dealing with the standard gauge railway. . In many sectors for many years, we were told that we don't have human capital, we don't have financing. . First of all, we couldn't find what you call an EPC contractor. . La plupart ne savent pas que leur entreprise participe à ce projet.</td></tr><tr><td>40</td><td>34</td><td>null</td><td>Au nom d’une loi sur le “devoir de vigilance”, les Amis de la Terre, Survie et quatre associations ougandaises réclamant la suspension des projets Tilenga et EACOP avaient assigné TotalEnergies en 2019, une procédure jugée irrecevable début 2023. . Nouvelle bombe climatique : @TotalEnergies veut exploiter deux immenses champs gaziers au large de l'Afrique du Sud. Carnage annoncé de milliers de baleines, dauphins, oiseaux et tortues. Signez et... https://t.co/T3Wy654M65 via @Bloom_FR . Nouvelle bombe climatique : @TotalEnergies veut exploiter deux immenses champs gaziers au large de l'Afrique du Sud. Carnage annoncé de milliers de baleines, dauphins, oiseaux et tortues. Signez et... https://t.co/ckL54Plr6R via @Bloom_FR . Des représentants religieux et des militants croyants sont venus manifester devant l'assemblée générale de TotalEnergies pour demander l'arrêt de grands projets pétroliers en Ouganda et Tanzanie #Environnement #Afrique https://t.co/rY4Tzw2QkI https://t.co/WL7jdStXew . 🚩 « TotalEnergies fait face à une contestation citoyenne contre ses projets pétroliers en Afrique de l’est. Malgré le retrait d’investisseurs, la multinationale continue de compter sur des soutiens économiques en France…. » https://t.co/Ls5uZ0NISu . Au nom de cette même loi, une coalition de six ONG et 16 collectivités, dont Paris et New York, avait accusé en 2020 l’entreprise d'”inaction climatique”, une assignation également jugée irrecevable en juillet 2023. . ⚖️🌍 Et si on mettait la justice au menu? Face aux projets climaticides de TotalEnergies en Afrique, des croyants de diverses traditions religieuses ont accompli un jeûne public d'interpellation, zoom sur leur action https://t.co/q9J4KmoZjG via @saphirnews #justice #ecologie https://t.co/iHpTzw0FEO</td></tr><tr><td>40</td><td>35</td><td>null</td><td>Let's read AFRICA CEO FORUM: VIVAJETS CEO, ACHUM, SUPPORTS CALLS FOR REGIONAL INTEGRATION by clicking this https://t.co/HFIFtaa0ow !! :) . En marge de mes activités a l’Africa CEO Forum, j’ai rendu un vibrant hommage aux victimes du genocide. A ceux là qui se sont sacrifié pour la paix. Mendiant de la paix, j’ai toujours pensé que celle ci n’est pas l’absence de conflit, mais une quête perpétuelle de la justice. https://t.co/KMU8LQkAoQ . The CEO KAZUNGU GERALD THE AFRICANO He keeps the smile when youths transform Instilling a sense of Patriotism and Pan Africanism among the youths not forgetting empowering them socially, economically, and in the leadership management is the passion for our CEO https://t.co/GcMYcqXPxn . At today's U.S.-Kenya Business Forum, I was pleased to join President @WilliamsRuto, @SecRaimondo, and @USAmbKenya to announce a $180M @DFCgov loan to @ahl_africa for the development of affordable, safe, and sustainable student housing in 🇰🇪. https://t.co/39szuzYtjR . \"🇰🇪 Kenyan President Ruto advocates for fair financial architecture The East African leader's remarks came at the 2024 Africa CEO Forum in Rwanda, which brought together more than 2,000 participants. \"\"\"\"It is time that we have a new conversation,\"\"\"\" William Ruto declared. \"\"\"\"The https://t.co/MSwNM1weGP\" . Our Position on the so-called GNU hasn’t changed. As Black People we play with power, we do not know how to use power. Our CEO @kbmorota articulated our position well @Newzroom405 https://t.co/ccRRcJNyld . Il Presidente William Ruto partecipa al summit del Forum dei CEO dell'Africa a Kigali, rafforzando la cooperazione regionale e gli investimenti. #Politica #Africa https://t.co/gj2ITmxq4Y https://t.co/cCTc4WXSOW</td></tr><tr><td>40</td><td>36</td><td>null</td><td>🔴 ZOOM 🔴 Quand François Hollande vole au secours de TotalEnergies ⬇⬇ https://t.co/QR2FbFma0G . Quand les salariés mettent en avant un rapport de l’Agence internationale de l’énergie qui appelle à renoncer à l’ouverture de nouveaux champs pétroliers, l’un des cadres répond que « le monde en a toujours besoin d’un peu » et que le rôle de Schneider est de décarboner les projets sur lesquels l’entreprise travaille. . Les 4 banques 🇫🇷 sont toujours des soutiens de poids pour les gdes entreprises pétrolières &amp; gazières publiques et privées qui misent sur l’expansion des énergies fossiles (Total, ENI, Saudi Aramco). Elles ont reçu + de $26,8 milliards de soutien des banques 🇫🇷 entre 2021 &amp; 2023. . ” Joyce Kimutai, a climate scientist at the University Of Cape Town, said: “The fossil fuel industry will continue to undermine science, they will continue to expand their businesses, they will continue to cause suffering to the people as long as they know that the law can’t hold them accountable. . For this reason Bloom and two other climate justice groups took TotalEnergies to court. . 🔴 ZOOM 🔴 Quand François Hollande vole au secours de TotalEnergies ⬇⬇ https://t.co/QR2FbFma0G . ⚖️🌍Des victimes du dérèglement climatique attaque @TotalEnergies en justice ! Un nouveau contentieux climatique contre le géant des énergies fossiles. On ne vous lâchera pas ! #SeeYouInCourt</td></tr><tr><td>40</td><td>37</td><td>null</td><td>@KillaKhaz @eaglebear91 @MSamuelSherwood @DickHammer44 La France achète l'uranium au-dessus du prix du marché en guise de soutien au développement + pour les Nigériens, l'uranium n'était que de la terre avant que les Français ne créent les infrastructures d'excavation. Où sont les centrales nucléaires en Afrique ? . La chine a signé de gros contrats pour aider au développement en Afrique Pendant que la France se meurt sur des arrêts maladie non rémunérés . https://t.co/R4PblWSJZi,(49%2C7%20Mtep). En France l'apport en pétrole est quasi étrangers, il vient des état-unis, au moyene orient en passant par l'afrique, et l'ex-URSS . @EuphonCaca Les mongol dans toutes leurs splendeurs. Exactement ce qui s'est passé en Algérie un beau pays grâce à la France devenue la.poubelle de l'Afrique du Nord. Et encore si l'Algérie n'avait pas de pétrole ce serait une catastrophe humanitaire . @priscathevenot @J_Bardella La macronie qui parle de lobbying ? Ce n’est pas vous qui avez vendu aux américains notre fer de lance de l’industrie ? Détruit le nucléaire pour le lobby écolo et fait machine arrière ? Ce n’est pas vous qui avez cédé aux lobbys de l’énergie avec les accords total et Engie ? . @CNEWS Stop stop en Algérie et autres pays musulmans vous êtes plus forts que notre RN et on respecte votre amour total pour la religion essentielle du Prophète Veuillez mettre toute votre énergie ☮️ et laissez faire les naturels de l’hexagone 🇫🇷 . @orndz31 Genre y a pas v’la du pétrole en Algérie ? Et vous êtes le plus grand pays d’Afrique , jsp je trouve que c’est un endroit qui a du potentiel. J’aurais aimé que ça soit un avant poste pour la France et qu’on trouve une relation plus symbiotique ! Mais après c’est que mon avis</td></tr><tr><td>40</td><td>38</td><td>null</td><td>🌍💸 India tops global remittances in 2023 with $125B, surpassing $100B in 2022! #globaleconomy #remittances #diaspora #economicimpact #india #mexico #china #philippines #money #financial #global #economy #international #funds #support #rural #asia #africa #europe #immigration https://t.co/yYLlpmAHsZ . @RythmOla @charlesbanky For the fact I know Saudi Arabia, France, Netherland, Qatar, US, Germany, United Kingdom and India, equally some Africa countries too, there's global economy crisis and most countries are battling their own problem. If you think US is the standard, he's been there https://t.co/Y90ia3wH8P . @JimmyLo51490497 @georgegalloway @MoatsTV The U.S. is no longer the dominant world economy, and the G7, which is the U.S., Canada, Britain, France, Italy, Germany and Japan, is actually smaller than the BRICS countries in economic size, which is Brazil, Russia, India, China and South Africa. . @MyLordBebo Okay, but why the whole world, Africa, South America, Asia, some neutral countries in Europe like Serbia, will suffer of global nuclear winter and total collapse of the worlds economy, just because some Russian nationalist cannot archive his goals and decided to nuke whole world? . Select Qantas Premium Economy, Business Class, and First Class fares globally are on sale until 17 May 2024. UK &amp; Europe: https://t.co/dkIUvBv0qP Asia: https://t.co/sxXm9hKkVy USA: https://t.co/yd2CSiv7oY South Africa: https://t.co/wFURsIWKt9 Contact us on 0800 00 3463 to book. https://t.co/n7mxzpkdwA . [#EuropeanBanking] Is optimism on the rise for the banking sector? 2023 saw the global economy grapple with yet more geopolitical and macroeconomic challenges. If you are curious about their effect on the #ECL of Europe's 26 largest banks, read more: https://t.co/ckRPu3MnE4 https://t.co/whZ5QD8deX . \"\"\"\"\"Geopolitical rivalry, the sustainability and energy transitions, and digitalisation are impacting trade flows, investments and the earning potential of the Netherlands and Europe (the EU) at large.\"\"\"\"\"</td></tr><tr><td>40</td><td>39</td><td>null</td><td>CPFs make communities partners in protecting national infrastructure.#ConsumerDialogueForum End Vandalism COFEK Forum @cofek_africa @kenyapower @smutoro @stopillicitrade https://t.co/cQMv2vaeHy . Engaging communities through CPFs is essential for the long-term protection of critical power infrastructure.#ConsumerDialogueForum End Vandalism COFEK Forum @cofek_africa @kenyapower @smutoro @stopillicitrade https://t.co/yFKci7ws9d . Through CPFs, communities learn the importance of protecting critical infrastructure for national development and uninterrupted services.#ConsumerDialogueForum End Vandalism COFEK Forum @cofek_africa @kenyapower @smutoro @stopillicitrade https://t.co/77qi8c8z8d . Local knowledge through CPFs strengthens security strategies for power facilities.#ConsumerDialogueForum End Vandalism COFEK Forum @cofek_africa @kenyapower @smutoro @stopillicitrade . CPFs create a collaborative effort between Kenya Power, law enforcement, and communities to combat vandalism.#ConsumerDialogueForum End Vandalism COFEK Forum @cofek_africa @kenyapower @smutoro @stopillicitrade . CPFs facilitate better communication between residents and law enforcement.#ConsumerDialogueForum End Vandalism COFEK Forum @cofek_africa @kenyapower @smutoro @stopillicitrade . Enhanced patrols through CPFs improve security around power installations.#ConsumerDialogueForum End Vandalism COFEK Forum @cofek_africa @kenyapower @smutoro @stopillicitrade</td></tr></tbody></table></div>"
      ]
     },
     "metadata": {
      "application/vnd.databricks.v1+output": {
       "addedWidgets": {},
       "aggData": [],
       "aggError": "",
       "aggOverflow": false,
       "aggSchema": [],
       "aggSeriesLimitReached": false,
       "aggType": "",
       "arguments": {},
       "columnCustomDisplayInfos": {},
       "data": [
        [
         40,
         0,
         null,
         "@ShehuSani It's like IMF don't want Nigerians to breathe. They most likely want chaos for the country. Make dem their business na. . Il n’y aura aucune incidence sur les choix stratégiques du groupe en Afrique, croit savoir un spécialiste consulté par Jeune Afrique. . We must unite to protect Africa and its resources from those who only seek profit, at the cost of regular South Africans. . @AfricanHub_ To all African presidents including Paul Kagame US and Europe are not only controlling Africa's economy God has given US and Europe to control Africa's economy because God is in control. If you don't believe me read the Holy Bible it is all prophecied there . Exactement. Notre bord de mer avec des tranches de projets isolés n'est pas beau. Comme à Luanda, Casablanca, Dakar, Malabo, etc, notre Corniche au minimum doit s'étendre de l'immeuble Total Energies jusqu'au Pont de Gué Gué ( au bout la plage du Lycée MB'A)... . South Africa's unemployment crisis &amp; other issues will never be resolved as long as we always vote for people who have failed. ANC would have ZERO chance in USA, Western Europe, Australia etc. Having strong economy matters in America, for example. Trump knew that, Biden knows etc . @MaixSOME Répondez moi qu a gagné Talon dans cette mise en scène ridicule Si le ridicule tuait Pauvre Afrique Vous vous chamaillez pour rien les Nigériens libres et souverains vendront leur uranium, leur pétrole etc à de meilleurs prix au lieu de se faire niquer par la France."
        ],
        [
         40,
         1,
         null,
         "@Architekt89 @MDS404603 @ramzpaul https://t.co/584Rs5YeZI China used to be like this and now they are 2nd economy of the world. Its not impossible for Africa to do the same in just 50 years. You gotta have the French and US military basses and corporations to keep africa down before they become China. . @YanLian31677392 All while the US gives back small amounts of industrial capacity to countries in Europe and Africa that align with US foreign policy, destroying their need for imports, destroying China's export economy. Its not that the US likes the others, it kills demand for imports from China . @phillochio @Rhymaholic @OleItumbi Uganda, Rwanda, Tanzania, Somalia is at 3%... those are our competitors in the region...Yet, our Economy is the most strongest at 15%... Africa must wake up to it's Tax reality... we all can't average 15.6% and expect to compete. Europe is at 34% on average. https://t.co/bmEqP98CZD . Au lieu de s’attaquer à patron de total énergie et aux pays comme l’Inde et la Chine qui sont les plus grands producteurs de co2 sur terre . Continued 6% GDP growth since 2015 would’ve brought us very close to $1 trillion GDP if not already today. With functional sea ports in the Delta built and dominated by the Chinese. Can’t have China control a $1 trillion economy in Africa. Big threat to France/US in the region. . @vbc1victorious @my1centsworth @goolammv @Our_DA @CyrilRamaphosa @jsteenhuisen Germany is the biggest economy in Europe whilst we are not even the biggest economy in Africa. 😪 Our economy has grown at an average rate of less than 2% over the last 15 years. We are on life support and Extreme left ideology in SA would turn off the machine.🤷🏾‍♂️ . @iamreubenkings @afamefunarollz @Franeb They are looking at Africa and resources as an extension of their economies but China and Russia(which are allies) are trying to take Africa away from the dominance of US and Europe. And the Chinese economy is catching up with US in terms of size and US do not like that."
        ],
        [
         40,
         2,
         null,
         "📢 L'AFP recrute ! Plusieurs postes à pourvoir à Paris : · Stage - Réseaux sociaux et communication · Alternance - Assistant contrôleur de gestion Europe/Afrique · Alternance - Service Projets médias européens · CDI - Chargé de développement RH 👉 Info : https://t.co/tZcu1GTCs1 https://t.co/aV8r8zrq1U . En effet, l’actionnariat nord-américain, qui détient aujourd’hui près de 50 % du capital de TotalEnergies, continue de monter en puissance. . Burkina Faso signs 3 cooperation memornda wit Rusian Rosatom D event took place as part of d ongoing St.Petersburg Int. Economic Forum #SPIEF2024 The documents were signed by Rosatom CEO Alexey Likhatchev &amp; Burkina Faso's Min of Energy &amp; Mines, Yacouba Zabré Gouba @sputnik_africa https://t.co/Mgha9kwVn7 . Pouyanne, who spoke with panellists of the Africa CEO in Kigali, Rwanda, explained that Angola is a country with a more stable policy framework, which he said every business concerns would first consider before starting investment. . Un an après avoir acheté les actifs de la major tricolore dans le segment aval de l’industrie pétrolière, Tamoil a vu ses stations-service réquisitionnées par les autorités centrafricaines. . Afrique et Inde : TotalEnergies donne accès au clean cooking à 100 millions de personnes https://t.co/9yOkYrWbko https://t.co/zj7VYJhTof . Pouyanne, who spoke with panellists of the Africa CEO in Kigali, Rwanda, said the inconsistency in policymaking decisions led to the diversion of the project from Nigeria to Angola, a country with a more stable policy framework. https://t.co/BY3HLFesff"
        ],
        [
         40,
         3,
         null,
         "@ulfricsombrage7 @norbert_fr La réémigration, en renvoyant dans leur pays des millions de personnes bien formées dans nos écoles et nos entreprises, constituerait la meilleure aide au développement que la France puisse offrir à l'Afrique. . \"@wopper111 @ExileCalipari @Semhar70963799 @realCarola2Hope @RadioGenoa The \"\"\"\"West Africans\"\"\"\" are not only going to Europe, there's immigration crises in every country that's at least has a good economy. Those are economic immigrants. It's just unfortunate that we are labelled xenophobic when we complain in South Africa.\" . @AntonFoooker51 Compared to the lands you killed for. America's, Asia, Africa, Australia, and took everything in them for yourselves. Arabs for their oil, now you're extermination Palestinians. . \"False economy: Why Europeans should stop slashing #development #aid to #Africa. \"\"\"\"Millions of #young people lacking opportunity in Africa will undoubtedly be a potential source of unmanaged #migration into #Europe over the coming years.\"\"\"\" https://t.co/HMJQXJCwrl\" . @Lindsay_Fsh @CerfiaFR La réémigration des étudiants étrangers diplômés en France constituera la meilleure aide au développement de l'Afrique. Idem pour les millions d'Africains qui ont acquis expérience et compétences dans nos entreprises. Les rendre à leurs patries sera notre grande fierté ! . @Peter_Strachan 3 problems arise from the surge in population in central African countries. Illegal immigrant flows to Europe, flows into South Africa and increasingly a collapse in many countries economies. The S. African economy is in a perilous situation with lack of power, high unemployment . @ProvokedGoat @visegrad24 There is no such a state called Israel before 1947. Europe kicked them out because they destroyed their culture, morals and economy. Later they brought fake jews from Africa &amp; Russia. Now your whole state is merely a group of zionist gangs. Palestine is there since old times."
        ],
        [
         40,
         4,
         null,
         "@akubenjalo1 @zilo7 @CMogoeng Industrialization chief Africa is the way 1.4billion ppl no infrastructure nothing. Chrome leave to China and Europe. Start with transnet get oil from south Sudan and Nigeria down here. . @harryjsisson Not even. Woodrow Wilson and FDR got us into international wars and screwed Europe and the US. LBJ screwed the US and SE Asia. Obama screwed theUS and most of Northern Africa and Eurasia. Biden is keeping up with these destroying the dollar, the economy, and individual liberty . @SprinterFamily Ironically,any price imposed on China will have a much higher reciprocal cost on Europe and honestly,China is past the escape velocity on its economy. . @GlobeEyeNews Without Africa, France is an emerging economy like any other, not one of the G7 countries. . Here is Why France loves #Africa, to Steal Precious Stones and minerial. Its cheaper to steal or buy from a poorer Africa economy 😱😱😢 https://t.co/jRHb4c6Tv1 . @BurushAlex The EU itself is dead 💀 the economy is broken who cares about Europe when there is the strong Chinese. Europe itself is dependent on Africa. But you can't know that as a welfare recipient 😉🤔 . US Treasury Introduces Over 300 New Sanctions, Caribbean Impacted. The New Sanctions Target Those Supporting Russia’s War Economy In The Caribbean, Asia, the Middle East, Europe &amp; Africa. https://t.co/dG2J38bRzp"
        ],
        [
         40,
         5,
         null,
         "@WeleleWololo @CoreyCarterTM @paulmuchemwa2 Then the bigger the africa the bigger our economy will grow atleast you can see that your reporting to a small Europe that steals your minerals to sell them back to you . @MlozanaAnele @Plasmaphile @pandroidhuman @Salwan_Momika1 I'm a white supremacist because I disagree with you? Quit being such a whiney crying baby and grow up. I'm not even from Europe. Without African trade Europe's economy would take a hit but they wouldn't go hungry like Africa would without Europe. That's just reality. . @KingHerculesPeg @CilenMac @JustForfun260 @AJ0005386454279 @Joe__Bassey Because we have a government been supported by the west that destroy our economy mr white man your time is over in Africa cause African now know Europe is our enemy and a threat to our people we don’t want you here leave . The Zimbabwean economy did not thrive in the 80s and 90s. It was the remnants of colonial Rhodesia and the adoption of independent Zimbabwe into its structures and systems. Reconciliation was policy and white and black continued on the Pre 1980 idea of Europe in Africa. . @LintelligentTv Thiam est le principal architecte de l'éléphant d'Afrique pied cassé en tant que ministre du plan et du développement, il n'est pas nouveau sur la scène politique ,pendant le coup d'état il est parti rapidement se reposer en Europe , comment doit-on qualifier cette attitude ? . @Silboyofficiell le jour nous allons changer de mentalité l'Afrique connaîtra le développement escompté. Je m'explique,en Europe,on vote par rapport au projet de société du candidat,ses compétences. En Afrique,le vote est communautaire et plein de passions,de populisme. . @solswirl @kalebjayboss @nibroidospestos @batonianum @Dispropoganda Western interventions in Africa was still common even after decolonization. Botswana has a stable and growing economy because it didnt fall victim to any foreign interventions And Europe received aid from the Americans after the war so"
        ],
        [
         40,
         6,
         null,
         "Okay, once they work, then we can now go to AFCTA. . , like, you know, he's here not because he's here. . Mainly, I'll say for three reasons. . Otherwise, you do one thing, but we still have that problem which we must address. . Nous avons besoin d’engagements durables. . I think we are delaying the president, so real last word. . We just want a guarantee to secure."
        ],
        [
         40,
         7,
         null,
         ".@TotalEnergies should consider rebranding as TotalArrests after 175 climate protesters were arrested at their AGM in France on Friday, and 8 more were arrested in Uganda on Monday. These actions raise serious concerns about the right to protest. https://t.co/zgsvP0EzI6 . @GreenFaith_Afr @TotalEnergies @aliyusadiq_gky @digitalmamabola @Eacophostcmty @greenfaithgh @greenfaithworld @KassimuZiada @lenga2020 @LSM_Africa @stopEACOP @TotalEnergies As you commemorate your AGM and 100 years of Chaos, Just know that your fossil fuel projects like EACOP have negatively affected up to 13,564 households in Uganda only. . #LJLD: C'est avec consternation que nous avons appris l'attaque du Camp de réfugiés #MUGUNGA/Goma,par le groupe rebelle du M23. Nous condamnons avec la dernière énergie cette barbarie et témoignons notre soutien total à nos compatriotes.@EmmanuellaZandi @UNHCR_DRC @USEmbKinshasa https://t.co/zoFlquUV0p . Activist &amp; Goldman Prize Winner Nonhle Mbuthuma founded a local org in South Africa’s Wild Coast to fight a proposed strip mine 17 years ago. Despite ongoing personal threats, she’s still working to protect her community from harmful oil extraction. https://t.co/ti2pHS7jmw . ” Zinhle Mthiyane, of the South Durban Community Environmental Alliance, said: “We are protesting to protect the environment and prevent ocean pollution. . Uganda needs oil development to flourish to its full potential. What it doesn’t need are wealthy elitist NGOs concerned about protecting the continent from itself and trying to limit economic advancement in Africa in the name of climate change. https://t.co/4tTGi0MwTH . So if we don't invest in new oil fields, I will tell you what will happen."
        ],
        [
         40,
         8,
         null,
         "Si la France arrêtait de prendre de haut les pays d'Afrique mais au contraire travaillait main dans la main avec eux pour aider à leur développement et ainsi éviter les drames humains en Méditerranée.. . 🏀 La FFBB en aide au basket africain 🏀 https://t.co/hv0QbFeFn6 Dans le cadre de l’accord de partenariat signé entre l’Agence Française de Développement (AFD) et les fédérations françaises de Handball, Volley-ball et Basketball, lors du Nouveau Sommet Afrique-France, le prog… . \"Réunions de printemps #FairTransitions @ParisPeaceForum 💬@RiouxRemy : \"\"\"\"Le développement agricole en Afrique est sous financé. Pour y remédier il est essentiel de mobiliser l'investissement local &amp . @ManokaTony11418 @FamaaKenedugu2 Comme si la Russie avait un meilleur savoir faire que la France la Russie apart vendre des armes ils aucun projet de développement en Afrique 😂😂 . @L_Activiste226 C'est impressionnant les différents changements dans les pays de l'AES alors que la France n'a rien foutue alors qu'elle était présente depuis de nombreuses années pour soit disant aider au développement de l'Afrique. Les gouvernements français : de la grosse 💩 . @LeRoyDeCoeur La france en afrique a aidé au développement. https://t.co/zXtqPkusJ7 . 🌹Elsa Di Méo : Une candidate socialiste #FrontPopulaire au service du développement et de la culture entre l'Europe et l'#Afrique #Circo10FDE @ElsaDiMeo https://t.co/5HUlmzqneT"
        ],
        [
         40,
         9,
         null,
         "@lnstantFoot La dislocation totale de la France si réellement ce parti prend le pouvoir. Ça nous plaît de voir la France déchirée, l'Afrique pourra enfin être libre vers son développement véritable . @BB01Brigitte @Trollstoy88 Et je ne vous raconte pas sa mains prise sur l’agriculture mondiale en développant l’Afrique avec l’apparition de nombreux puits d’eau pour irriguer ses cultures. Parlons de pétrole et d’exploitation de l’uranium etc.. que les pays musulmans ne voulaient pas exploiter avt BRICS . global economy. Raw materials exploration, infrastructure &amp; manufacturing are Africa's biggest challenges &amp; when we fix that, we will have a large enough market to satisfy in Africa. Remember that Africa;s population is exploding &amp; Europe is contracting. . l'Europe surtout Occidentale,après la deuxième guerre mondiale, a pris bcp d'options pour sa stabilité et son développement socioéconomique. Il y a eu partenariat entre pays , démocratie, justice sociale, droit pour tous et défense commune avec les USA . L' Afrique n'a pas ça. . @rastaquouere44 C'est pas l'Europe qui a pratiqué une épuration ethnique en forçant les Africains à immigrer en Europe, en provoquant le sous developpement de l'Afrique et le pillage de ses ressources ? (Pour rester au même niveau de ton argumentaire 😏) . @lastpositivist That’s not fair. Africa, like India, had a bunch of competing civilisations and also, like everywhere else once, had a slave economy, that made wars profitable. The Arabs did the import/export to MENA/europe. Europeans took over, but export volumes huge. 1/2 . @GTSytb Bah go encourager la libération et le développement de l'Afrique. Si les gens vivent moins dans de la merde ça peut aider. Sinon le projet c'est quoi ? Tourelles et on nettoie ? N'oublie pas qu'en France on à la répercussions et non le problème."
        ],
        [
         40,
         10,
         null,
         "#PAPSS is linking banks across Africa! It enables seamless transfer of funds across African borders, and last week Afreximbank, the AU, and AfCFTA held the first forum of African Bank CEOs to discuss how PAPPS can support intra-African trade! https://t.co/sBZReqCv4a . Tune in to @tvcnewsng Business Nigeria at 2:00 PM to watch Wole Onasanya, CEO of Coronation Group Limited. He will be discussing key takeaways from the recent Africa CEO Forum in Kigali, Rwanda. Conversations will also steer around the latest interest rate hike by the CBN from https://t.co/NhHpno2LiN . Participation de l’API-Mali au Forum Africa CEO L'API-Mali a pris part au Forum Africa CEO, un événement qui réunit des acteurs clés du climat des affaires et des grands entrepreneurs du continent. https://t.co/EUV1DxJiWe #InvestInMali #AfricaCeoForum #AFC2024 https://t.co/oeBqKKb7qs . At the Africa CEO Forum (ACF), our Managing Director Faustin Byishimo, alongside industry experts, spearheaded a strategic roundtable on Agriculture. They discussed various challenges encountered by African Agripreuneurs in their ventures in this critical sector - from access to https://t.co/TClc2zgyoC . @MemesLord07 @MikaelCBernard Type “Africa CEO Forum Annual Summit” on YouTube. . Delighted to welcome Julius Rone, Managing Director &amp; CEO of UTM Offshore/#Nigeria as a speaker of the #RAF2024 #MakeAfricaGreat #MakeAfricaProud #Vision2024 #AfricaRising #NigeriaEconomy . I joined our partners, @gavi and the French government, at the Global Forum for Vaccine Sovereignty and Innovation to launch #AVMA. This will help us produce 60% of our vaccines in Africa by 2040, crucial for health, safety, economy, and peace. #ForOurFuture #VaccineSovereignty https://t.co/n8VclQA34P"
        ],
        [
         40,
         11,
         null,
         "A great conversation with author Stuart Eizenstat - discussing the significance of US leadership on the world stage. #Diplomacy #security #Economy #USA #Europe #Asia #LatinAmerica #Africa #MiddleEast . @iSeeRacist People acting like black people had enough money to fly back to Africa or wherever they came from😒 It's funny because the economy of us and Europe are doing bad right now because of pink decisions Pinks are pinks worst enemy . This election the main issue facing the country is demographic change. The economy ebbs and flows like it always does but demographic change is permanent. How do you feel about millions more from Europe, Africa and Asia coming to the UK? . @lucyqrow @t0nit0ne In Africa the economy and housing is so fucked up that you can barely do this. African is a third world, leaving home at 18 or Prom is something we don't do here and you'll be fucked in poverty. Big ups to those in the USA or Europe . Africa, again is colonizing Europe benignly through culture, religion and arts. However, as usual, it does not have any effect on the home economy. Worse still, we don't even know that the historical cycle has given Africa the nod to do so. Our best tool is religion. . Port strikes across Germany will worsen cargo delays across Europe’s biggest economy https://t.co/0eYzWrze5D . @beyoncegarden I'm from another country but i wanna do this to feel i belong to this platform Asia Europe and Africa Delicious foods Ice cream men Beaches Empire Bad economy"
        ],
        [
         40,
         12,
         null,
         "@VinnieSull1van @TheNorfolkLion Where do you think cobalt comes from that powers all ion batteries? That alone is sustaining the world economy. Again Europe NEEDS AFRICA! . les oligarques de la France-Israel-Afrique. La fin d'Azoulay, sa mocro mafia a Rabat est vecue comme un nouveau Waterloo a Paris. Apres l'eviction d'Afrique, la coupure de la fourniture de gaz, petrole, uranium, minerais rares, l'eviction d'Europe des nazis du talmud responsables . @HigueroLucien @L_ThinkTank L'Inde a arrêté d'acheter leur pétrole/gaz cette année. Pendant que la France renforce ses lien avec l'Inde et l'indo pacifique ou nous avons des territoires par exemple. On les laisse se déchirer en Afrique, ces territoires instables sont bien moins rentables. . @ZemmourEric Allez chercher votre uranium, pétrole, gaz, or ailleurs, après on en parlera La France a été construite avec le pillage de l’Afrique, donc la France appartient aux africains 😛 . @ZemmourEric La réponse de l'Afrique : Fini la France Afrique, fini le franc CFA, fini le pétrole et le gaz gratis, fini l'uranium gratis, On ne veut plus de bases militaires françaises en Afrique, ni de la fausse aide au développement. . @FranceLibre2024 @jdicajdisrien Vous êtes un connaisseur, alors pourquoi,la France, le Canada, et les États-Unis pillent ses richesses, or, pétrole, métaux rares . Les dirigeants racistes de ces pays entretiennent des tueries en fournissant des armes. Bientôt des gens comme vous émigrerons en Afrique . @QuintelaDavid1 @Valeurs Les infrastructures construites en Algérie par la France ont entièrement été financées par le gaz, le pétrole et l'or de l'Algérie. La reconstruction de la France après guerre a été entièrement financée par la colonisation de l'Afrique"
        ],
        [
         40,
         13,
         null,
         "@Matt8Motivation @TotalEnergies Ils ont pas besoin d’énergie en Afrique si on écoute les écolos, c’est le même problème en Inde, on leur fait la morale alors qu’ils augment juste leur niveau de vie. Nous on fait le choix de l’idéologie plutôt que de privilégier la croissance, . @greenpeacefr @TotalEnergies Les gens de Total et M. Pouyané qui les dirige font leur travail pour traiter et acheminer une énergie vitale pour les gens. Vous, vous insultez, vous harcelez, vous cassez alors que vous vivez d'argent volé et détourné. Vous niez l'explosion démographique qui détruit tout! https://t.co/1y6vV3r6Gj . But you know, in 2023, all the investments we have done on a worldwide basis, almost 500, more than 500 gigawatts of renewable, which is huge, only absorb 40% of the additional increase of demand in the year. . @lessoulevements Le groupe soulèvement de la terre ignore idéologiquement l’action du groupe Total pour restreindre les conséquences des énergies fossiles sur le changement climatique. Gageons que ce groupe khmer vert criminel récoltera ce qu'il sème depuis sa création. . Total Energies are losers. They are afraid of competition. They just want to come and steal our resources. Let them go, we don't even need them. 💀😏 . @michel6597 @greenpeacefr @TotalEnergies Bah alors quand ils ne seront plus en guarde à vue, alors. Total ENERGIES, c'est pas en France qu'ils saccagent tout et font expulser les paysans, de c'est dans le monde entier. Mais pour des nazes bien au chaud dans leur véhicule pour aller au boulot. . @AlexBaumann75 @TotalEnergies Waaaa le pauvre millionnaire il est diabolisé 😱😱 la France n’aime pas les riches et encore moins ceux qui le sont grâce à la destruction de la planète et la colonisation"
        ],
        [
         40,
         14,
         null,
         "@AlbertBabare @Weuz__ @Erestrosgoat @pretinhaxo Il a raison, la France c'est pas l'hôtel de l'Afrique. L'afrique a un potentiel infiniment plus grand que la France mettons notre énergie dans son développement plutôt que de forcer a être accepté chez les gens, ou est le problème j'ai pas compris? . @AstrooLabe @dustyteatime The tying of francophone Africa to France's economy to further sustain their colonial endeavors is a stain on the nation, but there are certainly worse imperialist powers out there . Former France Economy Minister on Awakening Africa and Post Trump New Yo... https://t.co/MEuZiJhf6B via @YouTube Sunday June 2, 2024 12 pm CT, 1 pm ET We Charge Colonialism: Former France Economy Minister on Awakening Africa and Post Trump New York Verdict . @SaharaReporters He wants to Japa again with style &amp; b recommending that Nigerians should b suffering tolerant with BAT as he was given a comatose economy by Buhari his homie. He wants to b pontificating at least somewhere in Europe not Africa definitely . @PeterSweden7 in 2023 Le Pen went to Africa to strengthen ties as she knows how important the billions France steals from africa is to the french economy . The current French economy is circling the drain and depends on its colonial plunder. It's been kicked out of Africa. . @RadioGenoa No problem for her. They will be able to take all of the valuable human capital back to Africa and deprive Europe and the European economy of it."
        ],
        [
         40,
         15,
         null,
         "@tefnakht1er @Nath_Yamb Qu'en pensez-vous des sauvages, putschistes et sous hommes ? Que représentent les occidentaux vis à vis du développement et entrepreneuriat en Afrique ? Et que veut l'africain en Europe où il n'y a aucune richesse en laissant les siennes chez lui? . @Gremy2 @MarouanShain @machin_pourquoi @DhouhaHaddad @JeanMessiha Rien que le franc CFA est une manière de contrôler l’afrique sans parler de TotalEnergies et des autres entreprises qui pillent discrètement l’Afrique donc oui aujourd’hui l’Afrique est une colonie occidentale . @faqdiss @KuqiCouture @blackintheempir But we were in agreement that France and other western powers are exploiting Africans.Niger for example went from one of the poorest nations on this planet under 🇫🇷 &amp; 🇺🇸 imperialism to being the fastest growing economy in Africa AFTER kicking them out 🤷🏻‍♀️ https://t.co/PH0O040I1f . Africa isn’t poor bc of this, it is pure demagoguery by Meloni. Niger threw the French out last year. It won’t make any difference for their economy. If anything, French interference probably helped somewhat. . Elle est payée pour mentir #france #afrique #history #cfa #economy #s... https://t.co/KTB9qqfCxE via @YouTube L’état français colonial ….. . @NoNonsensezone How old are you I can’t watch more than 2 seconds? How old are you at a time of African revolution lead by young African leaders that has knocked out France out from top 10 world economy. No be shame una no get to focus on tribalism at a time Africa needs the giant of mediocrity. https://t.co/QwWWNxd55G . @Babar_le_Rhino @JeanMessiha @Lassureur2013 Le Franc cfa ne concernant qu’une minorité d’états en Afrique, et ceux qui n’ont pas le cfa sont dans le même état de sous développement Il y a des entreprises étrangères dans tout les pays du monde, personne ne parle de colonisation Toyota et Ford colonisent la France ? Non"
        ],
        [
         40,
         16,
         null,
         "@Africa_Archives medicated oil/ minyak angin https://t.co/7SIw3q4vkS . Snake Oil for sale!! Get your snake oil from the best snake oil salesman in South Africa 🇿🇦🙏🏼😂 . Pétrole et gaz : Afrique, le nouvel eldorado ? https://t.co/zUwLBBXL0E https://t.co/Mc9lBp9Jqt . Okay, but with our plant, the price dropped to even as low as $65. . Pétrole et gaz : Afrique, le nouvel eldorado ? https://t.co/WYillLvFMI https://t.co/R3XMEdZ2SN . A écouter pipeline ou pas le Niger est déjà en avance devant Bénin car nous n'avons pas uniquement le pétrole sur notre sol de toute le façon c'est le Bénin qui perd la France et l'Europe, l'occident tous on n'en parle même pas Le sol nigerien🇳🇪 est le sol le plus de la planète https://t.co/6FNNKKHgBk . Nigeria: Rich in Resources, Poor in People's Pockets TMG Team Editorial It is a well-known fact that Nigeria is one of the most resource-rich countries in Africa, with abundant reserves of oil, gas, minerals, and arable land. With a population of ... https://t.co/E1bIclNVn1 https://t.co/2p5jHPfvty"
        ],
        [
         40,
         17,
         null,
         "TotalEnergies CEO “concerned” about #Macomia attack Pouyanné also said the restart of TotalEnergies' project, known as #Mozambique LNG, would be “gradual” and that some work had resumed in #Palma https://t.co/nS5PhgPlUZ https://t.co/HNl9ep1hDG . More than 60 French language teacher trainers have been trained in didactics to improve the quality of teaching at secondary level in Mozambique. #africa #mozambique #news #economy https://t.co/vnHdQeFOc8 . #TotalEnergies, première entreprise française par chiffre d’affaires et profit (23 milliards d’euros en 2023), dépend du #Rwanda pour son méga-projet gazier au #Mozambique. En supplantant l’Afrique du Sud, partenaire historique du Mozambique, #Kagame est devenu un élément clé . Attaque djihadiste au Mozambique en 2021 : TotalEnergies visée par une enquête pour homicide involontaire https://t.co/M1aCIRcmWi . @KKwakedi @jeune_afrique La France et TotalEnergies protègent leurs intérêts au Mozambique face à la menace djihadiste. Des dizaines de milliards d’investissement pour le Mozambique sont en jeu qui permettraient au Mozambique à 10 ans de doubler son PIB Quel est le problème ? . French energy giant TotalEnergies’ Pouyanné meets President Nyusi, sees ‘positive progress’ towards resuming Mozambique LNG project https://t.co/uRtXjxbFzU . Mais le patron de TotalEnergies vise plus grand avec son déplacement à Kigali : reprendre les activités et relancer le projet de gaz naturel liquéfié au Mozambique."
        ],
        [
         40,
         18,
         null,
         "🌙🐑🐐EID AL ADHA 🐐🐑🌙 #EID #ASIA #EUROPE #USA #Africa #INDIA #AUSTRALIA #SOUTHAMERICA #ECONOMY #WORLD https://t.co/b2248EiMr5 . Electoral terrain shifts: Increased ... https://t.co/XaN8gtsP20 #África #Corruption #Crime #CyrilRamaphosa #Economy #France https://t.co/VWNd604kLh . Rejoignez-nous pour explorer le développement socio-économique de l'Afrique à l'ère numérique. Voici le lien de connexion pour rejoindre la conférence https://t.co/oUGKZ9BNP8 #africa #Mali #algerie #Paris #usa #Afrique #europe #dakar #senegal #abidjan https://t.co/lMOoUwVmOR . @MouvementMaure @SaibariSZN Quel rapport avec la couleur de peau le Maroc n'est pas une îles le Sahara occidental allait jusqu'au frontière avec le mali. l'Europe ns a colonisé et imposé e plan Marshall qui a trainer notre développement si tu vivais au Maroc tu saurais kl'essor du pays passe par l'Afrique . @Margueritestern Parce que la France est présente au moyen orient qu'elle y a des partenaires. La France 5eme puissance pétrolière sans une seul goutte de pétrole . La France qui a pompe les ressources de l'Afrique comme jamais. Les étrangers méritent mieux comme traitement . Sois reconnaissante . Rejoignez-nous pour explorer le développement socio-économique de l'Afrique à l'ère numérique. Voici le lien de connexion pour rejoindre la conférence https://t.co/oUGKZ9BNP8 #CDAConference #AfriqueNumérique #Innovation #Africa #Mali #Algerie #Paris #USA #Afrique #Europe https://t.co/9XbkKIujb6 . Rejoignez-nous pour explorer le développement socio-économique de l'Afrique à l'ère numérique. Voici le lien de connexion pour rejoindre la conférence https://t.co/oUGKZ9BNP8 #CDAConference #AfriqueNumérique #Innovation #Africa #Mali #Algerie #Paris #USA #Afrique #Europe https://t.co/dkYWivbmvI"
        ],
        [
         40,
         19,
         null,
         "@Mohbams9 @CapitaineIb226 @zerbo_harun @JeanB_Zongo @EsmelPregnon @AgAnchawadje @CourPenaleInt Pendant 60 ans ce peuple a été diminué humilié en côte d'ivoire en Afrique de l'ouest et par la France par des coups d'État à répétition et aucun moyen de développement On tue vos présidents et là il ya certains qui essayent QQ chose au lieu de lui laisser et donner du temps .. . @Erwannature @jeanchr70798085 Comme tu veux pas répondre je te repose la question ici Depuis 60 ans d’indépendance tu es toujours incapable de nous dire ce que la France à pu faire pour le développement de l’Afrique le mouton 🤡 . @LeilaLeghmara @ECiotti Chirac? Plus préoccupé par le développement de l'Afrique et du Japon que celui de la France... . @Maruts987 @ericverhagen_ @A2x_be Alors je ne sais pas si c'est la moindre des choses mais je vous suggère de vérifier comment cela ce passe dans des pays par exemple en Afrique ou certains pays ont investi et de comparer car voyez vous la France à toujours œuvrée au développement des territoires et non exploitat . The manner in which the French/British and USA have treated the people of Africa is horrible. They were there to look after corporate interests and to take as much money as possible out of the African economy. The global south is on to them. . 2016 Zaydisme causalité démocratie pourquoi sous développement en Afrique Hypothèse Je m’adresse jeune 18 ans bâtir pour servir pays Afrique Mali derrière écran France pedophile sioniste pedé fossoyeurs Afrique violent les enfants spolie afrqke me piége vol Pc mon père https://t.co/92F96uqZkE . Votre boulot, c’est la France, pas l’Afrique"
        ],
        [
         40,
         20,
         null,
         "Le tirage au sort des éliminatoires de la Coupe d'Afrique des Nations CAF TotalEnergies, Maroc 2025 aura lieu le 4 juillet à Johannesburg. https://t.co/L0FifBU2RV . CAN U17 TotalEnergies 2025 🏆 La Côte d'Ivoire 🇨🇮 a été désignée pays organisateur de la Coupe d’Afrique des Nations U17 TotalEnergies 2025. https://t.co/yGEIM8JZak . les dates de l’édition 2025 de la Coupe d’Afrique des Nations CAF TotalEnergies qui se déroulera au Maroc. La CAN CAF TotalEnergies Maroc 2025 est programmée comme suit : Match d'ouverture : Dimanche 21 décembre 2025 Finale:Dimanche 18/01/2026 Le Comité exécutif de la CAF . #Communiqué : Le Président de la CAF, Dr Patrice Motsepe, annoncera les dates de la Coupe d’Afrique des Nations #CAF TotalEnergies, Maroc 2025 ce soir. https://t.co/VxpyJMuP3o . 🚨 Voici les nouvelles dates annoncées pour la 🏆 CAN TotalEnergies 2025 / Maroc 🇲🇦 📆 Match d'ouverture : 21 décembre 2025 📆 Match final : 18 janvier 2026. https://t.co/pZFdVj2GFL . ⚽️ #Football Initialement prévue en 2024, la Coupe d'Afrique des Nations féminine CAF TotalEnergies qui sera également organisée au Maroc se disputera du samedi 5 juillet au samedi 26 juillet 2025. https://t.co/cJ8Z8gkEL7 . La Côte d'Ivoire a été désignée pays organisateur de la Coupe d’Afrique des Nations U17 TotalEnergies 2025 . Nos stades vont reprendre du service. https://t.co/Cx89JT9jqx"
        ],
        [
         40,
         21,
         null,
         "Aliko Dangote announced at the Africa CEO Forum Annual Summit in Kigali that Nigeria is set to stop importing fuel by June 2024, thanks to the Dangote Refinery's anticipated production of 650,000 barrels per day. This marks a significant milestone in Nigeria energy independence. https://t.co/WljbSnHANN . @the_davidatta @AbdoulS321 He said it in the just concluded African ceo forum annual summit in may. He needs 35 visas to travel within Africa but French investors don’t. . “As an investor, as someone who wants to make Africa great, I have to apply for 35 different visas on my passport,” Dangote told the recent Africa CEO Forum in Kigali. At the recent African CEO summit in Kigali, Rwanda, a critical issue came to light: restrictive visa policies. https://t.co/7FPs1fSbHd . Dangote Calls for More Investments to Drive Africa’s Economic Growth at CEO Forum https://t.co/VfkJdsPl3d #Dangote #economicgrowth #Africa . Africa's richest man, Aliko Dangote at the recent Africa CEO Forum Annual Summit, expresses his ongoing difficulties with travelling within Africa using his Nigerian passport. #ACF #AfricaVisas #AfricaCEOForumAnnualSummit #ClickNaija https://t.co/VsfnKtuHhN https://t.co/4FRWOE4clN . À lire Dangote Cement a-t-il enfin trouvé la bonne formule hors du Nigeria ? C’est en tout cas ce que souhaite Patrick Pouyanné. . Africa's richest man, Aliko Dangote, criticized the excessive visa requirements he faces within Africa, needing 35 visas compared to fewer for Europeans. Speaking at the Africa CEO Forum in Kigali, he highlighted the disparity in visa policies, with European passports enjoying https://t.co/OM4BkaASYI"
        ],
        [
         40,
         22,
         null,
         "\"@JonNuggets On payait le transport scolaire à l'époque depuis Omar Bongo avait quoi ? Un partie de la RSE ( comme une redevance obligatoire), par exemple, de \"\"\"\"Ivindo_Iron\"\"\"\" + @GroupeEramet #Comilog + @TotalEnergies #Gabon + etc. = Transport scolaire gratuit\" . @EmmanuelMacron Participer au développement économique et social de l’Afrique est un investissement rentable pour la France et l’Europe. Car une Afrique prospère, c’est moins d’immigration et plus d’échanges économiques entre les 2 continents.On peut aider la Corrèze et le Zambèze en même temps. . TotalEnergies (présent dans 40 pays africains); Perenco, entreprise pétrolière française présente au Gabon; Rougier, spécialisé dans l'exploitation forestière en Afrique et Orano, producteur d’uranium au Niger, sont le symbole des intérêts économiques français sur le continent. . @Jean_Asia_ @YDouhit @JeromeMouton1er @EmmanuelMacron @elonmusk @TotalEnergies @USAenFrancais @Mairie10Paris La Russie est en train de régler le problème. Avec la Chine ce sera la fin du pré carré français en Afrique. La France n'aura pu les moyens de ses ambitions. La France va devenir une nation insignifiante. Comme la Belgique ou le Luxembourg... . @ZemmourEric Annonce à la France CASSEZ VOUS D AFRIQUE Arrêtez vos ingérence Libérer nos finances Dehors 1.Vincent Bolloré (Groupe Bolloré) 2.Martin Bouygues (Groupe Bouygues) 3.François-Henri Pinault (Groupe Kering) 4.Patrick Pouyanné (TotalEnergies) Et tout les autres . 🔴Les 5 entreprises Françaises🇫🇷 qui ont pillé l'#Afrique avec la complicité des traîtres internes. _FCFA -ELF -TOTAL ÉNERGIES, -ORANGE, -BOLLORE. La lutte continue.... . @France24_fr Pourquoi exposez les faces sombres du développement d'un pays ,la France pour autant à des faces cassées sombres ...la colonisation en AFRIQUE ...les entreprises Françaises ne paient pas leur impôt en AFRIQUE C'est un manque à gagner énorme pour les pays Africains"
        ],
        [
         40,
         23,
         null,
         "@sputnik_afrique La France est capable tout pour freiner notre développement . \"@la__lanterne @JeanBon1789 @achelhiz Exact. Plus \"\"\"\"d'aide au développement\"\"\"\", plus de francs CFA, plus de loi imposée à l'Afrique concernant ses échanges... Aucun pays ne s'est développé avec une devise étrangère ou en se soumettant aux lois imposées par l'Occident. Donc vaut mieux que la France garde son aide.\" . @Layandure @AESinfos T'es Vraiment un cancre toi, la vraie guerre, c entre USA et Chine. Talon exécute un décision américaine pour atteindre les intérêts chinois en Afrique (parce que la Chine à aidé la Russie en Ukraine et l'argent du pétrole Nigérien n'est pas passé par la France)1/2 . @knafo_sarah Aide au développement ??? Sans l'Afrique la france n'est rien. . @RFI C'est la destruction de la Libye par la France qui a freiné le développement d'une grande partie de l'Afrique. . @knafo_sarah Il s’agirait de préciser de quel pays vous parlez car l’aide au développement n’est plus d’actualité depuis fort longtemps au Maghreb. D’ailleurs plusieurs pays d’Afrique ne veulent plus rien avoir avec la France. Souvenez-vous que le Maroc a proposé d’aider la France lors . @jeune_afrique Autant la France aide ces personnes à gagner leur vie, autant celles-ci contribuent au développement de la Métropole avec leurs efforts physiques et intellectuels. En les pénalisant, elle se pénalise elle s'autoflagelle."
        ],
        [
         40,
         24,
         null,
         "@Ajdok12 @garandiadoum1 @RFI l'Afrique c'est pas l'Europe. C'est une cinquantaine pays tous dans une dynamique de développement ce qui fais peur a l'Europe (a raison) c'est que le système africains puisse fonctionner en circuit fermé indépendamment de l'U.E et ça arrivera un jour que vous vouliez ou non🤷🏿‍♂️ . @femilonge My bro, This is what we enjoy in Europe. Besides, there is an existing research report on the effect of this on the economy and Healthcare but Africa is not interested. Did you see the nonsense bicycle track they built in Abuja? 😂 . @Abdel895863 @SamuelEtoo Le développement des pays noirs d'Afrique peut passer par les fils d'Afrique FOOTBALLEURS. . @narimene261709 @FouratiJerbi Il est vrai que le niveau de développement de l'Afrique était semblable à celui de l'Europe au XIXe siècle... . @fawogyimiiko That’s because we don’t value cars here in Europe like they do in Africa. A minister here rides a bicycle to parliament even though their economy is booming, check Ghana’s current state and what’s happening there my friend. There’s no credible value in comparing this masa . @sumlenny Continue with the history. This where you choose to end your history. To fight European or United States you do not need to attack their country just attack their interests which hold their economy. Their interests in Middle east and Africa! You will see Europe weaken. . @jeune_afrique Allez y demander à Zelensky d'organiser mes élections . Vous nous fatiguer les oreilles avec ces élections. Savez vous qu'il existe 6 monarchie en Europe et c'est nous en Afrique qu'on convaint que sans élections le développement est impossible"
        ],
        [
         40,
         25,
         null,
         "We are against exploration of gas and oil, as it may risk degradation of the environment and marine ecosystems, our livelihood and our health. . Vers du pétrole bas carbone dans le bassin de la Kwanza. . It's more local. . 90% of people never ever believed that we would be able to deliver, but you know, we've been able to deliver for now. . Of course, it does not mean that we should not do it. . If it's not true, I wouldn't say it. . For some of us, we believe that, okay, fine, even if there will be a reduction, I mean, you can see of recent, you've seen Hertz Rental Car, they dropped all their EVs and they've gone back to gasoline."
        ],
        [
         40,
         26,
         null,
         "It's simple and clear. . And I remind you that Total Energy is the only big major company which has kept all its retail network. . What is the impact so far of that having come on stream? There is quite a lot of impact. . Right. . So that is the issue. . So that's just a natural reality. . Yes, there were 19,000 families which were impacted."
        ],
        [
         40,
         27,
         null,
         "We often ignore problems of leadership, but you are CEOs, heads of institutions, heads of states, and we all know that's not what leaders do. . D’autres entreprises françaises impliquées. . For our continent, it is equally important to build the capacity to respond swiftly and efficiently to any challenge and bounce back. . « Il y a un énorme fossé par rapport à la communication de l’entreprise », très verte, renchérit Baptiste*, ingénieur lui aussi. . Grâce à un contrat passé en mai 2022, un an avant le début de la procédure de rachat par CMA CGM, Bolloré Logistics est devenu l’un des principaux fournisseurs logistiques d’EACOP. . So, we will need to talk about leadership too during this conference. . Already, billions of dollars are being channeled into this exciting sector."
        ],
        [
         40,
         28,
         null,
         "Soon enough, the only middle class in the world that will still be growing is Africa’s. . Are we such a terrible company? We don't respect human rights. . The equipment that we have, construction equipment that we have, is much more than the entire construction equipment of West Africa. . We have whatever it takes to make Africa great. . Certes nous ne sommes pas présents en Afrique depuis 100 ans, mais le continent est l’un des points d’ancrage de notre entreprise », souligne Patrick Pouyanné. . We cannot move in a free African agreement if people cannot come and work in neighboring African countries. . Today, our polypropylene and our polyethylene will meet the entire demand of Africa."
        ],
        [
         40,
         29,
         null,
         "So we know where we go. . Where is the money for SMMEs? Where is the money because we're here, we're ready. . He mentioned something about narrative. . It is time that we have a new conversation so that all of us have an equal voice on what happens. . We use the ocean for cultural practices and as a means to sustain our livelihood. . Opération déminage au Mozambique La mèche est allumée. . We cannot remain a place where people pull rocks out of the ground, which others then turn into high-tech products and sell back to us."
        ],
        [
         40,
         30,
         null,
         "But I think, you know, just to add, in Nigeria, I think the current government, they've done quite a lot. . (Présent à #Kigali à l’occasion de l’Africa CEO Forum, #PatrickPouyanné, le patron de TotalEnergies revient sur les dossiers prioritaires de la major tricolore et révèle sa volonté de collaborer avec #AlikoDangote.) https://t.co/gBh8XNyaV7 . President Kagame also met with Patrick Pouyanné, the CEO of TotalEnergies, who is in Rwanda for #ACF2024. @Paulkagame @UrugwiroVillage @UKWELITIMES https://t.co/ZIWDndgfQq . In fact, just I want to tell you that there are also very good examples of governance in Africa. . Umuyobozi Mukuru w’ikigo TotalEnergies gitunganya peteroli na gazi, Patrick Pouyanné, yagaragaje ko u Rwanda ari intangarugero mu miyoborere ku mugabane wa Afurika. ✍︎@JadoTuyizere https://t.co/qKUlzaJP2W . Maybe next time it will be in Kenya. . This is the story (or rather three separate but related stories) about two worlds called them and us, where the ‘us’ is the West (particularly Europe and North America) and the ‘them’ is everywhere else, most especially the equatorial zone."
        ],
        [
         40,
         31,
         null,
         "And I can tell you this pipeline does not go through natural preserved areas, special areas. . EACOP , c’est un chantier titanesque pour construire l’oléoduc chauffé le plus long du monde : plus de 1400 kilomètres à travers l’Ouganda et la Tanzanie. . Le collectif estime que le projet Eacop de Total émettra « plus de 379 millions de tonnes équivalent CO2 » au cours des 25 prochaines années. . A limited fire broke out in a storage area belonging to Kuwait's al-Zour refinery, but production was not affected, state-owned Kuwait Integrated Petroleum Industries Company (KIPIC) said on Saturday. . VAN UGANDA TOT DEN HAAG: SAMEN VERZETTEN WE ONS TEGEN TOTAL ENERGIES - Vandaag staan we weer bij Total Energies in Den Haag, samen met activist Patience Nabukalu uit Uganda. Onze eis: stop de aanleg van de verwoestende East African Crude Oil Pipeline en herstel de schade. https://t.co/55VqZ0JUSh . « Il y a tellement d’acteurs européens qui se sont retirés du financement du projet EACOP que TotalEnergies se tourne désormais vers les acteurs chinois et compte de plus en plus sur eux », explique Romane Audéoud, coordinatrice de la campagne #StopEACOP à Londres. . Message aux grands pollueurs comme @TotalEnergies : -Nous ne pouvons pas boire d'huile -L'Afrique n'est pas votre station-service -Faites vos valises maintenant ! https://t.co/UkNZgguZE5"
        ],
        [
         40,
         32,
         null,
         "And my only next job is to invite my countrymate. . My simple but very important task, therefore, this morning was to welcome you and thank you. . First, I wish to welcome you to Kigali. . Mr.Puan, Mr.Dangote, thank you for honoring us with your time. . What has been the highlight of this year's forum for you? Thank you. . Yeah, let me jump in. . You have been both so candid."
        ],
        [
         40,
         33,
         null,
         "So all our inputs are imported. . So it's time now, sometimes, to. . We have to then re-import it. . One of the areas is logistics, particularly improving our ports but also dealing with the standard gauge railway. . In many sectors for many years, we were told that we don't have human capital, we don't have financing. . First of all, we couldn't find what you call an EPC contractor. . La plupart ne savent pas que leur entreprise participe à ce projet."
        ],
        [
         40,
         34,
         null,
         "Au nom d’une loi sur le “devoir de vigilance”, les Amis de la Terre, Survie et quatre associations ougandaises réclamant la suspension des projets Tilenga et EACOP avaient assigné TotalEnergies en 2019, une procédure jugée irrecevable début 2023. . Nouvelle bombe climatique : @TotalEnergies veut exploiter deux immenses champs gaziers au large de l'Afrique du Sud. Carnage annoncé de milliers de baleines, dauphins, oiseaux et tortues. Signez et... https://t.co/T3Wy654M65 via @Bloom_FR . Nouvelle bombe climatique : @TotalEnergies veut exploiter deux immenses champs gaziers au large de l'Afrique du Sud. Carnage annoncé de milliers de baleines, dauphins, oiseaux et tortues. Signez et... https://t.co/ckL54Plr6R via @Bloom_FR . Des représentants religieux et des militants croyants sont venus manifester devant l'assemblée générale de TotalEnergies pour demander l'arrêt de grands projets pétroliers en Ouganda et Tanzanie #Environnement #Afrique https://t.co/rY4Tzw2QkI https://t.co/WL7jdStXew . 🚩 « TotalEnergies fait face à une contestation citoyenne contre ses projets pétroliers en Afrique de l’est. Malgré le retrait d’investisseurs, la multinationale continue de compter sur des soutiens économiques en France…. » https://t.co/Ls5uZ0NISu . Au nom de cette même loi, une coalition de six ONG et 16 collectivités, dont Paris et New York, avait accusé en 2020 l’entreprise d'”inaction climatique”, une assignation également jugée irrecevable en juillet 2023. . ⚖️🌍 Et si on mettait la justice au menu? Face aux projets climaticides de TotalEnergies en Afrique, des croyants de diverses traditions religieuses ont accompli un jeûne public d'interpellation, zoom sur leur action https://t.co/q9J4KmoZjG via @saphirnews #justice #ecologie https://t.co/iHpTzw0FEO"
        ],
        [
         40,
         35,
         null,
         "Let's read AFRICA CEO FORUM: VIVAJETS CEO, ACHUM, SUPPORTS CALLS FOR REGIONAL INTEGRATION by clicking this https://t.co/HFIFtaa0ow !! :) . En marge de mes activités a l’Africa CEO Forum, j’ai rendu un vibrant hommage aux victimes du genocide. A ceux là qui se sont sacrifié pour la paix. Mendiant de la paix, j’ai toujours pensé que celle ci n’est pas l’absence de conflit, mais une quête perpétuelle de la justice. https://t.co/KMU8LQkAoQ . The CEO KAZUNGU GERALD THE AFRICANO He keeps the smile when youths transform Instilling a sense of Patriotism and Pan Africanism among the youths not forgetting empowering them socially, economically, and in the leadership management is the passion for our CEO https://t.co/GcMYcqXPxn . At today's U.S.-Kenya Business Forum, I was pleased to join President @WilliamsRuto, @SecRaimondo, and @USAmbKenya to announce a $180M @DFCgov loan to @ahl_africa for the development of affordable, safe, and sustainable student housing in 🇰🇪. https://t.co/39szuzYtjR . \"🇰🇪 Kenyan President Ruto advocates for fair financial architecture The East African leader's remarks came at the 2024 Africa CEO Forum in Rwanda, which brought together more than 2,000 participants. \"\"\"\"It is time that we have a new conversation,\"\"\"\" William Ruto declared. \"\"\"\"The https://t.co/MSwNM1weGP\" . Our Position on the so-called GNU hasn’t changed. As Black People we play with power, we do not know how to use power. Our CEO @kbmorota articulated our position well @Newzroom405 https://t.co/ccRRcJNyld . Il Presidente William Ruto partecipa al summit del Forum dei CEO dell'Africa a Kigali, rafforzando la cooperazione regionale e gli investimenti. #Politica #Africa https://t.co/gj2ITmxq4Y https://t.co/cCTc4WXSOW"
        ],
        [
         40,
         36,
         null,
         "🔴 ZOOM 🔴 Quand François Hollande vole au secours de TotalEnergies ⬇⬇ https://t.co/QR2FbFma0G . Quand les salariés mettent en avant un rapport de l’Agence internationale de l’énergie qui appelle à renoncer à l’ouverture de nouveaux champs pétroliers, l’un des cadres répond que « le monde en a toujours besoin d’un peu » et que le rôle de Schneider est de décarboner les projets sur lesquels l’entreprise travaille. . Les 4 banques 🇫🇷 sont toujours des soutiens de poids pour les gdes entreprises pétrolières &amp; gazières publiques et privées qui misent sur l’expansion des énergies fossiles (Total, ENI, Saudi Aramco). Elles ont reçu + de $26,8 milliards de soutien des banques 🇫🇷 entre 2021 &amp; 2023. . ” Joyce Kimutai, a climate scientist at the University Of Cape Town, said: “The fossil fuel industry will continue to undermine science, they will continue to expand their businesses, they will continue to cause suffering to the people as long as they know that the law can’t hold them accountable. . For this reason Bloom and two other climate justice groups took TotalEnergies to court. . 🔴 ZOOM 🔴 Quand François Hollande vole au secours de TotalEnergies ⬇⬇ https://t.co/QR2FbFma0G . ⚖️🌍Des victimes du dérèglement climatique attaque @TotalEnergies en justice ! Un nouveau contentieux climatique contre le géant des énergies fossiles. On ne vous lâchera pas ! #SeeYouInCourt"
        ],
        [
         40,
         37,
         null,
         "@KillaKhaz @eaglebear91 @MSamuelSherwood @DickHammer44 La France achète l'uranium au-dessus du prix du marché en guise de soutien au développement + pour les Nigériens, l'uranium n'était que de la terre avant que les Français ne créent les infrastructures d'excavation. Où sont les centrales nucléaires en Afrique ? . La chine a signé de gros contrats pour aider au développement en Afrique Pendant que la France se meurt sur des arrêts maladie non rémunérés . https://t.co/R4PblWSJZi,(49%2C7%20Mtep). En France l'apport en pétrole est quasi étrangers, il vient des état-unis, au moyene orient en passant par l'afrique, et l'ex-URSS . @EuphonCaca Les mongol dans toutes leurs splendeurs. Exactement ce qui s'est passé en Algérie un beau pays grâce à la France devenue la.poubelle de l'Afrique du Nord. Et encore si l'Algérie n'avait pas de pétrole ce serait une catastrophe humanitaire . @priscathevenot @J_Bardella La macronie qui parle de lobbying ? Ce n’est pas vous qui avez vendu aux américains notre fer de lance de l’industrie ? Détruit le nucléaire pour le lobby écolo et fait machine arrière ? Ce n’est pas vous qui avez cédé aux lobbys de l’énergie avec les accords total et Engie ? . @CNEWS Stop stop en Algérie et autres pays musulmans vous êtes plus forts que notre RN et on respecte votre amour total pour la religion essentielle du Prophète Veuillez mettre toute votre énergie ☮️ et laissez faire les naturels de l’hexagone 🇫🇷 . @orndz31 Genre y a pas v’la du pétrole en Algérie ? Et vous êtes le plus grand pays d’Afrique , jsp je trouve que c’est un endroit qui a du potentiel. J’aurais aimé que ça soit un avant poste pour la France et qu’on trouve une relation plus symbiotique ! Mais après c’est que mon avis"
        ],
        [
         40,
         38,
         null,
         "🌍💸 India tops global remittances in 2023 with $125B, surpassing $100B in 2022! #globaleconomy #remittances #diaspora #economicimpact #india #mexico #china #philippines #money #financial #global #economy #international #funds #support #rural #asia #africa #europe #immigration https://t.co/yYLlpmAHsZ . @RythmOla @charlesbanky For the fact I know Saudi Arabia, France, Netherland, Qatar, US, Germany, United Kingdom and India, equally some Africa countries too, there's global economy crisis and most countries are battling their own problem. If you think US is the standard, he's been there https://t.co/Y90ia3wH8P . @JimmyLo51490497 @georgegalloway @MoatsTV The U.S. is no longer the dominant world economy, and the G7, which is the U.S., Canada, Britain, France, Italy, Germany and Japan, is actually smaller than the BRICS countries in economic size, which is Brazil, Russia, India, China and South Africa. . @MyLordBebo Okay, but why the whole world, Africa, South America, Asia, some neutral countries in Europe like Serbia, will suffer of global nuclear winter and total collapse of the worlds economy, just because some Russian nationalist cannot archive his goals and decided to nuke whole world? . Select Qantas Premium Economy, Business Class, and First Class fares globally are on sale until 17 May 2024. UK &amp; Europe: https://t.co/dkIUvBv0qP Asia: https://t.co/sxXm9hKkVy USA: https://t.co/yd2CSiv7oY South Africa: https://t.co/wFURsIWKt9 Contact us on 0800 00 3463 to book. https://t.co/n7mxzpkdwA . [#EuropeanBanking] Is optimism on the rise for the banking sector? 2023 saw the global economy grapple with yet more geopolitical and macroeconomic challenges. If you are curious about their effect on the #ECL of Europe's 26 largest banks, read more: https://t.co/ckRPu3MnE4 https://t.co/whZ5QD8deX . \"\"\"\"\"Geopolitical rivalry, the sustainability and energy transitions, and digitalisation are impacting trade flows, investments and the earning potential of the Netherlands and Europe (the EU) at large.\"\"\"\"\""
        ],
        [
         40,
         39,
         null,
         "CPFs make communities partners in protecting national infrastructure.#ConsumerDialogueForum End Vandalism COFEK Forum @cofek_africa @kenyapower @smutoro @stopillicitrade https://t.co/cQMv2vaeHy . Engaging communities through CPFs is essential for the long-term protection of critical power infrastructure.#ConsumerDialogueForum End Vandalism COFEK Forum @cofek_africa @kenyapower @smutoro @stopillicitrade https://t.co/yFKci7ws9d . Through CPFs, communities learn the importance of protecting critical infrastructure for national development and uninterrupted services.#ConsumerDialogueForum End Vandalism COFEK Forum @cofek_africa @kenyapower @smutoro @stopillicitrade https://t.co/77qi8c8z8d . Local knowledge through CPFs strengthens security strategies for power facilities.#ConsumerDialogueForum End Vandalism COFEK Forum @cofek_africa @kenyapower @smutoro @stopillicitrade . CPFs create a collaborative effort between Kenya Power, law enforcement, and communities to combat vandalism.#ConsumerDialogueForum End Vandalism COFEK Forum @cofek_africa @kenyapower @smutoro @stopillicitrade . CPFs facilitate better communication between residents and law enforcement.#ConsumerDialogueForum End Vandalism COFEK Forum @cofek_africa @kenyapower @smutoro @stopillicitrade . Enhanced patrols through CPFs improve security around power installations.#ConsumerDialogueForum End Vandalism COFEK Forum @cofek_africa @kenyapower @smutoro @stopillicitrade"
        ]
       ],
       "datasetInfos": [],
       "dbfsResultPath": null,
       "isJsonSchema": true,
       "metadata": {},
       "overflow": false,
       "plotOptions": {
        "customPlotOptions": {},
        "displayType": "table",
        "pivotAggregation": null,
        "pivotColumns": null,
        "xColumns": null,
        "yColumns": null
       },
       "removedWidgets": [],
       "schema": [
        {
         "metadata": "{}",
         "name": "content_topic_clusters",
         "type": "\"integer\""
        },
        {
         "metadata": "{}",
         "name": "content_topic",
         "type": "\"long\""
        },
        {
         "metadata": "{}",
         "name": "content_topic_ancestor",
         "type": "\"void\""
        },
        {
         "metadata": "{}",
         "name": "content",
         "type": "\"string\""
        }
       ],
       "type": "table"
      }
     },
     "output_type": "display_data"
    }
   ],
   "source": [
    "import random\n",
    "import pyspark.sql.functions as F\n",
    "\n",
    "def sample_contents(content_cluster):\n",
    "    clustered_contents = spark.sql(f\"\"\"\n",
    "        SELECT content_id, content_topic\n",
    "        FROM {context[\"table_prefix\"]}.comp_content_clusterings\n",
    "        WHERE project_id='{context[\"project_id\"]}' AND\n",
    "              content_group='{context[\"import_id\"]}' AND\n",
    "              content_topic_clusters = {content_cluster}\n",
    "    \"\"\").groupBy(\"content_topic\").agg(F.collect_list('content_id').alias(\"content_ids\"))\n",
    "\n",
    "    sampled_content_ids =spark.createDataFrame([\n",
    "        [clustered_content['content_topic'], random.sample(clustered_content['content_ids'], sample)] \n",
    "        for clustered_content in clustered_contents.collect()\n",
    "    ]).withColumn(\"content_id\", F.explode('_2')).drop('_2')\n",
    "\n",
    "    sampled_contents = sampled_content_ids.join(\n",
    "        spark.sql(f\"\"\"\n",
    "            SELECT id as content_id, content\n",
    "            FROM {context[\"table_prefix\"]}.norm_contents\n",
    "            WHERE project_id='{context[\"project_id\"]}' AND\n",
    "                  content_group='{context[\"import_id\"]}'\n",
    "        \"\"\"),\n",
    "        'content_id', 'inner'\n",
    "    )\n",
    "\n",
    "    return sampled_contents.groupBy('_1').agg(F.concat_ws(' . ', F.collect_list(\"content\")).alias('content')).select(\n",
    "        F.lit(content_clusters[-1]).alias(\"content_topic_clusters\"),\n",
    "        F.col('_1').alias(\"content_topic\"),\n",
    "        F.lit(None).alias(\"content_topic_ancestor\"),\n",
    "        F.col('content')\n",
    "    ).orderBy('content_topic')\n",
    "    \n",
    "sampled_contents = sample_contents(content_clusters[-1])\n",
    "\n",
    "display(sampled_contents)"
   ]
  },
  {
   "cell_type": "code",
   "execution_count": 8,
   "metadata": {
    "application/vnd.databricks.v1+cell": {
     "cellMetadata": {},
     "inputWidgets": {},
     "nuid": "a26680e0-fbf1-47a3-a660-990b8a122378",
     "showTitle": false,
     "title": ""
    }
   },
   "outputs": [
    {
     "data": {
      "application/vnd.jupyter.widget-view+json": {
       "model_id": "0e419f442bc345b2b6c40441b0a9eaad",
       "version_major": 2,
       "version_minor": 0
      },
      "text/plain": [
       "(…)ini-128k-instruct-abliterated-v3_q4.gguf:   0%|          | 0.00/2.39G [00:00<?, ?B/s]"
      ]
     },
     "metadata": {},
     "output_type": "display_data"
    }
   ],
   "source": [
    "from llama_cpp import Llama\n",
    "from tqdm import tqdm\n",
    "\n",
    "llm = Llama.from_pretrained(\n",
    "    repo_id=\"failspy/Phi-3-mini-128k-instruct-abliterated-v3-GGUF\",\n",
    "    filename=\"Phi-3-mini-128k-instruct-abliterated-v3_q4.gguf\",\n",
    "    verbose=False, \n",
    "    n_ctx=4096,\n",
    "    n_gpu_layers=-1,\n",
    ")"
   ]
  },
  {
   "cell_type": "code",
   "execution_count": null,
   "metadata": {
    "application/vnd.databricks.v1+cell": {
     "cellMetadata": {},
     "inputWidgets": {},
     "nuid": "180a58a7-f640-48ae-b4cc-e672bd6c9fe6",
     "showTitle": false,
     "title": ""
    }
   },
   "outputs": [],
   "source": [
    "from pyspark.sql.types import *\n",
    "\n",
    "def process_content(content):\n",
    "    prompt = f\"\"\"<|system|>You are a helpful assistant.<|end|>\n",
    "               <|user|>Summarize in french the following list of sentences in a short paragraph. Here is the list of sentence to summarize :{content}<|end|>\n",
    "               <|assistant|>\"\"\"\n",
    "\n",
    "    output = llm(prompt, max_tokens=2048, stop=[\"<|endoftext|>\"])\n",
    "    res = output[\"choices\"][0][\"text\"].strip()\n",
    "    return res\n",
    "\n",
    "def process_contents(sampled_contents):\n",
    "    return spark.createDataFrame([\n",
    "        [\n",
    "            sampled_content['content_topic_clusters'],\n",
    "            sampled_content['content_topic'],\n",
    "            sampled_content['content_topic_ancestor'],\n",
    "            process_content(sampled_content['content'])\n",
    "        ]\n",
    "        for sampled_content in tqdm(sampled_contents.collect(), desc=\"Summarizing\")\n",
    "    ], StructType([\n",
    "        StructField(\"content_topic_clusters\", IntegerType(), False),\n",
    "        StructField(\"content_topic\", IntegerType(), False),\n",
    "        StructField(\"content_topic_ancestor\", IntegerType(), True),\n",
    "        StructField(\"content\", StringType(), False),\n",
    "    ]))\n",
    "\n",
    "summaries = {\n",
    "    content_clusters[-1]: process_contents(sampled_contents)\n",
    "}\n",
    "\n",
    "display(summaries[content_clusters[-1]])"
   ]
  },
  {
   "cell_type": "code",
   "execution_count": null,
   "metadata": {
    "application/vnd.databricks.v1+cell": {
     "cellMetadata": {},
     "inputWidgets": {},
     "nuid": "63845bb1-32ea-4fbd-b42f-fa6a4484f19e",
     "showTitle": false,
     "title": ""
    }
   },
   "outputs": [],
   "source": [
    "hierarchy = spark.sql(f\"\"\"\n",
    "    SELECT  content_topic_clusters, content_topic_ancestor, content_topic, count(*) AS count\n",
    "    FROM {context[\"table_prefix\"]}.comp_content_clusterings\n",
    "    WHERE project_id='{context[\"project_id\"]}' AND\n",
    "          content_group='{context[\"import_id\"]}'    \n",
    "    GROUP BY content_topic_clusters, content_topic_ancestor, content_topic\n",
    "    ORDER BY content_topic_clusters, content_topic_ancestor, content_topic\n",
    "\"\"\")\n",
    "\n",
    "def compute_layer(content_clusters, index):\n",
    "    if index == 0:\n",
    "        return\n",
    "\n",
    "    content_cluster = content_clusters[len(content_clusters) - 1 - index]\n",
    "    content_cluster_ancestor = content_clusters[len(content_clusters) - 1 - index + 1]\n",
    "    display(index, content_cluster, content_cluster_ancestor)\n",
    "    display(summaries[content_cluster_ancestor])\n",
    "    contents = hierarchy.where(f\"content_topic_clusters = {content_clusters[-index]}\").join(\n",
    "        summaries[content_cluster_ancestor],\n",
    "        hierarchy.content_topic_ancestor == summaries[content_cluster_ancestor][\"content_topic\"],\n",
    "        'inner'\n",
    "    ).groupBy(hierarchy.content_topic_ancestor, hierarchy.content_topic).agg(\n",
    "        F.concat_ws(' . ', F.collect_list(\"content\")).alias('content')\n",
    "    ).select(\n",
    "        F.lit(content_cluster).alias(\"content_topic_clusters\"),\n",
    "        F.col(\"content_topic\"),\n",
    "        F.col(\"content_topic_ancestor\"),\n",
    "        F.col('content')\n",
    "    )\n",
    "    \n",
    "    display(contents)\n",
    "\n",
    "    summaries[content_cluster] = process_contents(contents)\n",
    "\n",
    "    display(summaries[content_cluster])\n",
    "    \n",
    "\n",
    "[compute_layer(content_clusters, index) for [index, content_cluster] in enumerate(content_clusters)]"
   ]
  }
 ],
 "metadata": {
  "application/vnd.databricks.v1+notebook": {
   "dashboards": [],
   "environmentMetadata": null,
   "language": "python",
   "notebookMetadata": {
    "pythonIndentUnit": 4
   },
   "notebookName": "contenttopicsv2",
   "widgets": {
    "dataProjectId": {
     "currentValue": "PXzsFvigrVkPw8j1L6HN3",
     "nuid": "8133da12-0069-4fac-b42e-cf2968a34202",
     "typedWidgetInfo": null,
     "widgetInfo": {
      "defaultValue": "",
      "label": null,
      "name": "dataProjectId",
      "options": {
       "autoCreated": null,
       "validationRegex": null,
       "widgetType": "text"
      },
      "widgetType": "text"
     }
    },
    "importId": {
     "currentValue": "BFWLSHSVvVWLAjflg6vRJ",
     "nuid": "40960965-93c1-4965-9987-5476de435e54",
     "typedWidgetInfo": null,
     "widgetInfo": {
      "defaultValue": "",
      "label": null,
      "name": "importId",
      "options": {
       "autoCreated": null,
       "validationRegex": null,
       "widgetType": "text"
      },
      "widgetType": "text"
     }
    },
    "jobId": {
     "currentValue": "sLvNJYMShg6U7TkJr3PTZ",
     "nuid": "66b2e329-b3d9-4797-b672-9414d670b6f3",
     "typedWidgetInfo": null,
     "widgetInfo": {
      "defaultValue": "",
      "label": null,
      "name": "jobId",
      "options": {
       "autoCreated": null,
       "validationRegex": null,
       "widgetType": "text"
      },
      "widgetType": "text"
     }
    },
    "param_6": {
     "currentValue": "",
     "nuid": "869f8df0-a75c-40bb-9593-199c89d1988c",
     "typedWidgetInfo": null,
     "widgetInfo": {
      "defaultValue": "",
      "label": "",
      "name": "param_6",
      "options": {
       "autoCreated": false,
       "validationRegex": null,
       "widgetType": "text"
      },
      "widgetType": "text"
     }
    },
    "tenantId": {
     "currentValue": "root",
     "nuid": "e7c3fd95-8e8a-4492-8708-e6affb227b77",
     "typedWidgetInfo": null,
     "widgetInfo": {
      "defaultValue": "",
      "label": null,
      "name": "tenantId",
      "options": {
       "autoCreated": null,
       "validationRegex": null,
       "widgetType": "text"
      },
      "widgetType": "text"
     }
    },
    "workspaceId": {
     "currentValue": "root",
     "nuid": "d8c827c3-2dfa-490e-9f4b-131da195bebf",
     "typedWidgetInfo": null,
     "widgetInfo": {
      "defaultValue": "",
      "label": null,
      "name": "workspaceId",
      "options": {
       "autoCreated": null,
       "validationRegex": null,
       "widgetType": "text"
      },
      "widgetType": "text"
     }
    }
   }
  },
  "kernelspec": {
   "display_name": "Python 3 (ipykernel)",
   "language": "python",
   "name": "python3"
  },
  "language_info": {
   "codemirror_mode": {
    "name": "ipython",
    "version": 3
   },
   "file_extension": ".py",
   "mimetype": "text/x-python",
   "name": "python",
   "nbconvert_exporter": "python",
   "pygments_lexer": "ipython3",
   "version": "3.11.6"
  }
 },
 "nbformat": 4,
 "nbformat_minor": 4
}
