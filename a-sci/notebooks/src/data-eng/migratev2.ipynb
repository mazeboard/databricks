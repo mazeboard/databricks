{
 "cells": [
  {
   "cell_type": "code",
   "execution_count": null,
   "id": "6f189d7d",
   "metadata": {},
   "outputs": [],
   "source": [
    "import sys\n",
    "import os\n",
    "sys.path.append(os.path.abspath('../libs'))\n",
    "sys.path.append(os.path.abspath('../'))\n",
    "from init import spark\n",
    "from init import table_path\n",
    "\n",
    "spark.sql(f\"ALTER TABLE comp_content_clusterings ADD COLUMNS (content_topic_clusters INTEGER, content_topic_ancestor INTEGER)\")"
   ]
  },
  {
   "cell_type": "code",
   "execution_count": null,
   "id": "06bba641",
   "metadata": {},
   "outputs": [],
   "source": [
    "spark.sql(f\"ALTER TABLE comp_content_topics ADD COLUMNS (content_topic_clusters INTEGER, content_topic_ancestor INTEGER)\")"
   ]
  },
  {
   "cell_type": "code",
   "execution_count": null,
   "id": "2b5111f2",
   "metadata": {},
   "outputs": [],
   "source": [
    "from delta.tables import DeltaTable\n",
    "\n",
    "# Computed Tables\n",
    "(DeltaTable.createIfNotExists()\n",
    "    .tableName(f\"comp_content_embeddings\")\n",
    "    .location(f\"{table_path}/comp_content_embeddings\")\n",
    "    .addColumn(\"project_id\", dataType = \"STRING\")\n",
    "    .addColumn(\"content_group\", dataType = \"STRING\")\n",
    "    .addColumn(\"content_id\", dataType = \"STRING\")\n",
    "    .addColumn(\"dense\", dataType = \"ARRAY<INTEGER>\")\n",
    "    .clusterBy(\"project_id\", \"content_group\", \"content_id\")\n",
    "    .execute())"
   ]
  },
  {
   "cell_type": "code",
   "execution_count": null,
   "id": "b8a6eedc",
   "metadata": {},
   "outputs": [],
   "source": [
    "spark.sql(f\"ALTER TABLE comp_content_topic_dims ADD COLUMNS (content_topic_clusters INTEGER)\")"
   ]
  },
  {
   "cell_type": "code",
   "execution_count": null,
   "id": "502e0b5d",
   "metadata": {},
   "outputs": [],
   "source": [
    "spark.sql(f\"ALTER TABLE comp_content_dim_clusterings ADD COLUMNS (content_topic_clusters INTEGER)\")"
   ]
  },
  {
   "cell_type": "code",
   "execution_count": null,
   "id": "42d50748",
   "metadata": {},
   "outputs": [],
   "source": [
    "spark.sql(f\"ALTER TABLE comp_content_dim_content_topics ADD COLUMNS (content_topic_clusters INTEGER)\")"
   ]
  },
  {
   "cell_type": "code",
   "execution_count": null,
   "id": "511792ee",
   "metadata": {},
   "outputs": [],
   "source": [
    "spark.sql(f\"ALTER TABLE comp_content_terms ADD COLUMNS (content_topic_clusters INTEGER)\")"
   ]
  }
 ],
 "metadata": {},
 "nbformat": 4,
 "nbformat_minor": 5
}
