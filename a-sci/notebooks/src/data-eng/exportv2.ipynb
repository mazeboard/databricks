{
 "cells": [
  {
   "cell_type": "code",
   "execution_count": null,
   "id": "459de827",
   "metadata": {},
   "outputs": [],
   "source": [
    "# Databricks notebook source\n",
    "import sys\n",
    "import os\n",
    "\n",
    "sys.path.append(os.path.abspath('../libs'))\n",
    "sys.path.append(os.path.abspath('../'))\n",
    "from init import spark\n",
    "from IPython.display import display"
   ]
  },
  {
   "cell_type": "code",
   "execution_count": null,
   "id": "939c66b4",
   "metadata": {},
   "outputs": [],
   "source": [
    "from context import initialize_context\n",
    "\n",
    "context = initialize_context()\n",
    "\n",
    "(context)"
   ]
  },
  {
   "cell_type": "code",
   "execution_count": null,
   "id": "4f27c0a0",
   "metadata": {},
   "outputs": [],
   "source": [
    "from dataproject import DataProject\n",
    "data_project = DataProject(context[\"project_id\"])\n",
    "configuration = data_project.getConfiguration()"
   ]
  },
  {
   "cell_type": "code",
   "execution_count": null,
   "id": "9104255c",
   "metadata": {},
   "outputs": [],
   "source": [
    "content_topics_list = spark.sql(f\"\"\"\n",
    "    SELECT\n",
    "        uuid() as id, project_id, content_group, content_topic, content_topic_clusters, content_topic_ancestor,\n",
    "        description, topic_size, total_size\n",
    "    FROM  comp_content_topics\n",
    "    WHERE project_id='{context[\"project_id\"]}' AND content_group='{context[\"import_id\"]}'\n",
    "\"\"\")\n",
    "\n",
    "display(content_topics_list.count())\n",
    "content_topics_list.show(50,truncate=False)\n",
    "\n",
    "spark.sql(f\"\"\"\n",
    "    DELETE FROM data_project_content_topics\n",
    "    WHERE project_id='{context[\"project_id\"]}' AND\n",
    "          content_group='{context[\"import_id\"]}'\n",
    "\"\"\")\n",
    "\n",
    "content_topics_list.writeTo(\"data_project_content_topics\").using(\"delta\").append()"
   ]
  }
 ],
 "metadata": {},
 "nbformat": 4,
 "nbformat_minor": 5
}
