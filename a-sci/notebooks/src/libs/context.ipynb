{
 "cells": [
  {
   "cell_type": "code",
   "execution_count": null,
   "id": "fce55a31",
   "metadata": {},
   "outputs": [],
   "source": [
    "#from databricks.sdk.runtime import *\n",
    "\n",
    "def initialize_context():\n",
    "    #dbutils.widgets.text('tenantId', '')\n",
    "    #dbutils.widgets.text('workspaceId', '')\n",
    "    #dbutils.widgets.text('dataProjectId', '')\n",
    "    #dbutils.widgets.text('importId', '')\n",
    "    #dbutils.widgets.text('jobId', '')\n",
    "\n",
    "    #tenant_id = dbutils.widgets.get('tenantId')\n",
    "    #workspace_id = dbutils.widgets.get('workspaceId')\n",
    "    #project_id = dbutils.widgets.get('dataProjectId')\n",
    "    #import_id = dbutils.widgets.get('importId')\n",
    "    #job_id = dbutils.widgets.get('jobId')\n",
    "\n",
    "\n",
    "    return {\n",
    "        \"tenant_id\": 'root',\n",
    "        \"workspace_id\": 'root',\n",
    "        \"table_prefix\": '',\n",
    "        \"project_id\": 'project1',\n",
    "        \"import_id\": 'import1',\n",
    "        \"job_id\": 'job1'\n",
    "    }"
   ]
  }
 ],
 "metadata": {},
 "nbformat": 4,
 "nbformat_minor": 5
}
