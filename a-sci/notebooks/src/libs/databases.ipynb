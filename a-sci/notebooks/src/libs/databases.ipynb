{
 "cells": [
  {
   "cell_type": "code",
   "execution_count": null,
   "id": "8eb5805d",
   "metadata": {},
   "outputs": [],
   "source": [
    "import psycopg2\n",
    "from databricks.sdk.runtime import *\n",
    "\n",
    "driver = \"org.postgresql.Driver\"\n",
    "database_host = dbutils.secrets.get(scope=\"arlq-vault\", key=\"arlq-pg-host-secret\")\n",
    "database_port = \"5432\"\n",
    "user = dbutils.secrets.get(scope=\"arlq-vault\", key=\"arlq-pg-username-secret\")\n",
    "password = dbutils.secrets.get(scope=\"arlq-vault\", key=\"arlq-pg-pwd-secret\")\n",
    "\n",
    "def connection(database_name):\n",
    "    return psycopg2.connect(\n",
    "        host=database_host,\n",
    "        database=database_name,\n",
    "        user=user,\n",
    "        password=password,\n",
    "        sslmode=\"require\"\n",
    "    )"
   ]
  }
 ],
 "metadata": {},
 "nbformat": 4,
 "nbformat_minor": 5
}
