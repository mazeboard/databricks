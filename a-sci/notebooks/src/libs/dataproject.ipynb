{
 "cells": [
  {
   "cell_type": "code",
   "execution_count": null,
   "id": "f7db5f76",
   "metadata": {},
   "outputs": [],
   "source": [
    "class DataProject:\n",
    "\n",
    "    def __init__(self, id):\n",
    "        self.id = id\n",
    "\n",
    "    def getConfiguration(self):\n",
    "        return {'content_cluster_components': {'value': 2},\n",
    "            'content_clusters': {'value': 20},\n",
    "            'content_dim_components': {'value': 2},\n",
    "            'dimensions': {'value': [{'label': 'Username'},\n",
    "                {'label': 'Date'},\n",
    "                {'label': 'Lang'}]},\n",
    "            'file_format': {'value': {'encoding': 'UTF-8',\n",
    "                'delimiter': ';',\n",
    "                'quote': '\"',\n",
    "                'quoteEscape': '\"',\n",
    "                'escape': '\"'}},\n",
    "            'file_mapping': {'value': [{'type': 'text', 'input': 'text'},\n",
    "                {'type': 'text', 'input': 'original id'},\n",
    "                {'type': 'text', 'input': 'user'},\n",
    "                {'type': 'date', 'input': 'date', 'format': 'dd/MM/yyyy hh:mm'},\n",
    "                {'type': 'text', 'input': 'lang'}]},\n",
    "            'tags': {},\n",
    "            'term_black_list': {},\n",
    "            'topic_label_prompt': {'value': 'Summarize the content of the following list of sentences in French'},\n",
    "            'topic_medium_label_prompt': {'value': 'Summarize in a few words the subject of the following text in French'},\n",
    "            'topic_small_label_prompt': {'value': 'Summarize in maximum 5 words the following text in French'}}"
   ]
  }
 ],
 "metadata": {},
 "nbformat": 4,
 "nbformat_minor": 5
}
