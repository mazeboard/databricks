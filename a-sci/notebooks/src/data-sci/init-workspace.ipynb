{
 "cells": [
  {
   "cell_type": "code",
   "execution_count": null,
   "id": "ba1675bb",
   "metadata": {},
   "outputs": [],
   "source": [
    "# Databricks notebook source\n",
    "# MAGIC %pip install -U FlagEmbedding\n",
    "# MAGIC %pip install gritlm\n",
    "# MAGIC %pip install \"mlflow-skinny[databricks]>=2.4.1\""
   ]
  },
  {
   "cell_type": "code",
   "execution_count": null,
   "id": "40fc9d78",
   "metadata": {},
   "outputs": [],
   "source": [
    "dbutils.library.restartPython()"
   ]
  },
  {
   "cell_type": "code",
   "execution_count": null,
   "id": "96635cce",
   "metadata": {},
   "outputs": [],
   "source": [
    "dbutils.widgets.text('tenantId', '')\n",
    "dbutils.widgets.text('workspaceId', '')\n",
    "\n",
    "tenant_id = dbutils.widgets.get('tenantId')\n",
    "workspace_id = dbutils.widgets.get('workspaceId')"
   ]
  },
  {
   "cell_type": "code",
   "execution_count": null,
   "id": "7f919f08",
   "metadata": {},
   "outputs": [],
   "source": [
    "import pandas as pd\n",
    "import numpy as np\n",
    "import mlflow\n",
    "from mlflow.models import infer_signature\n",
    "\n",
    "from models.embedding import EmbeddingModel\n",
    "from models.summarize import SummarizeModel\n",
    "\n",
    "catalog = f\"tenant_{tenant_id}\"\n",
    "schema = f\"workspace_{workspace_id}\"\n",
    "model_name = \"default\"\n",
    "\n",
    "mlflow.set_experiment(f\"/Shared/data-sci/experiments/{model_name}\")\n",
    "mlflow.set_registry_uri(\"databricks-uc\")\n",
    "\n",
    "with mlflow.start_run():\n",
    "    embedding_signature = infer_signature(model_input=\"\", model_output=np.array([[1.0]]))\n",
    "    mlflow.pyfunc.log_model(\n",
    "        \"embedding\", python_model=EmbeddingModel(), pip_requirements=[\"FlagEmbedding\"], signature=embedding_signature\n",
    "    )\n",
    "\n",
    "    summarize_signature = infer_signature(\n",
    "        model_input={\n",
    "            'text': '',\n",
    "            'large_prompt': '',\n",
    "            'medium_prompt': '',\n",
    "            'small_prompt': ''\n",
    "        },\n",
    "        model_output={ 'large': '', 'medium': '', 'small': '' }\n",
    "    )\n",
    "    mlflow.pyfunc.log_model(\n",
    "        \"summarize\", python_model=SummarizeModel(), pip_requirements=[\"GritLM\"], signature=summarize_signature\n",
    "    )\n",
    "\n",
    "    run_id = mlflow.active_run().info.run_id\n",
    "    \n",
    "    mlflow.register_model(\n",
    "        model_uri=f\"runs:/{run_id}/embedding\",\n",
    "        name=f\"{catalog}.{schema}.{model_name}-embedding\"\n",
    "    )\n",
    "\n",
    "    mlflow.register_model(\n",
    "        model_uri=f\"runs:/{run_id}/summarize\",\n",
    "        name=f\"{catalog}.{schema}.{model_name}-summarize\"\n",
    "    )"
   ]
  }
 ],
 "metadata": {},
 "nbformat": 4,
 "nbformat_minor": 5
}
