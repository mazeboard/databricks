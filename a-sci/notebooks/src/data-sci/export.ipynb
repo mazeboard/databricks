{
 "cells": [
  {
   "cell_type": "code",
   "execution_count": null,
   "id": "0774adb9",
   "metadata": {},
   "outputs": [],
   "source": [
    "# Databricks notebook source\n",
    "#dbutils.library.restartPython()"
   ]
  },
  {
   "cell_type": "code",
   "execution_count": null,
   "id": "1fef1b6a",
   "metadata": {},
   "outputs": [],
   "source": [
    "import sys\n",
    "import os\n",
    "sys.path.append(os.path.abspath('../libs'))\n",
    "sys.path.append(os.path.abspath('../'))\n",
    "from init import spark\n",
    "from IPython.display import display"
   ]
  },
  {
   "cell_type": "code",
   "execution_count": null,
   "id": "cc7c5581",
   "metadata": {},
   "outputs": [],
   "source": [
    "from context import initialize_context\n",
    "\n",
    "context = initialize_context()\n",
    "\n",
    "(context)"
   ]
  },
  {
   "cell_type": "code",
   "execution_count": null,
   "id": "366a63f8",
   "metadata": {},
   "outputs": [],
   "source": [
    "from workspace import Workspace\n",
    "from dataproject import DataProject\n",
    "workspace = Workspace(context[\"workspace_id\"])\n",
    "data_project = DataProject(context[\"project_id\"])\n",
    "configuration = data_project.getConfiguration()\n",
    "\n",
    "configuration"
   ]
  },
  {
   "cell_type": "code",
   "execution_count": null,
   "id": "3d25485e",
   "metadata": {},
   "outputs": [],
   "source": [
    "from pyspark.sql.functions import expr\n",
    "\n",
    "content_topics_list = spark.sql(f\"\"\"\n",
    "    SELECT uuid() as id, project_id, content_group, content_topic, description, medium_description, small_description, topic_size, total_size\n",
    "    FROM  comp_content_topics\n",
    "    WHERE project_id='{context[\"project_id\"]}' AND content_group='{context[\"import_id\"]}'\n",
    "\"\"\").collect()\n",
    "\n",
    "data_project.export_content_topics(content_topics_list, context[\"import_id\"])\n",
    "\n",
    "display(content_topics_list)"
   ]
  },
  {
   "cell_type": "code",
   "execution_count": null,
   "id": "093b4e45",
   "metadata": {},
   "outputs": [],
   "source": [
    "workspace.progress(context['job_id'])"
   ]
  }
 ],
 "metadata": {},
 "nbformat": 4,
 "nbformat_minor": 5
}
