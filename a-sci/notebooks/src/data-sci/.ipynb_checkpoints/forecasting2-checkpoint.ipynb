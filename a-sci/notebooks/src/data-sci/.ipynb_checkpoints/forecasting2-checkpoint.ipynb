{
 "cells": [
  {
   "cell_type": "code",
   "execution_count": null,
   "id": "b54a3f5d",
   "metadata": {},
   "outputs": [],
   "source": [
    "# Databricks notebook source\n",
    "# MAGIC %pip install -U sktime"
   ]
  },
  {
   "cell_type": "code",
   "execution_count": 15,
   "id": "86205e28",
   "metadata": {},
   "outputs": [],
   "source": [
    "#dbutils.library.restartPython()"
   ]
  },
  {
   "cell_type": "code",
   "execution_count": 1,
   "id": "91baa1e8",
   "metadata": {},
   "outputs": [
    {
     "name": "stderr",
     "output_type": "stream",
     "text": [
      "24/09/06 15:28:21 WARN Utils: Your hostname, Ankbot resolves to a loopback address: 127.0.1.1; using 192.168.1.140 instead (on interface wlo1)\n",
      "24/09/06 15:28:21 WARN Utils: Set SPARK_LOCAL_IP if you need to bind to another address\n",
      "Ivy Default Cache set to: /home/taoufik/.ivy2/cache\n",
      "The jars for the packages stored in: /home/taoufik/.ivy2/jars\n",
      "io.delta#delta-spark_2.13 added as a dependency\n",
      ":: resolving dependencies :: org.apache.spark#spark-submit-parent-4f3c8302-18b1-471c-9db1-c7da948850fd;1.0\n",
      "\tconfs: [default]\n",
      "\tfound io.delta#delta-spark_2.13;3.2.0 in central\n",
      "\tfound io.delta#delta-storage;3.2.0 in central\n"
     ]
    },
    {
     "name": "stdout",
     "output_type": "stream",
     "text": [
      ":: loading settings :: url = jar:file:/opt/spark/jars/ivy-2.5.1.jar!/org/apache/ivy/core/settings/ivysettings.xml\n"
     ]
    },
    {
     "name": "stderr",
     "output_type": "stream",
     "text": [
      "\tfound org.antlr#antlr4-runtime;4.9.3 in local-m2-cache\n",
      ":: resolution report :: resolve 386ms :: artifacts dl 2ms\n",
      "\t:: modules in use:\n",
      "\tio.delta#delta-spark_2.13;3.2.0 from central in [default]\n",
      "\tio.delta#delta-storage;3.2.0 from central in [default]\n",
      "\torg.antlr#antlr4-runtime;4.9.3 from local-m2-cache in [default]\n",
      "\t---------------------------------------------------------------------\n",
      "\t|                  |            modules            ||   artifacts   |\n",
      "\t|       conf       | number| search|dwnlded|evicted|| number|dwnlded|\n",
      "\t---------------------------------------------------------------------\n",
      "\t|      default     |   3   |   1   |   1   |   0   ||   3   |   0   |\n",
      "\t---------------------------------------------------------------------\n",
      "\n",
      ":: problems summary ::\n",
      ":::: ERRORS\n",
      "\tunknown resolver null\n",
      "\n",
      "\n",
      ":: USE VERBOSE OR DEBUG MESSAGE LEVEL FOR MORE DETAILS\n",
      ":: retrieving :: org.apache.spark#spark-submit-parent-4f3c8302-18b1-471c-9db1-c7da948850fd\n",
      "\tconfs: [default]\n",
      "\t0 artifacts copied, 3 already retrieved (0kB/2ms)\n",
      "24/09/06 15:28:22 WARN NativeCodeLoader: Unable to load native-hadoop library for your platform... using builtin-java classes where applicable\n",
      "Setting default log level to \"WARN\".\n",
      "To adjust logging level use sc.setLogLevel(newLevel). For SparkR, use setLogLevel(newLevel).\n",
      "24/09/06 15:28:23 WARN SparkStringUtils: Truncated the string representation of a plan since it was too large. This behavior can be adjusted by setting 'spark.sql.debug.maxToStringFields'.\n"
     ]
    }
   ],
   "source": [
    "import sys\n",
    "import os\n",
    "sys.path.append(os.path.abspath('../libs'))\n",
    "sys.path.append(os.path.abspath('../'))\n",
    "from init import spark\n",
    "from init import sc\n",
    "from IPython.display import display"
   ]
  },
  {
   "cell_type": "code",
   "execution_count": 2,
   "id": "3ad94741",
   "metadata": {},
   "outputs": [
    {
     "data": {
      "text/plain": [
       "{'tenant_id': 'root',\n",
       " 'workspace_id': 'root',\n",
       " 'table_prefix': '',\n",
       " 'project_id': 'project1',\n",
       " 'import_id': 'import1',\n",
       " 'job_id': 'job1'}"
      ]
     },
     "execution_count": 2,
     "metadata": {},
     "output_type": "execute_result"
    }
   ],
   "source": [
    "from context import initialize_context\n",
    "\n",
    "context = initialize_context()\n",
    "\n",
    "(context)"
   ]
  },
  {
   "cell_type": "code",
   "execution_count": 3,
   "id": "1daf84bc",
   "metadata": {},
   "outputs": [
    {
     "data": {
      "text/plain": [
       "[20, 60, 180, 500]"
      ]
     },
     "execution_count": 3,
     "metadata": {},
     "output_type": "execute_result"
    }
   ],
   "source": [
    "#from workspace import Workspace\n",
    "from dataproject import DataProject\n",
    "#workspace = Workspace(context[\"workspace_id\"])\n",
    "data_project = DataProject(context[\"project_id\"])\n",
    "configuration = data_project.getConfiguration()\n",
    "\n",
    "content_clusters = [20, 60, 180, 500]\n",
    "\n",
    "(content_clusters)"
   ]
  },
  {
   "cell_type": "code",
   "execution_count": 4,
   "id": "61f06229",
   "metadata": {},
   "outputs": [],
   "source": [
    "import pandas as pd\n",
    "import numpy as np\n",
    "import traceback\n",
    "from pyspark.sql.functions import col, lit, to_number\n",
    "from functools import reduce\n",
    "from pyspark.sql import DataFrame\n",
    "import pyspark.sql.functions as F\n",
    "from pyspark.sql.types import ArrayType, StringType\n",
    "from pyspark.ml.functions import predict_batch_udf\n",
    "from pyspark.sql.types import ArrayType, StringType\n",
    "from pyspark.sql.functions import spark_partition_id, col\n",
    "from pyspark.sql.types import *\n",
    "from sktime.utils.plotting import plot_series\n",
    "from sktime.forecasting.arima import AutoARIMA\n",
    "from sktime.forecasting.ets import AutoETS\n",
    "from sktime.utils import plotting\n",
    "from sktime.forecasting.base import ForecastingHorizon\n",
    "from sktime.forecasting.trend import STLForecaster\n",
    "from sktime.split import temporal_train_test_split"
   ]
  },
  {
   "cell_type": "code",
   "execution_count": 5,
   "id": "5daebd0a",
   "metadata": {},
   "outputs": [
    {
     "name": "stderr",
     "output_type": "stream",
     "text": [
      "24/09/06 15:28:40 WARN GarbageCollectionMetrics: To enable non-built-in garbage collector(s) List(G1 Concurrent GC), users should configure it(them) to spark.eventLog.gcMetrics.youngGenerationGarbageCollectors or spark.eventLog.gcMetrics.oldGenerationGarbageCollectors\n",
      "                                                                                \r"
     ]
    },
    {
     "name": "stdout",
     "output_type": "stream",
     "text": [
      "+----------------------+-----+\n",
      "|content_topic_clusters|count|\n",
      "+----------------------+-----+\n",
      "|                     6|  473|\n",
      "|                    54|  670|\n",
      "|                   486|  800|\n",
      "|                   162|  720|\n",
      "|                    18|  584|\n",
      "+----------------------+-----+\n",
      "\n"
     ]
    },
    {
     "name": "stderr",
     "output_type": "stream",
     "text": [
      "[Stage 53:========================================>               (23 + 1) / 32]\r"
     ]
    },
    {
     "name": "stdout",
     "output_type": "stream",
     "text": [
      "+----------+-----+-----+\n",
      "|      time|class|count|\n",
      "+----------+-----+-----+\n",
      "|2023-05-28|    5|    1|\n",
      "|2023-02-27|    7|    2|\n",
      "|2023-08-26|    3|    1|\n",
      "|2023-08-15|    3|    1|\n",
      "|2023-01-21|    0|    4|\n",
      "|2023-05-28|    5|    1|\n",
      "|2023-01-21|    0|    4|\n",
      "|2023-09-06|    6|    1|\n",
      "|2023-03-24|    4|    1|\n",
      "|2023-10-31|    0|    1|\n",
      "|2023-01-31|    8|   22|\n",
      "|2023-01-31|    4|   24|\n",
      "|2023-02-01|    8|    5|\n",
      "|2023-07-12|    1|    3|\n",
      "|2023-01-27|    0|    6|\n",
      "|2023-07-11|    2|    8|\n",
      "|2023-03-29|    9|    1|\n",
      "|2023-07-12|    1|    1|\n",
      "|2023-11-11|    4|    1|\n",
      "|2023-03-02|   12|    1|\n",
      "+----------+-----+-----+\n",
      "only showing top 20 rows\n",
      "\n"
     ]
    },
    {
     "name": "stderr",
     "output_type": "stream",
     "text": [
      "                                                                                \r"
     ]
    }
   ],
   "source": [
    "# prepare data\n",
    "\n",
    "df = spark.sql(\"\"\"SELECT comp_content_clusterings.content_topic_clusters,\n",
    "  norm_content_dims.data_1,\n",
    "  comp_content_clusterings.content_topic,\n",
    "  COUNT(norm_contents.id) AS count\n",
    "FROM norm_content_dims\n",
    "JOIN norm_contents ON norm_content_dims.id = norm_contents.dim_2\n",
    "JOIN comp_content_clusterings ON norm_contents.id = comp_content_clusterings.content_id\n",
    "WHERE norm_contents.project_id = 'project1' AND\n",
    "      norm_content_dims.project_id = 'project1' AND\n",
    "      comp_content_clusterings.project_id = 'project1' AND\n",
    "      dimension = 2 \n",
    "GROUP BY content_topic_clusters, content_topic, data_1\"\"\")\n",
    "\n",
    "df.groupBy(\"content_topic_clusters\").count().show()\n",
    "\n",
    "data_df = df.select(col(\"data_1\").alias(\"time\"), col(\"content_topic\").alias(\"class\"), \"count\")\n",
    "data_df.show()"
   ]
  },
  {
   "cell_type": "code",
   "execution_count": 29,
   "id": "66bdb052-760f-4f94-a0b6-0dbe57f5fea6",
   "metadata": {},
   "outputs": [
    {
     "name": "stderr",
     "output_type": "stream",
     "text": [
      "                                                                                \r"
     ]
    },
    {
     "name": "stdout",
     "output_type": "stream",
     "text": [
      "*** forecast cluster:18\n"
     ]
    },
    {
     "name": "stderr",
     "output_type": "stream",
     "text": [
      "/home/taoufik/.local/lib/python3.11/site-packages/sktime/forecasting/base/adapters/_statsmodels.py:60: UserWarning: Warning: time series is not strictly positive, multiplicative components are omitted\n",
      "  self._fit_forecaster(y, X)\n",
      "/home/taoufik/.local/lib/python3.11/site-packages/sktime/forecasting/base/adapters/_statsmodels.py:60: UserWarning: Warning: time series is not strictly positive, multiplicative components are omitted\n",
      "  self._fit_forecaster(y, X)\n",
      "/home/taoufik/.local/lib/python3.11/site-packages/sktime/forecasting/base/adapters/_statsmodels.py:60: UserWarning: Warning: time series is not strictly positive, multiplicative components are omitted\n",
      "  self._fit_forecaster(y, X)\n",
      "/home/taoufik/.local/lib/python3.11/site-packages/sktime/forecasting/base/adapters/_statsmodels.py:60: UserWarning: Warning: time series is not strictly positive, multiplicative components are omitted\n",
      "  self._fit_forecaster(y, X)\n",
      "/home/taoufik/.local/lib/python3.11/site-packages/sktime/forecasting/base/adapters/_statsmodels.py:60: UserWarning: Warning: time series is not strictly positive, multiplicative components are omitted\n",
      "  self._fit_forecaster(y, X)\n",
      "/home/taoufik/.local/lib/python3.11/site-packages/sktime/forecasting/base/adapters/_statsmodels.py:60: UserWarning: Warning: time series is not strictly positive, multiplicative components are omitted\n",
      "  self._fit_forecaster(y, X)\n",
      "/home/taoufik/.local/lib/python3.11/site-packages/sktime/forecasting/base/adapters/_statsmodels.py:60: UserWarning: Warning: time series is not strictly positive, multiplicative components are omitted\n",
      "  self._fit_forecaster(y, X)\n",
      "/home/taoufik/.local/lib/python3.11/site-packages/sktime/forecasting/base/adapters/_statsmodels.py:60: UserWarning: Warning: time series is not strictly positive, multiplicative components are omitted\n",
      "  self._fit_forecaster(y, X)\n",
      "/home/taoufik/.local/lib/python3.11/site-packages/sktime/forecasting/base/adapters/_statsmodels.py:60: UserWarning: Warning: time series is not strictly positive, multiplicative components are omitted\n",
      "  self._fit_forecaster(y, X)\n",
      "/home/taoufik/.local/lib/python3.11/site-packages/sktime/forecasting/base/adapters/_statsmodels.py:60: UserWarning: Warning: time series is not strictly positive, multiplicative components are omitted\n",
      "  self._fit_forecaster(y, X)\n",
      "/home/taoufik/.local/lib/python3.11/site-packages/sktime/forecasting/base/adapters/_statsmodels.py:60: UserWarning: Warning: time series is not strictly positive, multiplicative components are omitted\n",
      "  self._fit_forecaster(y, X)\n",
      "/home/taoufik/.local/lib/python3.11/site-packages/sktime/forecasting/base/adapters/_statsmodels.py:60: UserWarning: Warning: time series is not strictly positive, multiplicative components are omitted\n",
      "  self._fit_forecaster(y, X)\n",
      "/home/taoufik/.local/lib/python3.11/site-packages/sktime/forecasting/base/adapters/_statsmodels.py:60: UserWarning: Warning: time series is not strictly positive, multiplicative components are omitted\n",
      "  self._fit_forecaster(y, X)\n",
      "/home/taoufik/.local/lib/python3.11/site-packages/sktime/forecasting/base/adapters/_statsmodels.py:60: UserWarning: Warning: time series is not strictly positive, multiplicative components are omitted\n",
      "  self._fit_forecaster(y, X)\n",
      "/home/taoufik/.local/lib/python3.11/site-packages/sktime/forecasting/base/adapters/_statsmodels.py:60: UserWarning: Warning: time series is not strictly positive, multiplicative components are omitted\n",
      "  self._fit_forecaster(y, X)\n",
      "/home/taoufik/.local/lib/python3.11/site-packages/sktime/forecasting/base/adapters/_statsmodels.py:60: UserWarning: Warning: time series is not strictly positive, multiplicative components are omitted\n",
      "  self._fit_forecaster(y, X)\n",
      "/home/taoufik/.local/lib/python3.11/site-packages/sktime/forecasting/base/adapters/_statsmodels.py:60: UserWarning: Warning: time series is not strictly positive, multiplicative components are omitted\n",
      "  self._fit_forecaster(y, X)\n",
      "/home/taoufik/.local/lib/python3.11/site-packages/sktime/forecasting/base/adapters/_statsmodels.py:60: UserWarning: Warning: time series is not strictly positive, multiplicative components are omitted\n",
      "  self._fit_forecaster(y, X)\n",
      "/home/taoufik/.local/lib/python3.11/site-packages/sktime/forecasting/base/adapters/_statsmodels.py:60: UserWarning: Warning: time series is not strictly positive, multiplicative components are omitted\n",
      "  self._fit_forecaster(y, X)\n",
      "/home/taoufik/.local/lib/python3.11/site-packages/sktime/forecasting/base/adapters/_statsmodels.py:60: UserWarning: Warning: time series is not strictly positive, multiplicative components are omitted\n",
      "  self._fit_forecaster(y, X)\n",
      "/home/taoufik/.local/lib/python3.11/site-packages/sktime/forecasting/base/adapters/_statsmodels.py:60: UserWarning: Warning: time series is not strictly positive, multiplicative components are omitted\n",
      "  self._fit_forecaster(y, X)\n",
      "/home/taoufik/.local/lib/python3.11/site-packages/sktime/forecasting/base/adapters/_statsmodels.py:60: UserWarning: Warning: time series is not strictly positive, multiplicative components are omitted\n",
      "  self._fit_forecaster(y, X)\n",
      "/home/taoufik/.local/lib/python3.11/site-packages/sktime/forecasting/base/adapters/_statsmodels.py:60: UserWarning: Warning: time series is not strictly positive, multiplicative components are omitted\n",
      "  self._fit_forecaster(y, X)\n",
      "/home/taoufik/.local/lib/python3.11/site-packages/sktime/forecasting/base/adapters/_statsmodels.py:60: UserWarning: Warning: time series is not strictly positive, multiplicative components are omitted\n",
      "  self._fit_forecaster(y, X)\n",
      "/home/taoufik/.local/lib/python3.11/site-packages/sktime/forecasting/base/adapters/_statsmodels.py:60: UserWarning: Warning: time series is not strictly positive, multiplicative components are omitted\n",
      "  self._fit_forecaster(y, X)\n",
      "/home/taoufik/.local/lib/python3.11/site-packages/sktime/forecasting/base/adapters/_statsmodels.py:60: UserWarning: Warning: time series is not strictly positive, multiplicative components are omitted\n",
      "  self._fit_forecaster(y, X)\n",
      "/home/taoufik/.local/lib/python3.11/site-packages/sktime/forecasting/base/adapters/_statsmodels.py:60: UserWarning: Warning: time series is not strictly positive, multiplicative components are omitted\n",
      "  self._fit_forecaster(y, X)\n",
      "/home/taoufik/.local/lib/python3.11/site-packages/sktime/forecasting/base/adapters/_statsmodels.py:60: UserWarning: Warning: time series is not strictly positive, multiplicative components are omitted\n",
      "  self._fit_forecaster(y, X)\n",
      "/home/taoufik/.local/lib/python3.11/site-packages/sktime/forecasting/base/adapters/_statsmodels.py:60: UserWarning: Warning: time series is not strictly positive, multiplicative components are omitted\n",
      "  self._fit_forecaster(y, X)\n",
      "/home/taoufik/.local/lib/python3.11/site-packages/sktime/forecasting/base/adapters/_statsmodels.py:60: UserWarning: Warning: time series is not strictly positive, multiplicative components are omitted\n",
      "  self._fit_forecaster(y, X)\n",
      "/home/taoufik/.local/lib/python3.11/site-packages/sktime/forecasting/base/adapters/_statsmodels.py:60: UserWarning: Warning: time series is not strictly positive, multiplicative components are omitted\n",
      "  self._fit_forecaster(y, X)\n",
      "/home/taoufik/.local/lib/python3.11/site-packages/sktime/forecasting/base/adapters/_statsmodels.py:60: UserWarning: Warning: time series is not strictly positive, multiplicative components are omitted\n",
      "  self._fit_forecaster(y, X)\n",
      "/home/taoufik/.local/lib/python3.11/site-packages/sktime/forecasting/base/adapters/_statsmodels.py:60: UserWarning: Warning: time series is not strictly positive, multiplicative components are omitted\n",
      "  self._fit_forecaster(y, X)\n",
      "/home/taoufik/.local/lib/python3.11/site-packages/sktime/forecasting/base/adapters/_statsmodels.py:60: UserWarning: Warning: time series is not strictly positive, multiplicative components are omitted\n",
      "  self._fit_forecaster(y, X)\n",
      "/home/taoufik/.local/lib/python3.11/site-packages/sktime/forecasting/base/adapters/_statsmodels.py:60: UserWarning: Warning: time series is not strictly positive, multiplicative components are omitted\n",
      "  self._fit_forecaster(y, X)\n",
      "/home/taoufik/.local/lib/python3.11/site-packages/sktime/forecasting/base/adapters/_statsmodels.py:60: UserWarning: Warning: time series is not strictly positive, multiplicative components are omitted\n",
      "  self._fit_forecaster(y, X)\n",
      "/home/taoufik/.local/lib/python3.11/site-packages/sktime/forecasting/base/adapters/_statsmodels.py:60: UserWarning: Warning: time series is not strictly positive, multiplicative components are omitted\n",
      "  self._fit_forecaster(y, X)\n",
      "/home/taoufik/.local/lib/python3.11/site-packages/sktime/forecasting/base/adapters/_statsmodels.py:60: UserWarning: Warning: time series is not strictly positive, multiplicative components are omitted\n",
      "  self._fit_forecaster(y, X)\n",
      "/home/taoufik/.local/lib/python3.11/site-packages/sktime/forecasting/base/adapters/_statsmodels.py:60: UserWarning: Warning: time series is not strictly positive, multiplicative components are omitted\n",
      "  self._fit_forecaster(y, X)\n",
      "/home/taoufik/.local/lib/python3.11/site-packages/sktime/forecasting/base/adapters/_statsmodels.py:60: UserWarning: Warning: time series is not strictly positive, multiplicative components are omitted\n",
      "  self._fit_forecaster(y, X)\n",
      "/home/taoufik/.local/lib/python3.11/site-packages/sktime/forecasting/base/adapters/_statsmodels.py:60: UserWarning: Warning: time series is not strictly positive, multiplicative components are omitted\n",
      "  self._fit_forecaster(y, X)\n",
      "/home/taoufik/.local/lib/python3.11/site-packages/sktime/forecasting/base/adapters/_statsmodels.py:60: UserWarning: Warning: time series is not strictly positive, multiplicative components are omitted\n",
      "  self._fit_forecaster(y, X)\n",
      "/home/taoufik/.local/lib/python3.11/site-packages/sktime/forecasting/base/adapters/_statsmodels.py:60: UserWarning: Warning: time series is not strictly positive, multiplicative components are omitted\n",
      "  self._fit_forecaster(y, X)\n",
      "/home/taoufik/.local/lib/python3.11/site-packages/sktime/forecasting/base/adapters/_statsmodels.py:60: UserWarning: Warning: time series is not strictly positive, multiplicative components are omitted\n",
      "  self._fit_forecaster(y, X)\n",
      "/home/taoufik/.local/lib/python3.11/site-packages/sktime/forecasting/base/adapters/_statsmodels.py:60: UserWarning: Warning: time series is not strictly positive, multiplicative components are omitted\n",
      "  self._fit_forecaster(y, X)\n",
      "/home/taoufik/.local/lib/python3.11/site-packages/sktime/forecasting/base/adapters/_statsmodels.py:60: UserWarning: Warning: time series is not strictly positive, multiplicative components are omitted\n",
      "  self._fit_forecaster(y, X)\n",
      "/home/taoufik/.local/lib/python3.11/site-packages/sktime/forecasting/base/adapters/_statsmodels.py:60: UserWarning: Warning: time series is not strictly positive, multiplicative components are omitted\n",
      "  self._fit_forecaster(y, X)\n",
      "/home/taoufik/.local/lib/python3.11/site-packages/sktime/forecasting/base/adapters/_statsmodels.py:60: UserWarning: Warning: time series is not strictly positive, multiplicative components are omitted\n",
      "  self._fit_forecaster(y, X)\n",
      "/home/taoufik/.local/lib/python3.11/site-packages/sktime/forecasting/base/adapters/_statsmodels.py:60: UserWarning: Warning: time series is not strictly positive, multiplicative components are omitted\n",
      "  self._fit_forecaster(y, X)\n",
      "/home/taoufik/.local/lib/python3.11/site-packages/sktime/forecasting/base/adapters/_statsmodels.py:60: UserWarning: Warning: time series is not strictly positive, multiplicative components are omitted\n",
      "  self._fit_forecaster(y, X)\n"
     ]
    },
    {
     "data": {
      "image/png": "[encoded data removed]",
      "text/plain": [
       "<Figure size 1600x400 with 1 Axes>"
      ]
     },
     "metadata": {},
     "output_type": "display_data"
    }
   ],
   "source": [
    "def forecastAndPlot(data, cluster, class_to_plot):\n",
    "    print(f\"*** forecast cluster:{cluster}\")\n",
    "    data = data.groupby('class').filter(lambda x: len(x) >= 20)\n",
    "    forecaster = AutoETS(auto = True) #AutoETS(sp = 7, error = \"add\", trend = None, seasonal = \"add\")  #Model\n",
    "    pred = forecaster.fit(data, fh=fh).predict() # Point forecast\n",
    "    pred_ints = forecaster.predict_interval(coverage=0.9) # Prediction intervals\n",
    "    fig, ax = plotting.plot_series(\n",
    "        data.xs(class_to_plot, level='class'), pred.xs(class_to_plot, level='class'), \n",
    "        labels=[\"Data\", \"Forecast\"],\n",
    "        pred_interval=pred_ints.xs(class_to_plot, level='class')\n",
    "    )\n",
    "    ax.legend();\n",
    "\n",
    "data = data_df.filter(col(\"content_topic_clusters\") == cluster).orderBy(\"time\").toPandas()\n",
    "data['time'] = pd.to_datetime(data['time'], format=\"%Y-%m-%d\") # On déclare le format date\n",
    "data = data.set_index('time').groupby('class').resample('D').asfreq() # On génère les dates manquantes\n",
    "data = data.drop(columns = 'class') # On drop la colonne class qui est maintenant en index\n",
    "data = data.fillna(0) # On remplit les dates manquantes avec des zéros\n",
    "forecastAndPlot(data, 18, 3)"
   ]
  },
  {
   "cell_type": "code",
   "execution_count": null,
   "id": "fd8e00ca-253c-4c6f-8ed7-146494950be7",
   "metadata": {},
   "outputs": [
    {
     "name": "stderr",
     "output_type": "stream",
     "text": [
      "                                                                                \r"
     ]
    },
    {
     "name": "stdout",
     "output_type": "stream",
     "text": [
      "[6, 54, 486, 162, 18]\n",
      "2157\n",
      "*** forecast cluster:6\n"
     ]
    },
    {
     "name": "stderr",
     "output_type": "stream",
     "text": [
      "/home/taoufik/.local/lib/python3.11/site-packages/sktime/forecasting/base/adapters/_statsmodels.py:60: UserWarning: Warning: time series is not strictly positive, multiplicative components are omitted\n",
      "  self._fit_forecaster(y, X)\n",
      "/home/taoufik/.local/lib/python3.11/site-packages/sktime/forecasting/base/adapters/_statsmodels.py:60: UserWarning: Warning: time series is not strictly positive, multiplicative components are omitted\n",
      "  self._fit_forecaster(y, X)\n",
      "/home/taoufik/.local/lib/python3.11/site-packages/sktime/forecasting/base/adapters/_statsmodels.py:60: UserWarning: Warning: time series is not strictly positive, multiplicative components are omitted\n",
      "  self._fit_forecaster(y, X)\n",
      "/home/taoufik/.local/lib/python3.11/site-packages/sktime/forecasting/base/adapters/_statsmodels.py:60: UserWarning: Warning: time series is not strictly positive, multiplicative components are omitted\n",
      "  self._fit_forecaster(y, X)\n",
      "/home/taoufik/.local/lib/python3.11/site-packages/sktime/forecasting/base/adapters/_statsmodels.py:60: UserWarning: Warning: time series is not strictly positive, multiplicative components are omitted\n",
      "  self._fit_forecaster(y, X)\n",
      "/home/taoufik/.local/lib/python3.11/site-packages/sktime/forecasting/base/adapters/_statsmodels.py:60: UserWarning: Warning: time series is not strictly positive, multiplicative components are omitted\n",
      "  self._fit_forecaster(y, X)\n",
      "                                                                                \r"
     ]
    }
   ],
   "source": [
    "fh = np.arange(1, 10) # Forecasting Horizon, should depend on size of data used to do the forecast\n",
    "\n",
    "def forecast(data, cluster):\n",
    "    print(f\"*** forecast cluster:{cluster}\")\n",
    "    try:\n",
    "        spark.sql(f\"\"\"\n",
    "            DELETE FROM comp_content_time_series\n",
    "            WHERE project_id='{context[\"project_id\"]}' AND\n",
    "                  content_group='{context[\"import_id\"]}' AND\n",
    "                  content_topic_clusters={cluster}\n",
    "        \"\"\")\n",
    "        data = data.groupby('class').filter(lambda x: len(x) >= 20)\n",
    "        forecaster = AutoETS(initialization_method='heuristic', auto = True) \n",
    "                    #AutoETS(sp = 7, error = \"add\", trend = None, seasonal = \"add\")  #Model\n",
    "        pred = forecaster.fit(data, fh=fh).predict() # Point forecast\n",
    "        pred_ints = forecaster.predict_interval(coverage=0.9) # Prediction intervals\n",
    "    \n",
    "        data_spark = spark.createDataFrame(data.reset_index()) \\\n",
    "            .withColumn(\"lower_count\", lit(None)) \\\n",
    "            .withColumn(\"upper_count\", lit(None)) \\\n",
    "            .filter(col(\"count\") != 0.0) # not needed, all this data were added to correctly do the predictions\n",
    "        \n",
    "        pred_spark = spark.createDataFrame(pred.reset_index())\n",
    "        pred_ints_spark = spark.createDataFrame(pred_ints.reset_index()) \\\n",
    "            .withColumnRenamed(\"('class', '', '')\", \"class\") \\\n",
    "            .withColumnRenamed(\"('time', '', '')\", \"time\") \\\n",
    "            .withColumnRenamed(\"('count', 0.9, 'lower')\", \"lower_count\") \\\n",
    "            .withColumnRenamed(\"('count', 0.9, 'upper')\", \"upper_count\") \\\n",
    "        \n",
    "        result_df = data_spark.union(pred_spark.join(pred_ints_spark, on=['class', 'time'], how='left'))\n",
    "        result_df = result_df \\\n",
    "            .withColumn(\"forecast_model\", lit(\"AutoETS\")) \\\n",
    "            .withColumn(\"project_id\", lit(context[\"project_id\"])) \\\n",
    "            .withColumn(\"content_group\", lit(context[\"import_id\"])) \\\n",
    "            .withColumn(\"dimension\", lit(2)) \\\n",
    "            .withColumn(\"content_topic_clusters\", lit(cluster)) \\\n",
    "            .withColumnRenamed(\"class\", \"content_topic\") \\\n",
    "            .withColumn(\"content_topic\", col(\"content_topic\").cast(IntegerType())) \\\n",
    "            .withColumnRenamed(\"time\", \"date\") \\\n",
    "            .withColumn(\"date\", col(\"date\").cast(StringType())) \\\n",
    "            .withColumn(\"count\", col(\"count\").cast(IntegerType())) \\\n",
    "            .withColumn(\"lower_count\", col(\"lower_count\").cast(IntegerType())) \\\n",
    "            .withColumn(\"upper_count\", col(\"upper_count\").cast(IntegerType()))\n",
    "        result_df.writeTo(f\"\"\"comp_content_time_series\"\"\").using(\"delta\").append()\n",
    "    except Exception as err:\n",
    "        print(\"error\", err)\n",
    "        traceback.print_exc()\n",
    "\n",
    "clusters = [row['content_topic_clusters'] for row in df.select(\"content_topic_clusters\").distinct().collect()]\n",
    "print(clusters)\n",
    "for cluster in clusters:\n",
    "    data = data_df.filter(col(\"content_topic_clusters\") == cluster).orderBy(\"time\").toPandas()\n",
    "    data['time'] = pd.to_datetime(data['time'], format=\"%Y-%m-%d\") # On déclare le format date\n",
    "    data = data.set_index('time').groupby('class').resample('D').asfreq() # On génère les dates manquantes\n",
    "    data = data.drop(columns = 'class') # On drop la colonne class qui est maintenant en index\n",
    "    data = data.fillna(0) # On remplit les dates manquantes avec des zéros\n",
    "    forecast(data, cluster)"
   ]
  },
  {
   "cell_type": "code",
   "execution_count": 37,
   "id": "658ef88c-2f3e-4be6-8a60-5224157fb075",
   "metadata": {},
   "outputs": [
    {
     "name": "stdout",
     "output_type": "stream",
     "text": [
      "+----------------------+--------+\n",
      "|content_topic_clusters|count(1)|\n",
      "+----------------------+--------+\n",
      "|                     6|     527|\n",
      "|                    18|     746|\n",
      "|                    54|    1145|\n",
      "|                   162|    1327|\n",
      "|                   486|     800|\n",
      "+----------------------+--------+\n",
      "\n"
     ]
    },
    {
     "name": "stderr",
     "output_type": "stream",
     "text": [
      "                                                                                \r"
     ]
    }
   ],
   "source": [
    "spark.sql(f\"\"\"SELECT content_topic_clusters,count(*) FROM comp_content_time_series\n",
    "            WHERE project_id='{context[\"project_id\"]}' AND\n",
    "                  content_group='{context[\"import_id\"]}'\n",
    "            GROUP BY content_topic_clusters\n",
    "            order by content_topic_clusters\n",
    "        \"\"\").show()"
   ]
  }
 ],
 "metadata": {
  "kernelspec": {
   "display_name": "Python 3 (ipykernel)",
   "language": "python",
   "name": "python3"
  },
  "language_info": {
   "codemirror_mode": {
    "name": "ipython",
    "version": 3
   },
   "file_extension": ".py",
   "mimetype": "text/x-python",
   "name": "python",
   "nbconvert_exporter": "python",
   "pygments_lexer": "ipython3",
   "version": "3.11.6"
  }
 },
 "nbformat": 4,
 "nbformat_minor": 5
}
