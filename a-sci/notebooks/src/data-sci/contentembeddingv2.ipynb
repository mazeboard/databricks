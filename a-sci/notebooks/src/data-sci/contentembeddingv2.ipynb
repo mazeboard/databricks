{
 "cells": [
  {
   "cell_type": "code",
   "execution_count": null,
   "id": "68da16bb",
   "metadata": {},
   "outputs": [],
   "source": [
    "# Databricks notebook source\n",
    "# MAGIC %pip install --upgrade --upgrade-strategy eager \"optimum[ipex]\"\n",
    "# MAGIC %pip install sentence_transformers"
   ]
  },
  {
   "cell_type": "code",
   "execution_count": null,
   "id": "5131b4dc",
   "metadata": {},
   "outputs": [],
   "source": [
    "import sys\n",
    "import os\n",
    "import time\n",
    "\n",
    "import numpy as np\n",
    "from sentence_transformers import SentenceTransformer\n",
    "sys.path.append(os.path.abspath('../libs'))\n",
    "sys.path.append(os.path.abspath('../'))\n",
    "from init import spark\n",
    "from init import sc\n",
    "from IPython.display import display\n",
    "from pyspark.sql import functions as F\n",
    "from pyspark.sql import Window"
   ]
  },
  {
   "cell_type": "code",
   "execution_count": null,
   "id": "50350ce8",
   "metadata": {},
   "outputs": [],
   "source": [
    "from context import initialize_context\n",
    "\n",
    "context = initialize_context()\n",
    "\n",
    "(context)"
   ]
  },
  {
   "cell_type": "code",
   "execution_count": null,
   "id": "15ac4ba3",
   "metadata": {},
   "outputs": [],
   "source": [
    "from dataproject import DataProject\n",
    "data_project = DataProject(context[\"project_id\"])\n",
    "configuration = data_project.getConfiguration()\n",
    "#data_project_import = data_project.getImport(context['import_id'])\n",
    "\n",
    "display(configuration)"
   ]
  },
  {
   "cell_type": "code",
   "execution_count": null,
   "id": "67d78d4e",
   "metadata": {},
   "outputs": [],
   "source": [
    "contents = spark.sql(f\"\"\"SELECT * FROM norm_contents WHERE project_id='{context[\"project_id\"]}' AND content_group='{context[\"import_id\"]}'\"\"\")\n",
    "\n",
    "display(contents.limit(50))\n",
    "display(contents.count())"
   ]
  },
  {
   "cell_type": "code",
   "execution_count": null,
   "id": "64864dda",
   "metadata": {},
   "outputs": [],
   "source": [
    "from pyspark.ml.functions import predict_batch_udf\n",
    "from pyspark.sql.types import ArrayType, IntegerType\n",
    "from pyspark.sql.functions import col\n",
    "from pyspark.sql.types import ArrayType\n",
    "\n",
    "#sc.setCheckpointDir('/home/taoufik/workspace/arlequin/checkpoints')\n",
    "\n",
    "def embed_fn():\n",
    "    from sentence_transformers import SentenceTransformer\n",
    "    m = SentenceTransformer('BAAI/bge-m3')\n",
    "    def predict(inputs):\n",
    "        return m.encode(inputs,batch_size=16,show_progress_bar=True,precision=\"binary\",device=\"cpu\")\n",
    "    \n",
    "    return predict\n",
    "\n",
    "\n",
    "embed_udf = predict_batch_udf(embed_fn,\n",
    "                              return_type=ArrayType(IntegerType()),\n",
    "                              batch_size=1024)\n",
    "\n",
    "start_time = time.time()  # Start timing the encoding\n",
    "\n",
    "embeddings =  contents.repartition(64).withColumn(\"embedding\", embed_udf(\"content\")) #.checkpoint()\n",
    "\n",
    "spark.sql(f\"\"\"\n",
    "    DELETE FROM comp_content_embeddings\n",
    "    WHERE project_id='{context[\"project_id\"]}' AND\n",
    "          content_group='{context[\"import_id\"]}'\n",
    "\"\"\")\n",
    "\n",
    "\n",
    "final = embeddings.select(\n",
    "    col(\"project_id\"),\n",
    "    col(\"content_group\"),\n",
    "    col(\"id\").alias(\"content_id\"),\n",
    "    col(\"embedding\").alias(\"dense\")\n",
    ")\n",
    "\n",
    "final.show(truncate=False)\n",
    "\n",
    "#final.write.parquet(\"/home/taoufik/workspace/arlequin/embeddings\", mode=\"overwrite\")\n",
    "final.writeTo(f\"\"\"comp_content_embeddings\"\"\").using(\"delta\").append()\n",
    "\n",
    "end_time = time.time()  # End timing the encoding\n",
    "elapsed_time = end_time - start_time  # Calculate the time taken for this row\n",
    "print(f'***** Time: {elapsed_time:.4f} seconds')\n",
    "\n",
    "display(final)"
   ]
  }
 ],
 "metadata": {
  "kernelspec": {
   "display_name": "Python 3 (ipykernel)",
   "language": "python",
   "name": "python3"
  },
  "language_info": {
   "codemirror_mode": {
    "name": "ipython",
    "version": 3
   },
   "file_extension": ".py",
   "mimetype": "text/x-python",
   "name": "python",
   "nbconvert_exporter": "python",
   "pygments_lexer": "ipython3",
   "version": "3.11.6"
  }
 },
 "nbformat": 4,
 "nbformat_minor": 5
}
