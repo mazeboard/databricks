{
 "cells": [
  {
   "cell_type": "code",
   "execution_count": null,
   "id": "0cb1cc73",
   "metadata": {},
   "outputs": [],
   "source": [
    "import mlflow\n",
    "\n",
    "class EmbeddingModel(mlflow.pyfunc.PythonModel):\n",
    "    def load_context(self, context):\n",
    "        from FlagEmbedding import BGEM3FlagModel\n",
    "        self.model = BGEM3FlagModel('BAAI/bge-m3', use_fp16=True)\n",
    "\n",
    "    def predict(self, context, model_input):\n",
    "        return self.model.encode(model_input, return_dense=True)[\"dense_vecs\"]"
   ]
  }
 ],
 "metadata": {},
 "nbformat": 4,
 "nbformat_minor": 5
}
